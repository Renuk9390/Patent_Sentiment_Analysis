{
  "nbformat": 4,
  "nbformat_minor": 0,
  "metadata": {
    "colab": {
      "name": "NBSVM_PATENT_ANNOTATION.ipynb",
      "provenance": []
    },
    "kernelspec": {
      "name": "python3",
      "display_name": "Python 3"
    },
    "language_info": {
      "name": "python"
    }
  },
  "cells": [
    {
      "cell_type": "code",
      "metadata": {
        "id": "kMo7kKdVxuEZ"
      },
      "source": [
        "import numpy as np\n",
        "import pandas as pd\n",
        "from sklearn.utils import shuffle"
      ],
      "execution_count": 1,
      "outputs": []
    },
    {
      "cell_type": "code",
      "metadata": {
        "colab": {
          "base_uri": "https://localhost:8080/"
        },
        "id": "zjELk5J0x1fy",
        "outputId": "2070b747-597b-4355-a7b3-212e198132e3"
      },
      "source": [
        "!pip install ktrain"
      ],
      "execution_count": 2,
      "outputs": [
        {
          "output_type": "stream",
          "text": [
            "Requirement already satisfied: ktrain in /usr/local/lib/python3.7/dist-packages (0.27.2)\n",
            "Requirement already satisfied: matplotlib>=3.0.0 in /usr/local/lib/python3.7/dist-packages (from ktrain) (3.2.2)\n",
            "Requirement already satisfied: seqeval==0.0.19 in /usr/local/lib/python3.7/dist-packages (from ktrain) (0.0.19)\n",
            "Requirement already satisfied: chardet in /usr/local/lib/python3.7/dist-packages (from ktrain) (3.0.4)\n",
            "Requirement already satisfied: fastprogress>=0.1.21 in /usr/local/lib/python3.7/dist-packages (from ktrain) (1.0.0)\n",
            "Requirement already satisfied: langdetect in /usr/local/lib/python3.7/dist-packages (from ktrain) (1.0.9)\n",
            "Requirement already satisfied: sentencepiece in /usr/local/lib/python3.7/dist-packages (from ktrain) (0.1.96)\n",
            "Requirement already satisfied: packaging in /usr/local/lib/python3.7/dist-packages (from ktrain) (21.0)\n",
            "Requirement already satisfied: syntok in /usr/local/lib/python3.7/dist-packages (from ktrain) (1.3.1)\n",
            "Requirement already satisfied: cchardet in /usr/local/lib/python3.7/dist-packages (from ktrain) (2.1.7)\n",
            "Requirement already satisfied: scikit-learn==0.23.2 in /usr/local/lib/python3.7/dist-packages (from ktrain) (0.23.2)\n",
            "Requirement already satisfied: jieba in /usr/local/lib/python3.7/dist-packages (from ktrain) (0.42.1)\n",
            "Requirement already satisfied: requests in /usr/local/lib/python3.7/dist-packages (from ktrain) (2.23.0)\n",
            "Requirement already satisfied: whoosh in /usr/local/lib/python3.7/dist-packages (from ktrain) (2.7.4)\n",
            "Requirement already satisfied: pandas>=1.0.1 in /usr/local/lib/python3.7/dist-packages (from ktrain) (1.1.5)\n",
            "Requirement already satisfied: transformers<=4.3.3,>=4.0.0 in /usr/local/lib/python3.7/dist-packages (from ktrain) (4.3.3)\n",
            "Requirement already satisfied: networkx>=2.3 in /usr/local/lib/python3.7/dist-packages (from ktrain) (2.6.2)\n",
            "Requirement already satisfied: joblib in /usr/local/lib/python3.7/dist-packages (from ktrain) (1.0.1)\n",
            "Requirement already satisfied: ipython in /usr/local/lib/python3.7/dist-packages (from ktrain) (5.5.0)\n",
            "Requirement already satisfied: keras-bert>=0.86.0 in /usr/local/lib/python3.7/dist-packages (from ktrain) (0.88.0)\n",
            "Requirement already satisfied: scipy>=0.19.1 in /usr/local/lib/python3.7/dist-packages (from scikit-learn==0.23.2->ktrain) (1.4.1)\n",
            "Requirement already satisfied: threadpoolctl>=2.0.0 in /usr/local/lib/python3.7/dist-packages (from scikit-learn==0.23.2->ktrain) (2.2.0)\n",
            "Requirement already satisfied: numpy>=1.13.3 in /usr/local/lib/python3.7/dist-packages (from scikit-learn==0.23.2->ktrain) (1.19.5)\n",
            "Requirement already satisfied: Keras>=2.2.4 in /usr/local/lib/python3.7/dist-packages (from seqeval==0.0.19->ktrain) (2.4.3)\n",
            "Requirement already satisfied: pyyaml in /usr/local/lib/python3.7/dist-packages (from Keras>=2.2.4->seqeval==0.0.19->ktrain) (3.13)\n",
            "Requirement already satisfied: h5py in /usr/local/lib/python3.7/dist-packages (from Keras>=2.2.4->seqeval==0.0.19->ktrain) (3.1.0)\n",
            "Requirement already satisfied: keras-transformer>=0.39.0 in /usr/local/lib/python3.7/dist-packages (from keras-bert>=0.86.0->ktrain) (0.39.0)\n",
            "Requirement already satisfied: keras-position-wise-feed-forward>=0.7.0 in /usr/local/lib/python3.7/dist-packages (from keras-transformer>=0.39.0->keras-bert>=0.86.0->ktrain) (0.7.0)\n",
            "Requirement already satisfied: keras-multi-head>=0.28.0 in /usr/local/lib/python3.7/dist-packages (from keras-transformer>=0.39.0->keras-bert>=0.86.0->ktrain) (0.28.0)\n",
            "Requirement already satisfied: keras-pos-embd>=0.12.0 in /usr/local/lib/python3.7/dist-packages (from keras-transformer>=0.39.0->keras-bert>=0.86.0->ktrain) (0.12.0)\n",
            "Requirement already satisfied: keras-layer-normalization>=0.15.0 in /usr/local/lib/python3.7/dist-packages (from keras-transformer>=0.39.0->keras-bert>=0.86.0->ktrain) (0.15.0)\n",
            "Requirement already satisfied: keras-embed-sim>=0.9.0 in /usr/local/lib/python3.7/dist-packages (from keras-transformer>=0.39.0->keras-bert>=0.86.0->ktrain) (0.9.0)\n",
            "Requirement already satisfied: keras-self-attention>=0.50.0 in /usr/local/lib/python3.7/dist-packages (from keras-multi-head>=0.28.0->keras-transformer>=0.39.0->keras-bert>=0.86.0->ktrain) (0.50.0)\n",
            "Requirement already satisfied: kiwisolver>=1.0.1 in /usr/local/lib/python3.7/dist-packages (from matplotlib>=3.0.0->ktrain) (1.3.1)\n",
            "Requirement already satisfied: cycler>=0.10 in /usr/local/lib/python3.7/dist-packages (from matplotlib>=3.0.0->ktrain) (0.10.0)\n",
            "Requirement already satisfied: pyparsing!=2.0.4,!=2.1.2,!=2.1.6,>=2.0.1 in /usr/local/lib/python3.7/dist-packages (from matplotlib>=3.0.0->ktrain) (2.4.7)\n",
            "Requirement already satisfied: python-dateutil>=2.1 in /usr/local/lib/python3.7/dist-packages (from matplotlib>=3.0.0->ktrain) (2.8.2)\n",
            "Requirement already satisfied: six in /usr/local/lib/python3.7/dist-packages (from cycler>=0.10->matplotlib>=3.0.0->ktrain) (1.15.0)\n",
            "Requirement already satisfied: pytz>=2017.2 in /usr/local/lib/python3.7/dist-packages (from pandas>=1.0.1->ktrain) (2018.9)\n",
            "Requirement already satisfied: regex!=2019.12.17 in /usr/local/lib/python3.7/dist-packages (from transformers<=4.3.3,>=4.0.0->ktrain) (2019.12.20)\n",
            "Requirement already satisfied: importlib-metadata in /usr/local/lib/python3.7/dist-packages (from transformers<=4.3.3,>=4.0.0->ktrain) (4.6.3)\n",
            "Requirement already satisfied: tokenizers<0.11,>=0.10.1 in /usr/local/lib/python3.7/dist-packages (from transformers<=4.3.3,>=4.0.0->ktrain) (0.10.3)\n",
            "Requirement already satisfied: filelock in /usr/local/lib/python3.7/dist-packages (from transformers<=4.3.3,>=4.0.0->ktrain) (3.0.12)\n",
            "Requirement already satisfied: tqdm>=4.27 in /usr/local/lib/python3.7/dist-packages (from transformers<=4.3.3,>=4.0.0->ktrain) (4.62.0)\n",
            "Requirement already satisfied: sacremoses in /usr/local/lib/python3.7/dist-packages (from transformers<=4.3.3,>=4.0.0->ktrain) (0.0.45)\n",
            "Requirement already satisfied: cached-property in /usr/local/lib/python3.7/dist-packages (from h5py->Keras>=2.2.4->seqeval==0.0.19->ktrain) (1.5.2)\n",
            "Requirement already satisfied: typing-extensions>=3.6.4 in /usr/local/lib/python3.7/dist-packages (from importlib-metadata->transformers<=4.3.3,>=4.0.0->ktrain) (3.7.4.3)\n",
            "Requirement already satisfied: zipp>=0.5 in /usr/local/lib/python3.7/dist-packages (from importlib-metadata->transformers<=4.3.3,>=4.0.0->ktrain) (3.5.0)\n",
            "Requirement already satisfied: prompt-toolkit<2.0.0,>=1.0.4 in /usr/local/lib/python3.7/dist-packages (from ipython->ktrain) (1.0.18)\n",
            "Requirement already satisfied: simplegeneric>0.8 in /usr/local/lib/python3.7/dist-packages (from ipython->ktrain) (0.8.1)\n",
            "Requirement already satisfied: decorator in /usr/local/lib/python3.7/dist-packages (from ipython->ktrain) (4.4.2)\n",
            "Requirement already satisfied: pygments in /usr/local/lib/python3.7/dist-packages (from ipython->ktrain) (2.6.1)\n",
            "Requirement already satisfied: pickleshare in /usr/local/lib/python3.7/dist-packages (from ipython->ktrain) (0.7.5)\n",
            "Requirement already satisfied: traitlets>=4.2 in /usr/local/lib/python3.7/dist-packages (from ipython->ktrain) (5.0.5)\n",
            "Requirement already satisfied: setuptools>=18.5 in /usr/local/lib/python3.7/dist-packages (from ipython->ktrain) (57.2.0)\n",
            "Requirement already satisfied: pexpect in /usr/local/lib/python3.7/dist-packages (from ipython->ktrain) (4.8.0)\n",
            "Requirement already satisfied: wcwidth in /usr/local/lib/python3.7/dist-packages (from prompt-toolkit<2.0.0,>=1.0.4->ipython->ktrain) (0.2.5)\n",
            "Requirement already satisfied: ipython-genutils in /usr/local/lib/python3.7/dist-packages (from traitlets>=4.2->ipython->ktrain) (0.2.0)\n",
            "Requirement already satisfied: ptyprocess>=0.5 in /usr/local/lib/python3.7/dist-packages (from pexpect->ipython->ktrain) (0.7.0)\n",
            "Requirement already satisfied: idna<3,>=2.5 in /usr/local/lib/python3.7/dist-packages (from requests->ktrain) (2.10)\n",
            "Requirement already satisfied: urllib3!=1.25.0,!=1.25.1,<1.26,>=1.21.1 in /usr/local/lib/python3.7/dist-packages (from requests->ktrain) (1.24.3)\n",
            "Requirement already satisfied: certifi>=2017.4.17 in /usr/local/lib/python3.7/dist-packages (from requests->ktrain) (2021.5.30)\n",
            "Requirement already satisfied: click in /usr/local/lib/python3.7/dist-packages (from sacremoses->transformers<=4.3.3,>=4.0.0->ktrain) (7.1.2)\n"
          ],
          "name": "stdout"
        }
      ]
    },
    {
      "cell_type": "code",
      "metadata": {
        "id": "Ia7corITx7_N"
      },
      "source": [
        "import ktrain\n",
        "from ktrain import text"
      ],
      "execution_count": 3,
      "outputs": []
    },
    {
      "cell_type": "markdown",
      "metadata": {
        "id": "RJ_f8C09yMqg"
      },
      "source": [
        "# Importing dataset"
      ]
    },
    {
      "cell_type": "code",
      "metadata": {
        "id": "ZMgyKaaayL00"
      },
      "source": [
        "pos_text_target = pd.read_csv('/content/drive/MyDrive/dataset_patent/text_target/pos_text_target.csv',index_col= False)\n",
        "neg_text_target = pd.read_csv('/content/drive/MyDrive/dataset_patent/text_target/neg_text_target.csv',index_col= False)\n",
        "neut_text_target = pd.read_csv('/content/drive/MyDrive/dataset_patent/text_target/neut_text_target.csv',index_col= False)"
      ],
      "execution_count": 5,
      "outputs": []
    },
    {
      "cell_type": "code",
      "metadata": {
        "colab": {
          "base_uri": "https://localhost:8080/"
        },
        "id": "ernA-S5-yWmD",
        "outputId": "8dc37c39-2a49-4374-bbd5-c41b4d735dae"
      },
      "source": [
        "# Chcking sahpe of dataframe before preprocessing\n",
        "print(pos_text_target.shape)\n",
        "print(neg_text_target.shape)\n",
        "print(neut_text_target.shape)"
      ],
      "execution_count": 6,
      "outputs": [
        {
          "output_type": "stream",
          "text": [
            "(65967, 2)\n",
            "(89105, 2)\n",
            "(63055, 2)\n"
          ],
          "name": "stdout"
        }
      ]
    },
    {
      "cell_type": "code",
      "metadata": {
        "colab": {
          "base_uri": "https://localhost:8080/"
        },
        "id": "O1hmn3UBypCh",
        "outputId": "b510f41f-fb05-4b9e-ff2c-733d87524029"
      },
      "source": [
        "# Checking null values in the table\n",
        "print(pos_text_target.isnull().values.any())\n",
        "print(neg_text_target.isnull().values.any())\n",
        "print(neut_text_target.isnull().values.any())"
      ],
      "execution_count": 7,
      "outputs": [
        {
          "output_type": "stream",
          "text": [
            "True\n",
            "True\n",
            "True\n"
          ],
          "name": "stdout"
        }
      ]
    },
    {
      "cell_type": "code",
      "metadata": {
        "id": "zTTWlSjsytGB"
      },
      "source": [
        "# Dropping null values \n",
        "pos_text_target.dropna(axis = 0, inplace=True)\n",
        "neg_text_target.dropna(axis = 0, inplace=True)\n",
        "neut_text_target.dropna(axis = 0, inplace=True)"
      ],
      "execution_count": 8,
      "outputs": []
    },
    {
      "cell_type": "code",
      "metadata": {
        "colab": {
          "base_uri": "https://localhost:8080/"
        },
        "id": "JfwA4U7-yvdB",
        "outputId": "8b15ad28-0b2b-4b85-d787-e43b7eb19755"
      },
      "source": [
        "# Checking shape of frame after dropping null values \n",
        "print(pos_text_target.shape)\n",
        "print(neg_text_target.shape)\n",
        "print(neut_text_target.shape)"
      ],
      "execution_count": 9,
      "outputs": [
        {
          "output_type": "stream",
          "text": [
            "(65933, 2)\n",
            "(89030, 2)\n",
            "(62958, 2)\n"
          ],
          "name": "stdout"
        }
      ]
    },
    {
      "cell_type": "markdown",
      "metadata": {
        "id": "wE27Np9qzl-3"
      },
      "source": [
        "## Looking into neutral dataset"
      ]
    },
    {
      "cell_type": "code",
      "metadata": {
        "colab": {
          "base_uri": "https://localhost:8080/",
          "height": 419
        },
        "id": "5d5OA7QGzwwl",
        "outputId": "4b7936ad-a915-475e-e528-e1d81c887ec0"
      },
      "source": [
        "neut_text_target[neut_text_target.duplicated('text')]"
      ],
      "execution_count": 14,
      "outputs": [
        {
          "output_type": "execute_result",
          "data": {
            "text/html": [
              "<div>\n",
              "<style scoped>\n",
              "    .dataframe tbody tr th:only-of-type {\n",
              "        vertical-align: middle;\n",
              "    }\n",
              "\n",
              "    .dataframe tbody tr th {\n",
              "        vertical-align: top;\n",
              "    }\n",
              "\n",
              "    .dataframe thead th {\n",
              "        text-align: right;\n",
              "    }\n",
              "</style>\n",
              "<table border=\"1\" class=\"dataframe\">\n",
              "  <thead>\n",
              "    <tr style=\"text-align: right;\">\n",
              "      <th></th>\n",
              "      <th>text</th>\n",
              "      <th>target</th>\n",
              "    </tr>\n",
              "  </thead>\n",
              "  <tbody>\n",
              "    <tr>\n",
              "      <th>239</th>\n",
              "      <td>In order to solve the above-described problems...</td>\n",
              "      <td>0</td>\n",
              "    </tr>\n",
              "    <tr>\n",
              "      <th>755</th>\n",
              "      <td>The present inventors have conducted diligent ...</td>\n",
              "      <td>0</td>\n",
              "    </tr>\n",
              "    <tr>\n",
              "      <th>819</th>\n",
              "      <td>A transmission device of the present invention...</td>\n",
              "      <td>0</td>\n",
              "    </tr>\n",
              "    <tr>\n",
              "      <th>877</th>\n",
              "      <td>A fan according to an aspect of the present in...</td>\n",
              "      <td>0</td>\n",
              "    </tr>\n",
              "    <tr>\n",
              "      <th>1206</th>\n",
              "      <td>In the case with a grommet with its cylindrica...</td>\n",
              "      <td>0</td>\n",
              "    </tr>\n",
              "    <tr>\n",
              "      <th>...</th>\n",
              "      <td>...</td>\n",
              "      <td>...</td>\n",
              "    </tr>\n",
              "    <tr>\n",
              "      <th>63037</th>\n",
              "      <td>According to a first aspect of the present inv...</td>\n",
              "      <td>0</td>\n",
              "    </tr>\n",
              "    <tr>\n",
              "      <th>63040</th>\n",
              "      <td>In a first aspect, a radio terminal that is us...</td>\n",
              "      <td>0</td>\n",
              "    </tr>\n",
              "    <tr>\n",
              "      <th>63041</th>\n",
              "      <td>Embodiments of the present disclosure provide ...</td>\n",
              "      <td>0</td>\n",
              "    </tr>\n",
              "    <tr>\n",
              "      <th>63044</th>\n",
              "      <td>In order to solve the above-described problems...</td>\n",
              "      <td>0</td>\n",
              "    </tr>\n",
              "    <tr>\n",
              "      <th>63050</th>\n",
              "      <td>In accordance with an aspect of the present in...</td>\n",
              "      <td>0</td>\n",
              "    </tr>\n",
              "  </tbody>\n",
              "</table>\n",
              "<p>4915 rows × 2 columns</p>\n",
              "</div>"
            ],
            "text/plain": [
              "                                                    text  target\n",
              "239    In order to solve the above-described problems...       0\n",
              "755    The present inventors have conducted diligent ...       0\n",
              "819    A transmission device of the present invention...       0\n",
              "877    A fan according to an aspect of the present in...       0\n",
              "1206   In the case with a grommet with its cylindrica...       0\n",
              "...                                                  ...     ...\n",
              "63037  According to a first aspect of the present inv...       0\n",
              "63040  In a first aspect, a radio terminal that is us...       0\n",
              "63041  Embodiments of the present disclosure provide ...       0\n",
              "63044  In order to solve the above-described problems...       0\n",
              "63050  In accordance with an aspect of the present in...       0\n",
              "\n",
              "[4915 rows x 2 columns]"
            ]
          },
          "metadata": {
            "tags": []
          },
          "execution_count": 14
        }
      ]
    },
    {
      "cell_type": "code",
      "metadata": {
        "colab": {
          "base_uri": "https://localhost:8080/",
          "height": 69
        },
        "id": "dep53dnlz2-k",
        "outputId": "1074c62c-4172-4e2f-dbe7-ea0258411244"
      },
      "source": [
        "neut_text_target['text'][239]"
      ],
      "execution_count": 15,
      "outputs": [
        {
          "output_type": "execute_result",
          "data": {
            "application/vnd.google.colaboratory.intrinsic+json": {
              "type": "string"
            },
            "text/plain": [
              "\"In order to solve the above-described problems, a method of producing a composite reinforcing material of the present invention comprises a step of kneading at least a graphite-based carbon material and a reinforcing material into a base material,', 'the graphite-based carbon material having a rhombohedral graphite layer (3R) and a hexagonal graphite layer (2H), wherein a Rate (3R) of the rhombohedral graphite layer (3R) and the hexagonal graphite layer (2H), based on an X-ray diffraction method, which is defined by following Equation 1 is 31% or more:\""
            ]
          },
          "metadata": {
            "tags": []
          },
          "execution_count": 15
        }
      ]
    },
    {
      "cell_type": "code",
      "metadata": {
        "colab": {
          "base_uri": "https://localhost:8080/",
          "height": 142
        },
        "id": "LVjUFpuBz8Q_",
        "outputId": "a2346da5-6f02-43e7-a31d-1b1f84884017"
      },
      "source": [
        "neut_text_target[neut_text_target['text']==\"In order to solve the above-described problems, a method of producing a composite reinforcing material of the present invention comprises a step of kneading at least a graphite-based carbon material and a reinforcing material into a base material,', 'the graphite-based carbon material having a rhombohedral graphite layer (3R) and a hexagonal graphite layer (2H), wherein a Rate (3R) of the rhombohedral graphite layer (3R) and the hexagonal graphite layer (2H), based on an X-ray diffraction method, which is defined by following Equation 1 is 31% or more:\"]"
      ],
      "execution_count": 16,
      "outputs": [
        {
          "output_type": "execute_result",
          "data": {
            "text/html": [
              "<div>\n",
              "<style scoped>\n",
              "    .dataframe tbody tr th:only-of-type {\n",
              "        vertical-align: middle;\n",
              "    }\n",
              "\n",
              "    .dataframe tbody tr th {\n",
              "        vertical-align: top;\n",
              "    }\n",
              "\n",
              "    .dataframe thead th {\n",
              "        text-align: right;\n",
              "    }\n",
              "</style>\n",
              "<table border=\"1\" class=\"dataframe\">\n",
              "  <thead>\n",
              "    <tr style=\"text-align: right;\">\n",
              "      <th></th>\n",
              "      <th>text</th>\n",
              "      <th>target</th>\n",
              "    </tr>\n",
              "  </thead>\n",
              "  <tbody>\n",
              "    <tr>\n",
              "      <th>238</th>\n",
              "      <td>In order to solve the above-described problems...</td>\n",
              "      <td>0</td>\n",
              "    </tr>\n",
              "    <tr>\n",
              "      <th>239</th>\n",
              "      <td>In order to solve the above-described problems...</td>\n",
              "      <td>0</td>\n",
              "    </tr>\n",
              "    <tr>\n",
              "      <th>59911</th>\n",
              "      <td>In order to solve the above-described problems...</td>\n",
              "      <td>0</td>\n",
              "    </tr>\n",
              "  </tbody>\n",
              "</table>\n",
              "</div>"
            ],
            "text/plain": [
              "                                                    text  target\n",
              "238    In order to solve the above-described problems...       0\n",
              "239    In order to solve the above-described problems...       0\n",
              "59911  In order to solve the above-described problems...       0"
            ]
          },
          "metadata": {
            "tags": []
          },
          "execution_count": 16
        }
      ]
    },
    {
      "cell_type": "code",
      "metadata": {
        "colab": {
          "base_uri": "https://localhost:8080/"
        },
        "id": "yfKvLJ4r0AkI",
        "outputId": "2b32e926-0d0c-4e4c-b9d6-5f7a5f906bb4"
      },
      "source": [
        "# Removing duplicated rows \n",
        "neut_text_target.drop_duplicates(keep='first',inplace=True)\n",
        "print(neut_text_target.shape)"
      ],
      "execution_count": 17,
      "outputs": [
        {
          "output_type": "stream",
          "text": [
            "(58043, 2)\n"
          ],
          "name": "stdout"
        }
      ]
    },
    {
      "cell_type": "code",
      "metadata": {
        "id": "M6ciSZK50-X6"
      },
      "source": [
        "# Choosing randomly 50K samples for furthre processing \n",
        "neut_text_target_rs = neut_text_target.sample(n=50000, random_state=1)"
      ],
      "execution_count": 22,
      "outputs": []
    },
    {
      "cell_type": "markdown",
      "metadata": {
        "id": "znJkeZ0_zQZH"
      },
      "source": [
        "## Looking into positive dataset"
      ]
    },
    {
      "cell_type": "code",
      "metadata": {
        "colab": {
          "base_uri": "https://localhost:8080/",
          "height": 419
        },
        "id": "-bhT4xYJyyg4",
        "outputId": "d292a8f6-b498-42ef-c794-60b32da80d9a"
      },
      "source": [
        "# Checking wether there is duplicate values or not\n",
        "pos_text_target[pos_text_target.duplicated('text')]"
      ],
      "execution_count": 10,
      "outputs": [
        {
          "output_type": "execute_result",
          "data": {
            "text/html": [
              "<div>\n",
              "<style scoped>\n",
              "    .dataframe tbody tr th:only-of-type {\n",
              "        vertical-align: middle;\n",
              "    }\n",
              "\n",
              "    .dataframe tbody tr th {\n",
              "        vertical-align: top;\n",
              "    }\n",
              "\n",
              "    .dataframe thead th {\n",
              "        text-align: right;\n",
              "    }\n",
              "</style>\n",
              "<table border=\"1\" class=\"dataframe\">\n",
              "  <thead>\n",
              "    <tr style=\"text-align: right;\">\n",
              "      <th></th>\n",
              "      <th>text</th>\n",
              "      <th>target</th>\n",
              "    </tr>\n",
              "  </thead>\n",
              "  <tbody>\n",
              "    <tr>\n",
              "      <th>180</th>\n",
              "      <td>The heat-absorbing glass plate of the present ...</td>\n",
              "      <td>1</td>\n",
              "    </tr>\n",
              "    <tr>\n",
              "      <th>229</th>\n",
              "      <td>The present invention can provide a surface-en...</td>\n",
              "      <td>1</td>\n",
              "    </tr>\n",
              "    <tr>\n",
              "      <th>406</th>\n",
              "      <td>The present invention can process data accordi...</td>\n",
              "      <td>1</td>\n",
              "    </tr>\n",
              "    <tr>\n",
              "      <th>464</th>\n",
              "      <td>The present invention can provide a surface-en...</td>\n",
              "      <td>1</td>\n",
              "    </tr>\n",
              "    <tr>\n",
              "      <th>543</th>\n",
              "      <td>According to the above, mechanical characteris...</td>\n",
              "      <td>1</td>\n",
              "    </tr>\n",
              "    <tr>\n",
              "      <th>...</th>\n",
              "      <td>...</td>\n",
              "      <td>...</td>\n",
              "    </tr>\n",
              "    <tr>\n",
              "      <th>65954</th>\n",
              "      <td>An information communication method disclosed ...</td>\n",
              "      <td>1</td>\n",
              "    </tr>\n",
              "    <tr>\n",
              "      <th>65956</th>\n",
              "      <td>An embodiment of the present invention provide...</td>\n",
              "      <td>1</td>\n",
              "    </tr>\n",
              "    <tr>\n",
              "      <th>65958</th>\n",
              "      <td>According to a method of deriving a merge cand...</td>\n",
              "      <td>1</td>\n",
              "    </tr>\n",
              "    <tr>\n",
              "      <th>65959</th>\n",
              "      <td>According to a method of deriving a merge cand...</td>\n",
              "      <td>1</td>\n",
              "    </tr>\n",
              "    <tr>\n",
              "      <th>65960</th>\n",
              "      <td>According to the present invention, there can ...</td>\n",
              "      <td>1</td>\n",
              "    </tr>\n",
              "  </tbody>\n",
              "</table>\n",
              "<p>6827 rows × 2 columns</p>\n",
              "</div>"
            ],
            "text/plain": [
              "                                                    text  target\n",
              "180    The heat-absorbing glass plate of the present ...       1\n",
              "229    The present invention can provide a surface-en...       1\n",
              "406    The present invention can process data accordi...       1\n",
              "464    The present invention can provide a surface-en...       1\n",
              "543    According to the above, mechanical characteris...       1\n",
              "...                                                  ...     ...\n",
              "65954  An information communication method disclosed ...       1\n",
              "65956  An embodiment of the present invention provide...       1\n",
              "65958  According to a method of deriving a merge cand...       1\n",
              "65959  According to a method of deriving a merge cand...       1\n",
              "65960  According to the present invention, there can ...       1\n",
              "\n",
              "[6827 rows x 2 columns]"
            ]
          },
          "metadata": {
            "tags": []
          },
          "execution_count": 10
        }
      ]
    },
    {
      "cell_type": "code",
      "metadata": {
        "colab": {
          "base_uri": "https://localhost:8080/",
          "height": 69
        },
        "id": "z-IoSYUOy4CZ",
        "outputId": "4d675b45-ebf5-4b3c-86ba-2d90ae820cf7"
      },
      "source": [
        "pos_text_target['text'][180]"
      ],
      "execution_count": 11,
      "outputs": [
        {
          "output_type": "execute_result",
          "data": {
            "application/vnd.google.colaboratory.intrinsic+json": {
              "type": "string"
            },
            "text/plain": [
              "'The heat-absorbing glass plate of the present invention satisfies both low solar transmittance and high visible light transmittance. Particularly, according to the present invention, it is possible to obtain a heat-absorbing glass having a ratio Tv/Te of the visible light transmittance higher than conventional glass, relative to the amount of total iron t-Fe2O3 as calculated as Fe2O3 as represented by mass % based on oxides.'"
            ]
          },
          "metadata": {
            "tags": []
          },
          "execution_count": 11
        }
      ]
    },
    {
      "cell_type": "code",
      "metadata": {
        "colab": {
          "base_uri": "https://localhost:8080/",
          "height": 111
        },
        "id": "LVv0qmndy-Ux",
        "outputId": "542c97c6-d14a-4474-c7aa-ead09d5441a7"
      },
      "source": [
        "# Finding rows having same text data\n",
        "pos_text_target[pos_text_target['text']=='The heat-absorbing glass plate of the present invention satisfies both low solar transmittance and high visible light transmittance. Particularly, according to the present invention, it is possible to obtain a heat-absorbing glass having a ratio Tv/Te of the visible light transmittance higher than conventional glass, relative to the amount of total iron t-Fe2O3 as calculated as Fe2O3 as represented by mass % based on oxides.']"
      ],
      "execution_count": 12,
      "outputs": [
        {
          "output_type": "execute_result",
          "data": {
            "text/html": [
              "<div>\n",
              "<style scoped>\n",
              "    .dataframe tbody tr th:only-of-type {\n",
              "        vertical-align: middle;\n",
              "    }\n",
              "\n",
              "    .dataframe tbody tr th {\n",
              "        vertical-align: top;\n",
              "    }\n",
              "\n",
              "    .dataframe thead th {\n",
              "        text-align: right;\n",
              "    }\n",
              "</style>\n",
              "<table border=\"1\" class=\"dataframe\">\n",
              "  <thead>\n",
              "    <tr style=\"text-align: right;\">\n",
              "      <th></th>\n",
              "      <th>text</th>\n",
              "      <th>target</th>\n",
              "    </tr>\n",
              "  </thead>\n",
              "  <tbody>\n",
              "    <tr>\n",
              "      <th>179</th>\n",
              "      <td>The heat-absorbing glass plate of the present ...</td>\n",
              "      <td>1</td>\n",
              "    </tr>\n",
              "    <tr>\n",
              "      <th>180</th>\n",
              "      <td>The heat-absorbing glass plate of the present ...</td>\n",
              "      <td>1</td>\n",
              "    </tr>\n",
              "  </tbody>\n",
              "</table>\n",
              "</div>"
            ],
            "text/plain": [
              "                                                  text  target\n",
              "179  The heat-absorbing glass plate of the present ...       1\n",
              "180  The heat-absorbing glass plate of the present ...       1"
            ]
          },
          "metadata": {
            "tags": []
          },
          "execution_count": 12
        }
      ]
    },
    {
      "cell_type": "code",
      "metadata": {
        "colab": {
          "base_uri": "https://localhost:8080/"
        },
        "id": "6cyIPEvwzBah",
        "outputId": "b8ccf36b-7ed6-41c2-e9ca-4542b387cbcd"
      },
      "source": [
        "# Removing duplicated rows and printing shape\n",
        "pos_text_target.drop_duplicates(keep='first',inplace=True)\n",
        "print(pos_text_target.shape)"
      ],
      "execution_count": 13,
      "outputs": [
        {
          "output_type": "stream",
          "text": [
            "(59106, 2)\n"
          ],
          "name": "stdout"
        }
      ]
    },
    {
      "cell_type": "code",
      "metadata": {
        "id": "l6wwpil517AL"
      },
      "source": [
        "# Choosing randomly 50K samples for furthre processing \n",
        "pos_text_target_rs = pos_text_target.sample(n=50000, random_state=1)"
      ],
      "execution_count": 23,
      "outputs": []
    },
    {
      "cell_type": "markdown",
      "metadata": {
        "id": "_eYz-1vF0JyL"
      },
      "source": [
        "## Looking into negative dataset "
      ]
    },
    {
      "cell_type": "code",
      "metadata": {
        "colab": {
          "base_uri": "https://localhost:8080/",
          "height": 419
        },
        "id": "MvRVSOLVzEzI",
        "outputId": "870cdb87-03ca-4b61-a6bb-6a6edec56d5d"
      },
      "source": [
        "# Checking wether there is duplicate values or not\n",
        "neg_text_target[neg_text_target.duplicated('text')]"
      ],
      "execution_count": 18,
      "outputs": [
        {
          "output_type": "execute_result",
          "data": {
            "text/html": [
              "<div>\n",
              "<style scoped>\n",
              "    .dataframe tbody tr th:only-of-type {\n",
              "        vertical-align: middle;\n",
              "    }\n",
              "\n",
              "    .dataframe tbody tr th {\n",
              "        vertical-align: top;\n",
              "    }\n",
              "\n",
              "    .dataframe thead th {\n",
              "        text-align: right;\n",
              "    }\n",
              "</style>\n",
              "<table border=\"1\" class=\"dataframe\">\n",
              "  <thead>\n",
              "    <tr style=\"text-align: right;\">\n",
              "      <th></th>\n",
              "      <th>text</th>\n",
              "      <th>target</th>\n",
              "    </tr>\n",
              "  </thead>\n",
              "  <tbody>\n",
              "    <tr>\n",
              "      <th>310</th>\n",
              "      <td>However, the methods disclosed in Patent Liter...</td>\n",
              "      <td>-1</td>\n",
              "    </tr>\n",
              "    <tr>\n",
              "      <th>467</th>\n",
              "      <td>An aspect of the present invention provides a ...</td>\n",
              "      <td>-1</td>\n",
              "    </tr>\n",
              "    <tr>\n",
              "      <th>469</th>\n",
              "      <td>An object of the present invention is to provi...</td>\n",
              "      <td>-1</td>\n",
              "    </tr>\n",
              "    <tr>\n",
              "      <th>647</th>\n",
              "      <td>An object of the present invention is to provi...</td>\n",
              "      <td>-1</td>\n",
              "    </tr>\n",
              "    <tr>\n",
              "      <th>725</th>\n",
              "      <td>It is therefore an object of the present inven...</td>\n",
              "      <td>-1</td>\n",
              "    </tr>\n",
              "    <tr>\n",
              "      <th>...</th>\n",
              "      <td>...</td>\n",
              "      <td>...</td>\n",
              "    </tr>\n",
              "    <tr>\n",
              "      <th>89086</th>\n",
              "      <td>An object of the present invention is to provi...</td>\n",
              "      <td>-1</td>\n",
              "    </tr>\n",
              "    <tr>\n",
              "      <th>89090</th>\n",
              "      <td>The present invention has been made in effort ...</td>\n",
              "      <td>-1</td>\n",
              "    </tr>\n",
              "    <tr>\n",
              "      <th>89091</th>\n",
              "      <td>However, according to the technique described ...</td>\n",
              "      <td>-1</td>\n",
              "    </tr>\n",
              "    <tr>\n",
              "      <th>89095</th>\n",
              "      <td>In the LAA, when an unallocated frequency band...</td>\n",
              "      <td>-1</td>\n",
              "    </tr>\n",
              "    <tr>\n",
              "      <th>89100</th>\n",
              "      <td>The present invention has been made in an effo...</td>\n",
              "      <td>-1</td>\n",
              "    </tr>\n",
              "  </tbody>\n",
              "</table>\n",
              "<p>9499 rows × 2 columns</p>\n",
              "</div>"
            ],
            "text/plain": [
              "                                                    text  target\n",
              "310    However, the methods disclosed in Patent Liter...      -1\n",
              "467    An aspect of the present invention provides a ...      -1\n",
              "469    An object of the present invention is to provi...      -1\n",
              "647    An object of the present invention is to provi...      -1\n",
              "725    It is therefore an object of the present inven...      -1\n",
              "...                                                  ...     ...\n",
              "89086  An object of the present invention is to provi...      -1\n",
              "89090  The present invention has been made in effort ...      -1\n",
              "89091  However, according to the technique described ...      -1\n",
              "89095  In the LAA, when an unallocated frequency band...      -1\n",
              "89100  The present invention has been made in an effo...      -1\n",
              "\n",
              "[9499 rows x 2 columns]"
            ]
          },
          "metadata": {
            "tags": []
          },
          "execution_count": 18
        }
      ]
    },
    {
      "cell_type": "code",
      "metadata": {
        "colab": {
          "base_uri": "https://localhost:8080/",
          "height": 86
        },
        "id": "aKs4ljtd0e1l",
        "outputId": "6b20be82-2dfa-42b3-8f74-a57605857df8"
      },
      "source": [
        "neg_text_target['text'][467]"
      ],
      "execution_count": 19,
      "outputs": [
        {
          "output_type": "execute_result",
          "data": {
            "application/vnd.google.colaboratory.intrinsic+json": {
              "type": "string"
            },
            "text/plain": [
              "\"An aspect of the present invention provides a method and apparatus for encoding an image, which can improve image compression efficiency.', 'Another aspect of the present invention provides a method and apparatus for decoding an image, which can improve image compression efficiency.', 'Still another aspect of the present invention provides a method and apparatus for inter prediction, which can improve image compression efficiency.', 'Still yet another aspect of the present invention provides a method and apparatus for deriving a temporal motion vector predictor, which can improve image compression efficiency.\""
            ]
          },
          "metadata": {
            "tags": []
          },
          "execution_count": 19
        }
      ]
    },
    {
      "cell_type": "code",
      "metadata": {
        "colab": {
          "base_uri": "https://localhost:8080/",
          "height": 142
        },
        "id": "x3GxnSYj0i48",
        "outputId": "f508a218-5e16-4ce3-b819-191f5f10d55a"
      },
      "source": [
        "# Finding rows having same text data\n",
        "neg_text_target[neg_text_target['text'] == \"An aspect of the present invention provides a method and apparatus for encoding an image, which can improve image compression efficiency.', 'Another aspect of the present invention provides a method and apparatus for decoding an image, which can improve image compression efficiency.', 'Still another aspect of the present invention provides a method and apparatus for inter prediction, which can improve image compression efficiency.', 'Still yet another aspect of the present invention provides a method and apparatus for deriving a temporal motion vector predictor, which can improve image compression efficiency.\"]"
      ],
      "execution_count": 20,
      "outputs": [
        {
          "output_type": "execute_result",
          "data": {
            "text/html": [
              "<div>\n",
              "<style scoped>\n",
              "    .dataframe tbody tr th:only-of-type {\n",
              "        vertical-align: middle;\n",
              "    }\n",
              "\n",
              "    .dataframe tbody tr th {\n",
              "        vertical-align: top;\n",
              "    }\n",
              "\n",
              "    .dataframe thead th {\n",
              "        text-align: right;\n",
              "    }\n",
              "</style>\n",
              "<table border=\"1\" class=\"dataframe\">\n",
              "  <thead>\n",
              "    <tr style=\"text-align: right;\">\n",
              "      <th></th>\n",
              "      <th>text</th>\n",
              "      <th>target</th>\n",
              "    </tr>\n",
              "  </thead>\n",
              "  <tbody>\n",
              "    <tr>\n",
              "      <th>228</th>\n",
              "      <td>An aspect of the present invention provides a ...</td>\n",
              "      <td>-1</td>\n",
              "    </tr>\n",
              "    <tr>\n",
              "      <th>467</th>\n",
              "      <td>An aspect of the present invention provides a ...</td>\n",
              "      <td>-1</td>\n",
              "    </tr>\n",
              "    <tr>\n",
              "      <th>88758</th>\n",
              "      <td>An aspect of the present invention provides a ...</td>\n",
              "      <td>-1</td>\n",
              "    </tr>\n",
              "  </tbody>\n",
              "</table>\n",
              "</div>"
            ],
            "text/plain": [
              "                                                    text  target\n",
              "228    An aspect of the present invention provides a ...      -1\n",
              "467    An aspect of the present invention provides a ...      -1\n",
              "88758  An aspect of the present invention provides a ...      -1"
            ]
          },
          "metadata": {
            "tags": []
          },
          "execution_count": 20
        }
      ]
    },
    {
      "cell_type": "code",
      "metadata": {
        "colab": {
          "base_uri": "https://localhost:8080/"
        },
        "id": "_lnrDI_-0meJ",
        "outputId": "8ed14847-d12b-4663-e9af-3417eb0e6613"
      },
      "source": [
        "# Removing duplicated rows \n",
        "neg_text_target.drop_duplicates(keep='first',inplace=True)\n",
        "print(neg_text_target.shape)"
      ],
      "execution_count": 21,
      "outputs": [
        {
          "output_type": "stream",
          "text": [
            "(79531, 2)\n"
          ],
          "name": "stdout"
        }
      ]
    },
    {
      "cell_type": "code",
      "metadata": {
        "id": "Tf8HlRVT0pal"
      },
      "source": [
        "# Choosing randomly 50K samples for furthre processing \n",
        "neg_text_target_rs = neg_text_target.sample(n=50000, random_state=1)"
      ],
      "execution_count": 24,
      "outputs": []
    },
    {
      "cell_type": "code",
      "metadata": {
        "id": "daLLMPoG3aOe"
      },
      "source": [
        "# For further use we need class label (target 0, 1, 2) so change accordingly for negative\n",
        "neg_text_target_rs['target'] = 2"
      ],
      "execution_count": 30,
      "outputs": []
    },
    {
      "cell_type": "code",
      "metadata": {
        "id": "D76Eeh472HNf"
      },
      "source": [
        "# Combining dataframe \n",
        "frames = [neut_text_target_rs, pos_text_target_rs, neg_text_target_rs]\n",
        "combined = pd.concat(frames)"
      ],
      "execution_count": 31,
      "outputs": []
    },
    {
      "cell_type": "code",
      "metadata": {
        "colab": {
          "base_uri": "https://localhost:8080/",
          "height": 221
        },
        "id": "4EwwI4_22uuX",
        "outputId": "09285d9f-50b8-451b-c788-1a77cc7c07d5"
      },
      "source": [
        "print(combined.shape)\n",
        "combined.head()"
      ],
      "execution_count": 32,
      "outputs": [
        {
          "output_type": "stream",
          "text": [
            "(150000, 2)\n"
          ],
          "name": "stdout"
        },
        {
          "output_type": "execute_result",
          "data": {
            "text/html": [
              "<div>\n",
              "<style scoped>\n",
              "    .dataframe tbody tr th:only-of-type {\n",
              "        vertical-align: middle;\n",
              "    }\n",
              "\n",
              "    .dataframe tbody tr th {\n",
              "        vertical-align: top;\n",
              "    }\n",
              "\n",
              "    .dataframe thead th {\n",
              "        text-align: right;\n",
              "    }\n",
              "</style>\n",
              "<table border=\"1\" class=\"dataframe\">\n",
              "  <thead>\n",
              "    <tr style=\"text-align: right;\">\n",
              "      <th></th>\n",
              "      <th>text</th>\n",
              "      <th>target</th>\n",
              "    </tr>\n",
              "  </thead>\n",
              "  <tbody>\n",
              "    <tr>\n",
              "      <th>517</th>\n",
              "      <td>In one aspect of the present invention, a wet ...</td>\n",
              "      <td>0</td>\n",
              "    </tr>\n",
              "    <tr>\n",
              "      <th>10380</th>\n",
              "      <td>One of aspects of the present disclosure resid...</td>\n",
              "      <td>0</td>\n",
              "    </tr>\n",
              "    <tr>\n",
              "      <th>33632</th>\n",
              "      <td>In order to solve the foregoing problem, a mot...</td>\n",
              "      <td>0</td>\n",
              "    </tr>\n",
              "    <tr>\n",
              "      <th>46778</th>\n",
              "      <td>In order to solve the conventional problems de...</td>\n",
              "      <td>0</td>\n",
              "    </tr>\n",
              "    <tr>\n",
              "      <th>54133</th>\n",
              "      <td>As a result of having conducted diligent resea...</td>\n",
              "      <td>0</td>\n",
              "    </tr>\n",
              "  </tbody>\n",
              "</table>\n",
              "</div>"
            ],
            "text/plain": [
              "                                                    text  target\n",
              "517    In one aspect of the present invention, a wet ...       0\n",
              "10380  One of aspects of the present disclosure resid...       0\n",
              "33632  In order to solve the foregoing problem, a mot...       0\n",
              "46778  In order to solve the conventional problems de...       0\n",
              "54133  As a result of having conducted diligent resea...       0"
            ]
          },
          "metadata": {
            "tags": []
          },
          "execution_count": 32
        }
      ]
    },
    {
      "cell_type": "code",
      "metadata": {
        "colab": {
          "base_uri": "https://localhost:8080/",
          "height": 204
        },
        "id": "comjeSKd2xqO",
        "outputId": "3b6b61c5-bf3a-439b-ac09-77535760a902"
      },
      "source": [
        "combined = shuffle(combined, random_state=0)\n",
        "combined.reset_index(inplace=True, drop=True)\n",
        "combined.head()"
      ],
      "execution_count": 33,
      "outputs": [
        {
          "output_type": "execute_result",
          "data": {
            "text/html": [
              "<div>\n",
              "<style scoped>\n",
              "    .dataframe tbody tr th:only-of-type {\n",
              "        vertical-align: middle;\n",
              "    }\n",
              "\n",
              "    .dataframe tbody tr th {\n",
              "        vertical-align: top;\n",
              "    }\n",
              "\n",
              "    .dataframe thead th {\n",
              "        text-align: right;\n",
              "    }\n",
              "</style>\n",
              "<table border=\"1\" class=\"dataframe\">\n",
              "  <thead>\n",
              "    <tr style=\"text-align: right;\">\n",
              "      <th></th>\n",
              "      <th>text</th>\n",
              "      <th>target</th>\n",
              "    </tr>\n",
              "  </thead>\n",
              "  <tbody>\n",
              "    <tr>\n",
              "      <th>0</th>\n",
              "      <td>An image forming apparatus of the present inve...</td>\n",
              "      <td>0</td>\n",
              "    </tr>\n",
              "    <tr>\n",
              "      <th>1</th>\n",
              "      <td>However, in the conventional aerial vehicle de...</td>\n",
              "      <td>2</td>\n",
              "    </tr>\n",
              "    <tr>\n",
              "      <th>2</th>\n",
              "      <td>The first aspect of a method for recovering a ...</td>\n",
              "      <td>1</td>\n",
              "    </tr>\n",
              "    <tr>\n",
              "      <th>3</th>\n",
              "      <td>First Aspect of Invention', 'The present inven...</td>\n",
              "      <td>0</td>\n",
              "    </tr>\n",
              "    <tr>\n",
              "      <th>4</th>\n",
              "      <td>As described above, according to the cap, the ...</td>\n",
              "      <td>1</td>\n",
              "    </tr>\n",
              "  </tbody>\n",
              "</table>\n",
              "</div>"
            ],
            "text/plain": [
              "                                                text  target\n",
              "0  An image forming apparatus of the present inve...       0\n",
              "1  However, in the conventional aerial vehicle de...       2\n",
              "2  The first aspect of a method for recovering a ...       1\n",
              "3  First Aspect of Invention', 'The present inven...       0\n",
              "4  As described above, according to the cap, the ...       1"
            ]
          },
          "metadata": {
            "tags": []
          },
          "execution_count": 33
        }
      ]
    },
    {
      "cell_type": "code",
      "metadata": {
        "colab": {
          "base_uri": "https://localhost:8080/"
        },
        "id": "R2yDEwwS26YF",
        "outputId": "3c3e77ba-87a9-4477-fc78-f0755d62e4de"
      },
      "source": [
        "text.print_text_classifiers()"
      ],
      "execution_count": 34,
      "outputs": [
        {
          "output_type": "stream",
          "text": [
            "fasttext: a fastText-like model [http://arxiv.org/pdf/1607.01759.pdf]\n",
            "logreg: logistic regression using a trainable Embedding layer\n",
            "nbsvm: NBSVM model [http://www.aclweb.org/anthology/P12-2018]\n",
            "bigru: Bidirectional GRU with pretrained fasttext word vectors [https://fasttext.cc/docs/en/crawl-vectors.html]\n",
            "standard_gru: simple 2-layer GRU with randomly initialized embeddings\n",
            "bert: Bidirectional Encoder Representations from Transformers (BERT) from keras_bert [https://arxiv.org/abs/1810.04805]\n",
            "distilbert: distilled, smaller, and faster BERT from Hugging Face transformers [https://arxiv.org/abs/1910.01108]\n"
          ],
          "name": "stdout"
        }
      ]
    },
    {
      "cell_type": "code",
      "metadata": {
        "colab": {
          "base_uri": "https://localhost:8080/"
        },
        "id": "drtToYt73Cuc",
        "outputId": "699f456a-2234-461d-ad0c-32d1de5e293a"
      },
      "source": [
        "# Crating 80-20 split and procced further  \n",
        "(x_train, y_train), (x_test, y_test), preproc = text.texts_from_df(combined, \n",
        "                                                                   'text', # name of column containing text\n",
        "                                                                   label_columns=['target'],\n",
        "                                                                   maxlen=1000, \n",
        "                                                                   max_features=100000,\n",
        "                                                                   preprocess_mode='standard',\n",
        "                                                                   val_pct=0.2,\n",
        "                                                                   ngram_range=2)"
      ],
      "execution_count": 35,
      "outputs": [
        {
          "output_type": "stream",
          "text": [
            "['target_0', 'target_1', 'target_2']\n",
            "        target_0  target_1  target_2\n",
            "138368       0.0       0.0       1.0\n",
            "83558        0.0       0.0       1.0\n",
            "92925        1.0       0.0       0.0\n",
            "117438       1.0       0.0       0.0\n",
            "58354        1.0       0.0       0.0\n",
            "['target_0', 'target_1', 'target_2']\n",
            "        target_0  target_1  target_2\n",
            "45523        0.0       1.0       0.0\n",
            "113023       1.0       0.0       0.0\n",
            "75415        1.0       0.0       0.0\n",
            "86907        0.0       1.0       0.0\n",
            "107527       0.0       0.0       1.0\n",
            "language: en\n",
            "Word Counts: 82412\n",
            "Nrows: 120000\n",
            "120000 train sequences\n",
            "train sequence lengths:\n",
            "\tmean : 306\n",
            "\t95percentile : 1179\n",
            "\t99percentile : 2023\n",
            "Adding 2-gram features\n",
            "max_features changed to 1990425 with addition of ngrams\n",
            "Average train sequence length with ngrams: 611\n",
            "train (w/ngrams) sequence lengths:\n",
            "\tmean : 612\n",
            "\t95percentile : 2357\n",
            "\t99percentile : 4045\n",
            "x_train shape: (120000,1000)\n",
            "y_train shape: (120000, 3)\n",
            "Is Multi-Label? False\n",
            "30000 test sequences\n",
            "test sequence lengths:\n",
            "\tmean : 307\n",
            "\t95percentile : 1191\n",
            "\t99percentile : 2007\n",
            "Average test sequence length with ngrams: 599\n",
            "test (w/ngrams) sequence lengths:\n",
            "\tmean : 599\n",
            "\t95percentile : 2326\n",
            "\t99percentile : 3913\n",
            "x_test shape: (30000,1000)\n",
            "y_test shape: (30000, 3)\n"
          ],
          "name": "stdout"
        }
      ]
    },
    {
      "cell_type": "code",
      "metadata": {
        "colab": {
          "base_uri": "https://localhost:8080/"
        },
        "id": "u7bCViZ73SPs",
        "outputId": "1da49a1e-5615-4431-9e4f-0e629c7bfdfa"
      },
      "source": [
        "# Using NBSVM, train SVM model \n",
        "model = text.text_classifier('nbsvm', (x_train, y_train) , preproc=preproc)\n",
        "learner = ktrain.get_learner(model, \n",
        "                             train_data=(x_train, y_train), \n",
        "                             val_data=(x_test, y_test), \n",
        "                             batch_size=32)\n",
        "\n",
        "print('-----------------------------------------------------------------------------------------')\n",
        "print('Starting training and validation')\n",
        "learner.fit_onecycle(5e-5, 10)"
      ],
      "execution_count": 36,
      "outputs": [
        {
          "output_type": "stream",
          "text": [
            "Is Multi-Label? False\n",
            "compiling word ID features...\n",
            "maxlen is 1000\n",
            "building document-term matrix... this may take a few moments...\n",
            "rows: 1-10000\n",
            "rows: 10001-20000\n",
            "rows: 20001-30000\n",
            "rows: 30001-40000\n",
            "rows: 40001-50000\n",
            "rows: 50001-60000\n",
            "rows: 60001-70000\n",
            "rows: 70001-80000\n",
            "rows: 80001-90000\n",
            "rows: 90001-100000\n",
            "rows: 100001-110000\n",
            "rows: 110001-120000\n",
            "computing log-count ratios...\n",
            "done.\n",
            "-----------------------------------------------------------------------------------------\n",
            "Starting training and validation\n",
            "\n",
            "\n",
            "begin training using onecycle policy with max lr of 5e-05...\n",
            "Epoch 1/10\n",
            "3750/3750 [==============================] - 86s 23ms/step - loss: 0.7118 - accuracy: 0.7879 - val_loss: 0.5063 - val_accuracy: 0.9312\n",
            "Epoch 2/10\n",
            "3750/3750 [==============================] - 82s 22ms/step - loss: 0.3920 - accuracy: 0.9476 - val_loss: 0.3287 - val_accuracy: 0.9499\n",
            "Epoch 3/10\n",
            "3750/3750 [==============================] - 83s 22ms/step - loss: 0.2625 - accuracy: 0.9590 - val_loss: 0.2533 - val_accuracy: 0.9541\n",
            "Epoch 4/10\n",
            "3750/3750 [==============================] - 87s 23ms/step - loss: 0.1964 - accuracy: 0.9663 - val_loss: 0.2167 - val_accuracy: 0.9576\n",
            "Epoch 5/10\n",
            "3750/3750 [==============================] - 87s 23ms/step - loss: 0.1561 - accuracy: 0.9717 - val_loss: 0.1967 - val_accuracy: 0.9597\n",
            "Epoch 6/10\n",
            "3750/3750 [==============================] - 85s 23ms/step - loss: 0.1288 - accuracy: 0.9766 - val_loss: 0.1879 - val_accuracy: 0.9601\n",
            "Epoch 7/10\n",
            "3750/3750 [==============================] - 90s 24ms/step - loss: 0.1115 - accuracy: 0.9796 - val_loss: 0.1843 - val_accuracy: 0.9611\n",
            "Epoch 8/10\n",
            "3750/3750 [==============================] - 89s 24ms/step - loss: 0.1012 - accuracy: 0.9815 - val_loss: 0.1835 - val_accuracy: 0.9601\n",
            "Epoch 9/10\n",
            "3750/3750 [==============================] - 87s 23ms/step - loss: 0.0950 - accuracy: 0.9827 - val_loss: 0.1827 - val_accuracy: 0.9603\n",
            "Epoch 10/10\n",
            "3750/3750 [==============================] - 88s 23ms/step - loss: 0.0917 - accuracy: 0.9833 - val_loss: 0.1828 - val_accuracy: 0.9601\n"
          ],
          "name": "stdout"
        },
        {
          "output_type": "execute_result",
          "data": {
            "text/plain": [
              "<tensorflow.python.keras.callbacks.History at 0x7fd376a47a50>"
            ]
          },
          "metadata": {
            "tags": []
          },
          "execution_count": 36
        }
      ]
    },
    {
      "cell_type": "code",
      "metadata": {
        "id": "FItAHGoP6c6L"
      },
      "source": [
        ""
      ],
      "execution_count": null,
      "outputs": []
    }
  ]
}