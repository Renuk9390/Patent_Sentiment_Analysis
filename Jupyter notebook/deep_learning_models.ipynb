{
 "cells": [
  {
   "cell_type": "markdown",
   "metadata": {
    "id": "3v7Jsw3MsYT8"
   },
   "source": [
    "## Keras approach 2"
   ]
  },
  {
   "cell_type": "markdown",
   "metadata": {
    "id": "kLGJpKXNw72i"
   },
   "source": [
    "### Importing libraries and data"
   ]
  },
  {
   "cell_type": "code",
   "execution_count": 1,
   "metadata": {
    "id": "Ul2ES10pr9T_"
   },
   "outputs": [],
   "source": [
    "# Data visualization\n",
    "import matplotlib.pyplot as plt\n",
    "import seaborn as sns\n",
    "import numpy as np\n",
    "import pandas as pd \n",
    "import seaborn as sns\n",
    "\n",
    "\n",
    "# Keras\n",
    "import tensorflow as tf\n",
    "from keras import layers\n",
    "from keras.models import Sequential\n",
    "from keras.layers import Dense\n",
    "from tensorflow.keras.optimizers import SGD, Adam, Adadelta, RMSprop\n",
    "from keras.layers import Embedding,Dense,Dropout,GRU, LSTM\n",
    "from keras.models import Sequential\n",
    "import keras.backend as K\n",
    "from keras.utils.np_utils import to_categorical\n",
    "from keras.preprocessing.text import Tokenizer\n",
    "from keras.preprocessing.sequence import pad_sequences\n",
    "from keras.utils.vis_utils import plot_model\n",
    "# Train-Test\n",
    "from sklearn.model_selection import train_test_split\n",
    "# Scaling data\n",
    "from sklearn.preprocessing import StandardScaler\n",
    "# Classification Report\n",
    "from sklearn.metrics import classification_report"
   ]
  },
  {
   "cell_type": "code",
   "execution_count": 2,
   "metadata": {
    "colab": {
     "base_uri": "https://localhost:8080/"
    },
    "id": "Wh806HVEDdy1",
    "outputId": "c0017a2d-f85b-4e44-fbae-afd0f7a6c759"
   },
   "outputs": [
    {
     "data": {
      "text/plain": [
       "'/device:GPU:0'"
      ]
     },
     "execution_count": 2,
     "metadata": {},
     "output_type": "execute_result"
    }
   ],
   "source": [
    "import tensorflow as tf\n",
    "tf.test.gpu_device_name()"
   ]
  },
  {
   "cell_type": "code",
   "execution_count": 3,
   "metadata": {
    "id": "rLTTU7Opr9OY"
   },
   "outputs": [],
   "source": [
    "combined = pd.read_csv('cleaned_data_150k.csv')"
   ]
  },
  {
   "cell_type": "code",
   "execution_count": 4,
   "metadata": {
    "colab": {
     "base_uri": "https://localhost:8080/"
    },
    "id": "cdtt9KUosLTY",
    "outputId": "3fd3db3a-d140-41f7-ef36-9111f8f83de3"
   },
   "outputs": [
    {
     "data": {
      "text/html": [
       "<div>\n",
       "<style scoped>\n",
       "    .dataframe tbody tr th:only-of-type {\n",
       "        vertical-align: middle;\n",
       "    }\n",
       "\n",
       "    .dataframe tbody tr th {\n",
       "        vertical-align: top;\n",
       "    }\n",
       "\n",
       "    .dataframe thead th {\n",
       "        text-align: right;\n",
       "    }\n",
       "</style>\n",
       "<table border=\"1\" class=\"dataframe\">\n",
       "  <thead>\n",
       "    <tr style=\"text-align: right;\">\n",
       "      <th></th>\n",
       "      <th>text</th>\n",
       "      <th>target</th>\n",
       "    </tr>\n",
       "  </thead>\n",
       "  <tbody>\n",
       "    <tr>\n",
       "      <th>0</th>\n",
       "      <td>An image forming apparatus of the present inve...</td>\n",
       "      <td>0</td>\n",
       "    </tr>\n",
       "    <tr>\n",
       "      <th>1</th>\n",
       "      <td>However, in the conventional aerial vehicle de...</td>\n",
       "      <td>2</td>\n",
       "    </tr>\n",
       "    <tr>\n",
       "      <th>2</th>\n",
       "      <td>The first aspect of a method for recovering a ...</td>\n",
       "      <td>1</td>\n",
       "    </tr>\n",
       "    <tr>\n",
       "      <th>3</th>\n",
       "      <td>First Aspect of Invention', 'The present inven...</td>\n",
       "      <td>0</td>\n",
       "    </tr>\n",
       "    <tr>\n",
       "      <th>4</th>\n",
       "      <td>As described above, according to the cap, the ...</td>\n",
       "      <td>1</td>\n",
       "    </tr>\n",
       "  </tbody>\n",
       "</table>\n",
       "</div>"
      ],
      "text/plain": [
       "                                                text  target\n",
       "0  An image forming apparatus of the present inve...       0\n",
       "1  However, in the conventional aerial vehicle de...       2\n",
       "2  The first aspect of a method for recovering a ...       1\n",
       "3  First Aspect of Invention', 'The present inven...       0\n",
       "4  As described above, according to the cap, the ...       1"
      ]
     },
     "execution_count": 4,
     "metadata": {},
     "output_type": "execute_result"
    }
   ],
   "source": [
    "combined.head()"
   ]
  },
  {
   "cell_type": "markdown",
   "metadata": {
    "id": "WMf3bNUSxBzG"
   },
   "source": [
    "### Prepare input data"
   ]
  },
  {
   "cell_type": "code",
   "execution_count": 5,
   "metadata": {
    "id": "gWOdfEnksEPP"
   },
   "outputs": [],
   "source": [
    "y = combined[\"target\"]"
   ]
  },
  {
   "cell_type": "code",
   "execution_count": 6,
   "metadata": {
    "id": "1aHfnXXesPXH"
   },
   "outputs": [],
   "source": [
    "y_cat = to_categorical(y)"
   ]
  },
  {
   "cell_type": "code",
   "execution_count": 7,
   "metadata": {
    "id": "YDZVLEM4sSU2"
   },
   "outputs": [],
   "source": [
    "texts = combined.text.values"
   ]
  },
  {
   "cell_type": "code",
   "execution_count": 8,
   "metadata": {
    "id": "8Q7aK6jyt2IT"
   },
   "outputs": [],
   "source": [
    "tokenizer = Tokenizer(num_words=100000)\n",
    "tokenizer.fit_on_texts(texts)"
   ]
  },
  {
   "cell_type": "code",
   "execution_count": 9,
   "metadata": {
    "id": "0XTiZGj6PW95"
   },
   "outputs": [],
   "source": [
    "max_len = 512"
   ]
  },
  {
   "cell_type": "code",
   "execution_count": 10,
   "metadata": {
    "id": "LARnkcujuU1z"
   },
   "outputs": [],
   "source": [
    "sequences = tokenizer.texts_to_sequences(texts)\n",
    "data = pad_sequences(sequences, maxlen=512)"
   ]
  },
  {
   "cell_type": "code",
   "execution_count": 11,
   "metadata": {
    "colab": {
     "base_uri": "https://localhost:8080/"
    },
    "id": "5-Lv7TTzuWVo",
    "outputId": "dd5744b2-77df-4c26-b5e6-7c526544f1dc"
   },
   "outputs": [
    {
     "data": {
      "text/plain": [
       "(150000, 512)"
      ]
     },
     "execution_count": 11,
     "metadata": {},
     "output_type": "execute_result"
    }
   ],
   "source": [
    "data.shape"
   ]
  },
  {
   "cell_type": "code",
   "execution_count": 12,
   "metadata": {
    "id": "Awa6PMlTt6pq"
   },
   "outputs": [],
   "source": [
    "from sklearn.model_selection import  train_test_split\n",
    "X_train, X_test, y_train, y_test = train_test_split(data,y_cat,test_size=0.2,random_state=101)\n",
    "X_val, X_test, y_val, y_test = train_test_split(X_test,y_test,test_size=0.5,random_state=101)\n"
   ]
  },
  {
   "cell_type": "code",
   "execution_count": 13,
   "metadata": {
    "colab": {
     "base_uri": "https://localhost:8080/"
    },
    "id": "Zz_uUCVN1nip",
    "outputId": "21d04efe-7f36-4077-9a3c-800d8943da03"
   },
   "outputs": [
    {
     "name": "stdout",
     "output_type": "stream",
     "text": [
      "120000\n",
      "15000\n",
      "15000\n"
     ]
    }
   ],
   "source": [
    "print(len(X_train))\n",
    "print(len(X_test))\n",
    "print(len(X_val))\n"
   ]
  },
  {
   "cell_type": "code",
   "execution_count": 14,
   "metadata": {
    "id": "AswzNFs5u7tu"
   },
   "outputs": [],
   "source": [
    "word_index = tokenizer.word_index"
   ]
  },
  {
   "cell_type": "code",
   "execution_count": 15,
   "metadata": {
    "id": "rWSwMD4PvA2t"
   },
   "outputs": [],
   "source": [
    "GLOVE_FILE = 'glove.6B.100d.txt'\n",
    "f = open(GLOVE_FILE,'r',encoding=\"utf8\")\n"
   ]
  },
  {
   "cell_type": "code",
   "execution_count": 16,
   "metadata": {
    "id": "gc8xiiAnv5ml"
   },
   "outputs": [],
   "source": [
    "embeddings_index = {}\n",
    "import numpy as np\n",
    "for line in f:\n",
    "  values = line.split()\n",
    "  word = values[0]\n",
    "  embeddings_index[word] = np.asarray(values[1:], dtype='float32')\n",
    "f.close()"
   ]
  },
  {
   "cell_type": "code",
   "execution_count": 17,
   "metadata": {
    "id": "U8AMBTUXv9li"
   },
   "outputs": [],
   "source": [
    "embedding_matrix = np.random.random((len(word_index) + 1, 100))\n",
    "for word, i in word_index.items():\n",
    "    embedding_vector = embeddings_index.get(word)\n",
    "    if embedding_vector is not None:\n",
    "        embedding_matrix[i] = embedding_vector"
   ]
  },
  {
   "cell_type": "markdown",
   "metadata": {
    "id": "Bl0nDd_kwJAn"
   },
   "source": [
    "### Normal model"
   ]
  },
  {
   "cell_type": "code",
   "execution_count": null,
   "metadata": {
    "colab": {
     "base_uri": "https://localhost:8080/",
     "height": 1000
    },
    "id": "Rijodm-gwDRa",
    "outputId": "edfc3dcd-0f6d-4802-8caa-804d02415653"
   },
   "outputs": [
    {
     "name": "stdout",
     "output_type": "stream",
     "text": [
      "WARNING:tensorflow:Layer lstm_3 will not use cuDNN kernels since it doesn't meet the criteria. It will use a generic GPU kernel as fallback when running on GPU.\n",
      "Model: \"sequential_5\"\n",
      "_________________________________________________________________\n",
      " Layer (type)                Output Shape              Param #   \n",
      "=================================================================\n",
      " embedding_5 (Embedding)     (None, None, 100)         9186700   \n",
      "                                                                 \n",
      " lstm_3 (LSTM)               (None, 128)               117248    \n",
      "                                                                 \n",
      " dense_5 (Dense)             (None, 128)               16512     \n",
      "                                                                 \n",
      " dropout (Dropout)           (None, 128)               0         \n",
      "                                                                 \n",
      " dense_6 (Dense)             (None, 64)                8256      \n",
      "                                                                 \n",
      " dropout_1 (Dropout)         (None, 64)                0         \n",
      "                                                                 \n",
      " dense_7 (Dense)             (None, 32)                2080      \n",
      "                                                                 \n",
      " dropout_2 (Dropout)         (None, 32)                0         \n",
      "                                                                 \n",
      " dense_8 (Dense)             (None, 16)                528       \n",
      "                                                                 \n",
      " dropout_3 (Dropout)         (None, 16)                0         \n",
      "                                                                 \n",
      " dense_9 (Dense)             (None, 3)                 51        \n",
      "                                                                 \n",
      "=================================================================\n",
      "Total params: 9,331,375\n",
      "Trainable params: 144,675\n",
      "Non-trainable params: 9,186,700\n",
      "_________________________________________________________________\n"
     ]
    },
    {
     "data": {
      "image/png": "[encoded data removed]",
      "text/plain": [
       "<IPython.core.display.Image object>"
      ]
     },
     "execution_count": 71,
     "metadata": {},
     "output_type": "execute_result"
    }
   ],
   "source": [
    "\n",
    "# from keras.optimizers import Adam\n",
    "\n",
    "model = Sequential()\n",
    "\n",
    "model.add(Embedding(len(word_index)+1, 100, weights=[embedding_matrix],trainable=False))\n",
    "\n",
    "model.add(LSTM(units=128,dropout = 0.5,recurrent_dropout = 0.2))\n",
    "\n",
    "model.add(Dense(units=128,activation='relu'))\n",
    "model.add(Dropout(0.2))\n",
    "\n",
    "model.add(Dense(units=64,activation='relu'))\n",
    "model.add(Dropout(0.2))\n",
    "\n",
    "model.add(Dense(units=32,activation='relu'))\n",
    "model.add(Dropout(0.2))\n",
    "\n",
    "model.add(Dense(units=16,activation='relu'))\n",
    "model.add(Dropout(0.2))\n",
    "\n",
    "model.add(Dense(3,activation=\"softmax\"))\n",
    "# output model skeleton\n",
    "opt = Adam(learning_rate = 0.005)\n",
    "model.summary()\n",
    "model.compile(optimizer= opt , loss ='categorical_crossentropy',metrics=['accuracy'])\n",
    "plot_model(model, to_file='/content/drive/MyDrive/dataset_patent/figures/dl_model_anno_50.png', show_shapes=True, show_layer_names=True, dpi=50)\n"
   ]
  },
  {
   "cell_type": "code",
   "execution_count": null,
   "metadata": {
    "colab": {
     "base_uri": "https://localhost:8080/",
     "height": 362
    },
    "id": "I7_EnNqhwZU5",
    "outputId": "2cac263f-eda4-4156-bcd9-d90f4b470d79"
   },
   "outputs": [
    {
     "name": "stdout",
     "output_type": "stream",
     "text": [
      "Epoch 1/2\n",
      "   6/4219 [..............................] - ETA: 3:53:09 - loss: 1.1080 - accuracy: 0.3229"
     ]
    },
    {
     "ename": "KeyboardInterrupt",
     "evalue": "ignored",
     "output_type": "error",
     "traceback": [
      "\u001b[0;31m---------------------------------------------------------------------------\u001b[0m",
      "\u001b[0;31mKeyboardInterrupt\u001b[0m                         Traceback (most recent call last)",
      "\u001b[0;32m<ipython-input-25-b090df84c575>\u001b[0m in \u001b[0;36m<module>\u001b[0;34m()\u001b[0m\n\u001b[0;32m----> 1\u001b[0;31m \u001b[0mmodel\u001b[0m\u001b[0;34m.\u001b[0m\u001b[0mfit\u001b[0m\u001b[0;34m(\u001b[0m\u001b[0mX_train\u001b[0m\u001b[0;34m,\u001b[0m \u001b[0my_train\u001b[0m\u001b[0;34m,\u001b[0m \u001b[0mverbose\u001b[0m\u001b[0;34m=\u001b[0m\u001b[0;36m1\u001b[0m\u001b[0;34m,\u001b[0m \u001b[0mepochs\u001b[0m\u001b[0;34m=\u001b[0m\u001b[0;36m2\u001b[0m\u001b[0;34m)\u001b[0m\u001b[0;34m\u001b[0m\u001b[0;34m\u001b[0m\u001b[0m\n\u001b[0m",
      "\u001b[0;32m/usr/local/lib/python3.7/dist-packages/keras/utils/traceback_utils.py\u001b[0m in \u001b[0;36merror_handler\u001b[0;34m(*args, **kwargs)\u001b[0m\n\u001b[1;32m     62\u001b[0m     \u001b[0mfiltered_tb\u001b[0m \u001b[0;34m=\u001b[0m \u001b[0;32mNone\u001b[0m\u001b[0;34m\u001b[0m\u001b[0;34m\u001b[0m\u001b[0m\n\u001b[1;32m     63\u001b[0m     \u001b[0;32mtry\u001b[0m\u001b[0;34m:\u001b[0m\u001b[0;34m\u001b[0m\u001b[0;34m\u001b[0m\u001b[0m\n\u001b[0;32m---> 64\u001b[0;31m       \u001b[0;32mreturn\u001b[0m \u001b[0mfn\u001b[0m\u001b[0;34m(\u001b[0m\u001b[0;34m*\u001b[0m\u001b[0margs\u001b[0m\u001b[0;34m,\u001b[0m \u001b[0;34m**\u001b[0m\u001b[0mkwargs\u001b[0m\u001b[0;34m)\u001b[0m\u001b[0;34m\u001b[0m\u001b[0;34m\u001b[0m\u001b[0m\n\u001b[0m\u001b[1;32m     65\u001b[0m     \u001b[0;32mexcept\u001b[0m \u001b[0mException\u001b[0m \u001b[0;32mas\u001b[0m \u001b[0me\u001b[0m\u001b[0;34m:\u001b[0m  \u001b[0;31m# pylint: disable=broad-except\u001b[0m\u001b[0;34m\u001b[0m\u001b[0;34m\u001b[0m\u001b[0m\n\u001b[1;32m     66\u001b[0m       \u001b[0mfiltered_tb\u001b[0m \u001b[0;34m=\u001b[0m \u001b[0m_process_traceback_frames\u001b[0m\u001b[0;34m(\u001b[0m\u001b[0me\u001b[0m\u001b[0;34m.\u001b[0m\u001b[0m__traceback__\u001b[0m\u001b[0;34m)\u001b[0m\u001b[0;34m\u001b[0m\u001b[0;34m\u001b[0m\u001b[0m\n",
      "\u001b[0;32m/usr/local/lib/python3.7/dist-packages/keras/engine/training.py\u001b[0m in \u001b[0;36mfit\u001b[0;34m(self, x, y, batch_size, epochs, verbose, callbacks, validation_split, validation_data, shuffle, class_weight, sample_weight, initial_epoch, steps_per_epoch, validation_steps, validation_batch_size, validation_freq, max_queue_size, workers, use_multiprocessing)\u001b[0m\n\u001b[1;32m   1214\u001b[0m                 _r=1):\n\u001b[1;32m   1215\u001b[0m               \u001b[0mcallbacks\u001b[0m\u001b[0;34m.\u001b[0m\u001b[0mon_train_batch_begin\u001b[0m\u001b[0;34m(\u001b[0m\u001b[0mstep\u001b[0m\u001b[0;34m)\u001b[0m\u001b[0;34m\u001b[0m\u001b[0;34m\u001b[0m\u001b[0m\n\u001b[0;32m-> 1216\u001b[0;31m               \u001b[0mtmp_logs\u001b[0m \u001b[0;34m=\u001b[0m \u001b[0mself\u001b[0m\u001b[0;34m.\u001b[0m\u001b[0mtrain_function\u001b[0m\u001b[0;34m(\u001b[0m\u001b[0miterator\u001b[0m\u001b[0;34m)\u001b[0m\u001b[0;34m\u001b[0m\u001b[0;34m\u001b[0m\u001b[0m\n\u001b[0m\u001b[1;32m   1217\u001b[0m               \u001b[0;32mif\u001b[0m \u001b[0mdata_handler\u001b[0m\u001b[0;34m.\u001b[0m\u001b[0mshould_sync\u001b[0m\u001b[0;34m:\u001b[0m\u001b[0;34m\u001b[0m\u001b[0;34m\u001b[0m\u001b[0m\n\u001b[1;32m   1218\u001b[0m                 \u001b[0mcontext\u001b[0m\u001b[0;34m.\u001b[0m\u001b[0masync_wait\u001b[0m\u001b[0;34m(\u001b[0m\u001b[0;34m)\u001b[0m\u001b[0;34m\u001b[0m\u001b[0;34m\u001b[0m\u001b[0m\n",
      "\u001b[0;32m/usr/local/lib/python3.7/dist-packages/tensorflow/python/util/traceback_utils.py\u001b[0m in \u001b[0;36merror_handler\u001b[0;34m(*args, **kwargs)\u001b[0m\n\u001b[1;32m    148\u001b[0m     \u001b[0mfiltered_tb\u001b[0m \u001b[0;34m=\u001b[0m \u001b[0;32mNone\u001b[0m\u001b[0;34m\u001b[0m\u001b[0;34m\u001b[0m\u001b[0m\n\u001b[1;32m    149\u001b[0m     \u001b[0;32mtry\u001b[0m\u001b[0;34m:\u001b[0m\u001b[0;34m\u001b[0m\u001b[0;34m\u001b[0m\u001b[0m\n\u001b[0;32m--> 150\u001b[0;31m       \u001b[0;32mreturn\u001b[0m \u001b[0mfn\u001b[0m\u001b[0;34m(\u001b[0m\u001b[0;34m*\u001b[0m\u001b[0margs\u001b[0m\u001b[0;34m,\u001b[0m \u001b[0;34m**\u001b[0m\u001b[0mkwargs\u001b[0m\u001b[0;34m)\u001b[0m\u001b[0;34m\u001b[0m\u001b[0;34m\u001b[0m\u001b[0m\n\u001b[0m\u001b[1;32m    151\u001b[0m     \u001b[0;32mexcept\u001b[0m \u001b[0mException\u001b[0m \u001b[0;32mas\u001b[0m \u001b[0me\u001b[0m\u001b[0;34m:\u001b[0m\u001b[0;34m\u001b[0m\u001b[0;34m\u001b[0m\u001b[0m\n\u001b[1;32m    152\u001b[0m       \u001b[0mfiltered_tb\u001b[0m \u001b[0;34m=\u001b[0m \u001b[0m_process_traceback_frames\u001b[0m\u001b[0;34m(\u001b[0m\u001b[0me\u001b[0m\u001b[0;34m.\u001b[0m\u001b[0m__traceback__\u001b[0m\u001b[0;34m)\u001b[0m\u001b[0;34m\u001b[0m\u001b[0;34m\u001b[0m\u001b[0m\n",
      "\u001b[0;32m/usr/local/lib/python3.7/dist-packages/tensorflow/python/eager/def_function.py\u001b[0m in \u001b[0;36m__call__\u001b[0;34m(self, *args, **kwds)\u001b[0m\n\u001b[1;32m    908\u001b[0m \u001b[0;34m\u001b[0m\u001b[0m\n\u001b[1;32m    909\u001b[0m       \u001b[0;32mwith\u001b[0m \u001b[0mOptionalXlaContext\u001b[0m\u001b[0;34m(\u001b[0m\u001b[0mself\u001b[0m\u001b[0;34m.\u001b[0m\u001b[0m_jit_compile\u001b[0m\u001b[0;34m)\u001b[0m\u001b[0;34m:\u001b[0m\u001b[0;34m\u001b[0m\u001b[0;34m\u001b[0m\u001b[0m\n\u001b[0;32m--> 910\u001b[0;31m         \u001b[0mresult\u001b[0m \u001b[0;34m=\u001b[0m \u001b[0mself\u001b[0m\u001b[0;34m.\u001b[0m\u001b[0m_call\u001b[0m\u001b[0;34m(\u001b[0m\u001b[0;34m*\u001b[0m\u001b[0margs\u001b[0m\u001b[0;34m,\u001b[0m \u001b[0;34m**\u001b[0m\u001b[0mkwds\u001b[0m\u001b[0;34m)\u001b[0m\u001b[0;34m\u001b[0m\u001b[0;34m\u001b[0m\u001b[0m\n\u001b[0m\u001b[1;32m    911\u001b[0m \u001b[0;34m\u001b[0m\u001b[0m\n\u001b[1;32m    912\u001b[0m       \u001b[0mnew_tracing_count\u001b[0m \u001b[0;34m=\u001b[0m \u001b[0mself\u001b[0m\u001b[0;34m.\u001b[0m\u001b[0mexperimental_get_tracing_count\u001b[0m\u001b[0;34m(\u001b[0m\u001b[0;34m)\u001b[0m\u001b[0;34m\u001b[0m\u001b[0;34m\u001b[0m\u001b[0m\n",
      "\u001b[0;32m/usr/local/lib/python3.7/dist-packages/tensorflow/python/eager/def_function.py\u001b[0m in \u001b[0;36m_call\u001b[0;34m(self, *args, **kwds)\u001b[0m\n\u001b[1;32m    940\u001b[0m       \u001b[0;31m# In this case we have created variables on the first call, so we run the\u001b[0m\u001b[0;34m\u001b[0m\u001b[0;34m\u001b[0m\u001b[0;34m\u001b[0m\u001b[0m\n\u001b[1;32m    941\u001b[0m       \u001b[0;31m# defunned version which is guaranteed to never create variables.\u001b[0m\u001b[0;34m\u001b[0m\u001b[0;34m\u001b[0m\u001b[0;34m\u001b[0m\u001b[0m\n\u001b[0;32m--> 942\u001b[0;31m       \u001b[0;32mreturn\u001b[0m \u001b[0mself\u001b[0m\u001b[0;34m.\u001b[0m\u001b[0m_stateless_fn\u001b[0m\u001b[0;34m(\u001b[0m\u001b[0;34m*\u001b[0m\u001b[0margs\u001b[0m\u001b[0;34m,\u001b[0m \u001b[0;34m**\u001b[0m\u001b[0mkwds\u001b[0m\u001b[0;34m)\u001b[0m  \u001b[0;31m# pylint: disable=not-callable\u001b[0m\u001b[0;34m\u001b[0m\u001b[0;34m\u001b[0m\u001b[0m\n\u001b[0m\u001b[1;32m    943\u001b[0m     \u001b[0;32melif\u001b[0m \u001b[0mself\u001b[0m\u001b[0;34m.\u001b[0m\u001b[0m_stateful_fn\u001b[0m \u001b[0;32mis\u001b[0m \u001b[0;32mnot\u001b[0m \u001b[0;32mNone\u001b[0m\u001b[0;34m:\u001b[0m\u001b[0;34m\u001b[0m\u001b[0;34m\u001b[0m\u001b[0m\n\u001b[1;32m    944\u001b[0m       \u001b[0;31m# Release the lock early so that multiple threads can perform the call\u001b[0m\u001b[0;34m\u001b[0m\u001b[0;34m\u001b[0m\u001b[0;34m\u001b[0m\u001b[0m\n",
      "\u001b[0;32m/usr/local/lib/python3.7/dist-packages/tensorflow/python/eager/function.py\u001b[0m in \u001b[0;36m__call__\u001b[0;34m(self, *args, **kwargs)\u001b[0m\n\u001b[1;32m   3129\u001b[0m        filtered_flat_args) = self._maybe_define_function(args, kwargs)\n\u001b[1;32m   3130\u001b[0m     return graph_function._call_flat(\n\u001b[0;32m-> 3131\u001b[0;31m         filtered_flat_args, captured_inputs=graph_function.captured_inputs)  # pylint: disable=protected-access\n\u001b[0m\u001b[1;32m   3132\u001b[0m \u001b[0;34m\u001b[0m\u001b[0m\n\u001b[1;32m   3133\u001b[0m   \u001b[0;34m@\u001b[0m\u001b[0mproperty\u001b[0m\u001b[0;34m\u001b[0m\u001b[0;34m\u001b[0m\u001b[0m\n",
      "\u001b[0;32m/usr/local/lib/python3.7/dist-packages/tensorflow/python/eager/function.py\u001b[0m in \u001b[0;36m_call_flat\u001b[0;34m(self, args, captured_inputs, cancellation_manager)\u001b[0m\n\u001b[1;32m   1958\u001b[0m       \u001b[0;31m# No tape is watching; skip to running the function.\u001b[0m\u001b[0;34m\u001b[0m\u001b[0;34m\u001b[0m\u001b[0;34m\u001b[0m\u001b[0m\n\u001b[1;32m   1959\u001b[0m       return self._build_call_outputs(self._inference_function.call(\n\u001b[0;32m-> 1960\u001b[0;31m           ctx, args, cancellation_manager=cancellation_manager))\n\u001b[0m\u001b[1;32m   1961\u001b[0m     forward_backward = self._select_forward_and_backward_functions(\n\u001b[1;32m   1962\u001b[0m         \u001b[0margs\u001b[0m\u001b[0;34m,\u001b[0m\u001b[0;34m\u001b[0m\u001b[0;34m\u001b[0m\u001b[0m\n",
      "\u001b[0;32m/usr/local/lib/python3.7/dist-packages/tensorflow/python/eager/function.py\u001b[0m in \u001b[0;36mcall\u001b[0;34m(self, ctx, args, cancellation_manager)\u001b[0m\n\u001b[1;32m    601\u001b[0m               \u001b[0minputs\u001b[0m\u001b[0;34m=\u001b[0m\u001b[0margs\u001b[0m\u001b[0;34m,\u001b[0m\u001b[0;34m\u001b[0m\u001b[0;34m\u001b[0m\u001b[0m\n\u001b[1;32m    602\u001b[0m               \u001b[0mattrs\u001b[0m\u001b[0;34m=\u001b[0m\u001b[0mattrs\u001b[0m\u001b[0;34m,\u001b[0m\u001b[0;34m\u001b[0m\u001b[0;34m\u001b[0m\u001b[0m\n\u001b[0;32m--> 603\u001b[0;31m               ctx=ctx)\n\u001b[0m\u001b[1;32m    604\u001b[0m         \u001b[0;32melse\u001b[0m\u001b[0;34m:\u001b[0m\u001b[0;34m\u001b[0m\u001b[0;34m\u001b[0m\u001b[0m\n\u001b[1;32m    605\u001b[0m           outputs = execute.execute_with_cancellation(\n",
      "\u001b[0;32m/usr/local/lib/python3.7/dist-packages/tensorflow/python/eager/execute.py\u001b[0m in \u001b[0;36mquick_execute\u001b[0;34m(op_name, num_outputs, inputs, attrs, ctx, name)\u001b[0m\n\u001b[1;32m     57\u001b[0m     \u001b[0mctx\u001b[0m\u001b[0;34m.\u001b[0m\u001b[0mensure_initialized\u001b[0m\u001b[0;34m(\u001b[0m\u001b[0;34m)\u001b[0m\u001b[0;34m\u001b[0m\u001b[0;34m\u001b[0m\u001b[0m\n\u001b[1;32m     58\u001b[0m     tensors = pywrap_tfe.TFE_Py_Execute(ctx._handle, device_name, op_name,\n\u001b[0;32m---> 59\u001b[0;31m                                         inputs, attrs, num_outputs)\n\u001b[0m\u001b[1;32m     60\u001b[0m   \u001b[0;32mexcept\u001b[0m \u001b[0mcore\u001b[0m\u001b[0;34m.\u001b[0m\u001b[0m_NotOkStatusException\u001b[0m \u001b[0;32mas\u001b[0m \u001b[0me\u001b[0m\u001b[0;34m:\u001b[0m\u001b[0;34m\u001b[0m\u001b[0;34m\u001b[0m\u001b[0m\n\u001b[1;32m     61\u001b[0m     \u001b[0;32mif\u001b[0m \u001b[0mname\u001b[0m \u001b[0;32mis\u001b[0m \u001b[0;32mnot\u001b[0m \u001b[0;32mNone\u001b[0m\u001b[0;34m:\u001b[0m\u001b[0;34m\u001b[0m\u001b[0;34m\u001b[0m\u001b[0m\n",
      "\u001b[0;31mKeyboardInterrupt\u001b[0m: "
     ]
    }
   ],
   "source": [
    "model.fit(X_train, y_train, verbose=1, epochs=2)"
   ]
  },
  {
   "cell_type": "code",
   "execution_count": null,
   "metadata": {
    "colab": {
     "base_uri": "https://localhost:8080/"
    },
    "id": "A8yN2q14MA6C",
    "outputId": "14463f0e-ed06-4c16-e6f3-107f86ca0016"
   },
   "outputs": [
    {
     "name": "stdout",
     "output_type": "stream",
     "text": [
      "469/469 [==============================] - 70s 149ms/step - loss: 0.2251 - accuracy: 0.9330\n"
     ]
    },
    {
     "data": {
      "text/plain": [
       "[0.2250736653804779, 0.9330000281333923]"
      ]
     },
     "execution_count": 29,
     "metadata": {},
     "output_type": "execute_result"
    }
   ],
   "source": [
    "model.evaluate(X_test, y_test)"
   ]
  },
  {
   "cell_type": "code",
   "execution_count": null,
   "metadata": {
    "id": "062c2tJQz9V-"
   },
   "outputs": [],
   "source": [
    "y_pred = model.predict(X_test)"
   ]
  },
  {
   "cell_type": "code",
   "execution_count": null,
   "metadata": {
    "colab": {
     "base_uri": "https://localhost:8080/"
    },
    "id": "M8WDH0Gg0QEw",
    "outputId": "9d20f306-8556-4806-eb83-7edf632b2e78"
   },
   "outputs": [
    {
     "name": "stdout",
     "output_type": "stream",
     "text": [
      "(15000, 3)\n",
      "(15000, 3)\n"
     ]
    }
   ],
   "source": [
    "print(y_pred.shape)\n",
    "print(y_test.shape)"
   ]
  },
  {
   "cell_type": "code",
   "execution_count": null,
   "metadata": {
    "id": "xYAUza0901SR"
   },
   "outputs": [],
   "source": [
    "y_pred = (y_pred > 0.5)"
   ]
  },
  {
   "cell_type": "code",
   "execution_count": null,
   "metadata": {
    "colab": {
     "base_uri": "https://localhost:8080/"
    },
    "id": "ASNCxQ1I0nks",
    "outputId": "18f05870-6f79-45fe-aad2-36011a648e83"
   },
   "outputs": [
    {
     "data": {
      "text/plain": [
       "array([False,  True, False])"
      ]
     },
     "execution_count": 68,
     "metadata": {},
     "output_type": "execute_result"
    }
   ],
   "source": [
    "y_pred[0]"
   ]
  },
  {
   "cell_type": "code",
   "execution_count": null,
   "metadata": {
    "colab": {
     "base_uri": "https://localhost:8080/"
    },
    "id": "iU-5pxcI0atx",
    "outputId": "f5d64303-f8d1-4d11-f2b1-879b482f8d97"
   },
   "outputs": [
    {
     "name": "stdout",
     "output_type": "stream",
     "text": [
      "              precision    recall  f1-score   support\n",
      "\n",
      "           0       0.94      0.92      0.93      5026\n",
      "           1       0.94      0.92      0.93      4980\n",
      "           2       0.93      0.95      0.94      4994\n",
      "\n",
      "   micro avg       0.94      0.93      0.93     15000\n",
      "   macro avg       0.94      0.93      0.93     15000\n",
      "weighted avg       0.94      0.93      0.93     15000\n",
      " samples avg       0.93      0.93      0.93     15000\n",
      "\n"
     ]
    },
    {
     "name": "stderr",
     "output_type": "stream",
     "text": [
      "/usr/local/lib/python3.7/dist-packages/sklearn/metrics/_classification.py:1308: UndefinedMetricWarning: Precision and F-score are ill-defined and being set to 0.0 in samples with no predicted labels. Use `zero_division` parameter to control this behavior.\n",
      "  _warn_prf(average, modifier, msg_start, len(result))\n"
     ]
    }
   ],
   "source": [
    "print((classification_report(y_test, y_pred)))"
   ]
  },
  {
   "cell_type": "markdown",
   "metadata": {
    "id": "sH-FwGpVwOEJ"
   },
   "source": [
    "### Sequential model LSTM"
   ]
  },
  {
   "cell_type": "markdown",
   "metadata": {
    "id": "1VwQKNXzNR42"
   },
   "source": [
    "#### Without using glove embeddings"
   ]
  },
  {
   "cell_type": "code",
   "execution_count": 18,
   "metadata": {
    "colab": {
     "base_uri": "https://localhost:8080/"
    },
    "id": "A56aVlL69Mnf",
    "outputId": "1962a7bb-9db0-4e2d-834e-42ca67888d2b"
   },
   "outputs": [
    {
     "data": {
      "text/plain": [
       "91866"
      ]
     },
     "execution_count": 18,
     "metadata": {},
     "output_type": "execute_result"
    }
   ],
   "source": [
    "len(word_index)"
   ]
  },
  {
   "cell_type": "code",
   "execution_count": 19,
   "metadata": {
    "colab": {
     "base_uri": "https://localhost:8080/",
     "height": 504
    },
    "id": "OXG3X4_kwrR_",
    "outputId": "4e0a3dee-b4c7-4a70-804d-4e73dcb5f4bc"
   },
   "outputs": [
    {
     "name": "stdout",
     "output_type": "stream",
     "text": [
      "Model: \"sequential\"\n",
      "_________________________________________________________________\n",
      "Layer (type)                 Output Shape              Param #   \n",
      "=================================================================\n",
      "embedding (Embedding)        (None, 512, 100)          9186700   \n",
      "_________________________________________________________________\n",
      "lstm (LSTM)                  (None, 64)                42240     \n",
      "_________________________________________________________________\n",
      "dense (Dense)                (None, 3)                 195       \n",
      "=================================================================\n",
      "Total params: 9,229,135\n",
      "Trainable params: 9,229,135\n",
      "Non-trainable params: 0\n",
      "_________________________________________________________________\n"
     ]
    },
    {
     "data": {
      "image/png": "[encoded data removed]",
      "text/plain": [
       "<IPython.core.display.Image object>"
      ]
     },
     "execution_count": 19,
     "metadata": {},
     "output_type": "execute_result"
    }
   ],
   "source": [
    "model1 = Sequential()\n",
    "# model1.add(Embedding(len(word_index)+1, 100, weights=[embedding_matrix]))\n",
    "model1.add(layers.Embedding(len(word_index)+1, 100, input_length=max_len))\n",
    "# model1.add(Embedding(max_words, 20))\n",
    "model1.add(LSTM(64,dropout=0.5))\n",
    "model1.add(Dense(3,activation='softmax'))\n",
    "\n",
    "model1.summary()\n",
    "model1.compile(optimizer='rmsprop',loss='categorical_crossentropy', metrics=['accuracy'])\n",
    "#Implementing model checkpoins to save the best metric and do not lose it on training.\n",
    "# checkpoint1 = ModelCheckpoint(\"best_model1.hdf5\", monitor='val_accuracy', verbose=1,save_best_only=True, mode='auto', period=1,save_weights_only=False)\n",
    "plot_model(model1, to_file='dl_model_lstm_wo_anno_400.png', show_shapes=True, show_layer_names=True, dpi=400)\n",
    "plot_model(model1, to_file='dl_model_lstm_wo_anno_50.png', show_shapes=True, show_layer_names=True, dpi=50)"
   ]
  },
  {
   "cell_type": "code",
   "execution_count": 20,
   "metadata": {
    "colab": {
     "base_uri": "https://localhost:8080/"
    },
    "id": "QA15gPq5LGUj",
    "outputId": "2acf9c8c-5caf-48b6-9706-44a3ec1f1d8c"
   },
   "outputs": [
    {
     "name": "stdout",
     "output_type": "stream",
     "text": [
      "Epoch 1/10\n",
      "3750/3750 [==============================] - 106s 28ms/step - loss: 0.3171 - accuracy: 0.8993 - val_loss: 0.1928 - val_accuracy: 0.9400\n",
      "Epoch 2/10\n",
      "3750/3750 [==============================] - 103s 28ms/step - loss: 0.1870 - accuracy: 0.9402 - val_loss: 0.1408 - val_accuracy: 0.9567\n",
      "Epoch 3/10\n",
      "3750/3750 [==============================] - 103s 28ms/step - loss: 0.1397 - accuracy: 0.9559 - val_loss: 0.1162 - val_accuracy: 0.965047s - loss: 0.1466 -  - ETA: 40s  - ETA: 38s - loss: 0.1456 - accu - ETA: 35s - loss: 0.143 - ETA: 33s - loss: 0.1437 - accuracy: 0. - ETA: 33s - loss: 0.1435 - a - ETA:\n",
      "Epoch 4/10\n",
      "3750/3750 [==============================] - 104s 28ms/step - loss: 0.1150 - accuracy: 0.9636 - val_loss: 0.1018 - val_accuracy: 0.9674A: 53s - loss: 0.1174 - accuracy - ETA: 53s - loss: 0.1173 - accuracy: 0. - ETA: 52\n",
      "Epoch 5/10\n",
      "3750/3750 [==============================] - 103s 28ms/step - loss: 0.1025 - accuracy: 0.9675 - val_loss: 0.0916 - val_accuracy: 0.970646s - loss: 0.1030 - accu - ETA: 42s - loss: 0.102 - ETA: 41s - loss: 0 - ETA: 40s - loss: 0.10 - ETA: 38s - loss: 0 - ETA: 32 - ETA: 4s - loss: 0.1021 - \n",
      "Epoch 6/10\n",
      "3750/3750 [==============================] - 106s 28ms/step - loss: 0.0931 - accuracy: 0.9710 - val_loss: 0.0922 - val_accuracy: 0.9717\n",
      "Epoch 7/10\n",
      "3750/3750 [==============================] - 106s 28ms/step - loss: 0.0872 - accuracy: 0.9737 - val_loss: 0.0902 - val_accuracy: 0.9739A: 59s - l - ETA: 54s - loss: 0.085 - ETA: 53s - loss: 0.0859 - accuracy: 0.97 - E - ETA: 37s - loss: 0.0871 - accuracy: 0 - ET\n",
      "Epoch 8/10\n",
      "3750/3750 [==============================] - 107s 29ms/step - loss: 0.0821 - accuracy: 0.9753 - val_loss: 0.0905 - val_accuracy: 0.9746\n",
      "Epoch 9/10\n",
      "3750/3750 [==============================] - 105s 28ms/step - loss: 0.0775 - accuracy: 0.9766 - val_loss: 0.0989 - val_accuracy: 0.9706 - loss: 0.0 - ETA: 56 - - ETA: 46s - loss: 0.0774 - accuracy: - ETA: 45s -  - ETA: - ETA: 30s - ETA: 26s - loss: 0.0 - ETA: 24s  - ETA: 22s -  - ETA: 20 - ETA: 18s - loss\n",
      "Epoch 10/10\n",
      "3750/3750 [==============================] - 105s 28ms/step - loss: 0.0749 - accuracy: 0.9777 - val_loss: 0.0972 - val_accuracy: 0.973435 - accur -  - ETA: 28s - loss: - ETA: 26s - loss: 0.0745 - accu - ETA: 2s - l\n"
     ]
    }
   ],
   "source": [
    "# history = model1.fit(X_train, y_train, epochs=70,validation_data=(X_test, y_test),callbacks=[checkpoint1])\n",
    "history_1 = model1.fit(X_train, y_train, validation_data=(X_val, y_val), verbose=1, epochs=10)"
   ]
  },
  {
   "cell_type": "code",
   "execution_count": 21,
   "metadata": {},
   "outputs": [],
   "source": [
    "a = len(history_1.history[\"loss\"])"
   ]
  },
  {
   "cell_type": "code",
   "execution_count": 22,
   "metadata": {
    "colab": {
     "base_uri": "https://localhost:8080/",
     "height": 412
    },
    "id": "0Tdj-WP9Vh7Q",
    "outputId": "432bff88-4fdb-47a3-85a1-a271a284f534"
   },
   "outputs": [
    {
     "data": {
      "image/png": "[encoded data removed]",
      "text/plain": [
       "<Figure size 1080x432 with 2 Axes>"
      ]
     },
     "metadata": {
      "needs_background": "light"
     },
     "output_type": "display_data"
    }
   ],
   "source": [
    "plt.figure(figsize=(15,6))\n",
    "plt.subplot(1, 2, 1) \n",
    "plt.plot(history_1.history[\"loss\"], label=\"train_loss\")\n",
    "plt.plot(history_1.history[\"val_loss\"], label=\"val_loss\")\n",
    "plt.xlabel(\"Epochs\", fontsize=16)\n",
    "plt.ylabel(\"loss\", fontsize=16)\n",
    "plt.xticks(np.arange(a), np.arange(1, a+1), fontsize=12)\n",
    "plt.yticks(fontsize=12)\n",
    "plt.title(\"Train and Validation loss Over Epochs\", fontsize=14)\n",
    "plt.legend()\n",
    "plt.grid()\n",
    "# plt.show()\n",
    "plt.subplot(1, 2, 2) \n",
    "plt.plot(history_1.history[\"accuracy\"], label=\"train_accuracy\")\n",
    "plt.plot(history_1.history[\"val_accuracy\"], label=\"val_accuracy\")\n",
    "plt.xlabel(\"Epochs\",fontsize=16)\n",
    "plt.ylabel(\"accuracy\",fontsize=16)\n",
    "plt.xticks(np.arange(a), np.arange(1, a+1), fontsize=12)\n",
    "plt.yticks(fontsize=12)\n",
    "plt.title(\"Train and Validation accuracy Over Epochs\", fontsize=14)\n",
    "plt.legend()\n",
    "plt.grid()\n",
    "plt.savefig('model_lstm_wo_loss_50', dpi=50,  bbox_inches='tight', transparent=True, pad_inches=0)\n",
    "plt.savefig('model_lstm_wo_loss_400', dpi=400,  bbox_inches='tight', transparent=True, pad_inches=0)\n",
    "\n",
    "plt.show()"
   ]
  },
  {
   "cell_type": "code",
   "execution_count": null,
   "metadata": {
    "id": "CBsrgjDo2pbT"
   },
   "outputs": [],
   "source": []
  },
  {
   "cell_type": "code",
   "execution_count": 23,
   "metadata": {
    "colab": {
     "base_uri": "https://localhost:8080/"
    },
    "id": "2SmPtpcp2vH0",
    "outputId": "1d01d97b-f311-458a-9216-9c9006ffed3d"
   },
   "outputs": [
    {
     "name": "stdout",
     "output_type": "stream",
     "text": [
      "469/469 [==============================] - 5s 10ms/step - loss: 0.0982 - accuracy: 0.9727\n"
     ]
    },
    {
     "data": {
      "text/plain": [
       "[0.098218634724617, 0.9726666808128357]"
      ]
     },
     "execution_count": 23,
     "metadata": {},
     "output_type": "execute_result"
    }
   ],
   "source": [
    "model1.evaluate(X_test, y_test)"
   ]
  },
  {
   "cell_type": "code",
   "execution_count": 24,
   "metadata": {
    "id": "29DhAG-p2vH2"
   },
   "outputs": [],
   "source": [
    "y_pred_1 = model1.predict(X_test)"
   ]
  },
  {
   "cell_type": "code",
   "execution_count": 25,
   "metadata": {
    "id": "tpvsaeDk2vH3"
   },
   "outputs": [],
   "source": [
    "y_pred_1 = (y_pred_1 > 0.5)"
   ]
  },
  {
   "cell_type": "code",
   "execution_count": 26,
   "metadata": {
    "colab": {
     "base_uri": "https://localhost:8080/"
    },
    "id": "svET_CTj2vH4",
    "outputId": "3c461c6d-5092-40c0-d498-d5dc221ce932"
   },
   "outputs": [
    {
     "name": "stdout",
     "output_type": "stream",
     "text": [
      "              precision    recall  f1-score   support\n",
      "\n",
      "           0       0.98      0.97      0.97      4969\n",
      "           1       0.98      0.96      0.97      5002\n",
      "           2       0.97      0.98      0.98      5029\n",
      "\n",
      "   micro avg       0.97      0.97      0.97     15000\n",
      "   macro avg       0.97      0.97      0.97     15000\n",
      "weighted avg       0.97      0.97      0.97     15000\n",
      " samples avg       0.97      0.97      0.97     15000\n",
      "\n"
     ]
    },
    {
     "name": "stderr",
     "output_type": "stream",
     "text": [
      "C:\\Users\\tschi\\anaconda3\\lib\\site-packages\\sklearn\\metrics\\_classification.py:1308: UndefinedMetricWarning: Precision and F-score are ill-defined and being set to 0.0 in samples with no predicted labels. Use `zero_division` parameter to control this behavior.\n",
      "  _warn_prf(average, modifier, msg_start, len(result))\n"
     ]
    }
   ],
   "source": [
    "print(classification_report(y_test, y_pred_1))"
   ]
  },
  {
   "cell_type": "code",
   "execution_count": 27,
   "metadata": {
    "colab": {
     "base_uri": "https://localhost:8080/"
    },
    "id": "O2T3LOSPPua1",
    "outputId": "fedb93ee-b5b6-4db5-e3bb-ea3b60fa762f"
   },
   "outputs": [
    {
     "name": "stdout",
     "output_type": "stream",
     "text": [
      "91866\n"
     ]
    }
   ],
   "source": [
    "print(len(word_index))"
   ]
  },
  {
   "cell_type": "code",
   "execution_count": 28,
   "metadata": {
    "id": "HRnhlrjsPeJ2"
   },
   "outputs": [
    {
     "name": "stdout",
     "output_type": "stream",
     "text": [
      "\n"
     ]
    }
   ],
   "source": [
    "print()"
   ]
  },
  {
   "cell_type": "code",
   "execution_count": null,
   "metadata": {
    "id": "20GsnNweN6E_"
   },
   "outputs": [],
   "source": []
  },
  {
   "cell_type": "markdown",
   "metadata": {
    "id": "IArVhXasN62j"
   },
   "source": [
    "#### With the glove embeddings"
   ]
  },
  {
   "cell_type": "code",
   "execution_count": 29,
   "metadata": {
    "colab": {
     "base_uri": "https://localhost:8080/"
    },
    "id": "hjt0SxIlN62l",
    "outputId": "b27b2ff3-e30a-47fc-f715-871e64be3d8b"
   },
   "outputs": [
    {
     "data": {
      "text/plain": [
       "91866"
      ]
     },
     "execution_count": 29,
     "metadata": {},
     "output_type": "execute_result"
    }
   ],
   "source": [
    "len(word_index)"
   ]
  },
  {
   "cell_type": "code",
   "execution_count": 30,
   "metadata": {
    "colab": {
     "base_uri": "https://localhost:8080/",
     "height": 504
    },
    "id": "Q4dQsKV7N62m",
    "outputId": "de4044a2-daf9-4de4-e560-6fa42434d01a"
   },
   "outputs": [
    {
     "name": "stdout",
     "output_type": "stream",
     "text": [
      "Model: \"sequential_1\"\n",
      "_________________________________________________________________\n",
      "Layer (type)                 Output Shape              Param #   \n",
      "=================================================================\n",
      "embedding_1 (Embedding)      (None, 512, 100)          9186700   \n",
      "_________________________________________________________________\n",
      "lstm_1 (LSTM)                (None, 64)                42240     \n",
      "_________________________________________________________________\n",
      "dense_1 (Dense)              (None, 3)                 195       \n",
      "=================================================================\n",
      "Total params: 9,229,135\n",
      "Trainable params: 42,435\n",
      "Non-trainable params: 9,186,700\n",
      "_________________________________________________________________\n"
     ]
    }
   ],
   "source": [
    "model1 = Sequential()\n",
    "model1.add(Embedding(len(word_index)+1, 100, weights=[embedding_matrix], input_length=max_len, trainable=False))\n",
    "# model1.add(layers.Embedding(len(word_index)+1, 100, input_length=max_len))\n",
    "# model1.add(Embedding(max_words, 20))\n",
    "model1.add(LSTM(64,dropout=0.5))\n",
    "model1.add(Dense(3,activation='softmax'))\n",
    "\n",
    "model1.summary()\n",
    "model1.compile(optimizer='rmsprop',loss='categorical_crossentropy', metrics=['accuracy'])\n",
    "#Implementing model checkpoins to save the best metric and do not lose it on training.\n",
    "# checkpoint1 = ModelCheckpoint(\"best_model1.hdf5\", monitor='val_accuracy', verbose=1,save_best_only=True, mode='auto', period=1,save_weights_only=False)\n",
    "#plot_model(model1, to_file='dl_model_lstm_w_anno_400.png', show_shapes=True, show_layer_names=True, dpi=400)\n",
    "#plot_model(model1, to_file='dl_model_lstm_w_anno_50.png', show_shapes=True, show_layer_names=True, dpi=50)"
   ]
  },
  {
   "cell_type": "code",
   "execution_count": 31,
   "metadata": {
    "colab": {
     "base_uri": "https://localhost:8080/"
    },
    "id": "4FAP2_cgN62n",
    "outputId": "2a1f1a20-58d2-4588-f0a3-c7ce492905e9"
   },
   "outputs": [
    {
     "name": "stdout",
     "output_type": "stream",
     "text": [
      "Epoch 1/10\n",
      "3750/3750 [==============================] - 85s 22ms/step - loss: 0.4224 - accuracy: 0.8364 - val_loss: 0.1848 - val_accuracy: 0.93731:00 - lo - ETA: 58s - loss: 0.7026 - accurac - ETA: 57s - loss: 0.6 - ETA: 56s - loss: 0.6845 - accur - ETA: 55s - loss: 0.6782 - accuracy: 0.709 - ETA: 55s -  - ETA: 53s - loss: 0.6605 - accurac - ETA: 53s - loss: 0.6556 - accuracy: 0.722 - ETA: 53s - loss: 0.6550 - - ETA: 52s - loss: 0.6462 - accuracy: 0.72 - ETA: 52s - loss: 0.6455 - accu - ETA: 51s - loss: 0. - ETA: 49s - loss: 0.6268 - ETA: 48s - loss: 0.6176 - - ETA: 44s - loss: 0.5918 - accuracy: 0. - ETA - ETA: 42s - loss: 0.5738 - accuracy:  - ETA: 41s - loss: 0.5715 - accuracy: 0.76 - ETA: 41s - loss: 0.5 - ETA - ETA: 32s - loss: 0.5254 - accuracy:  - ET - ETA: 29s  - ETA: 27s - loss: 0.5045 - accuracy: 0.798 - ETA: 27s - loss: 0.5044  - ETA: 23s - loss: 0. - ETA: 21 - ETA: 19s - loss: 0.4764 - accuracy: - ETA: 19s - loss: 0.4749 - accur - ETA: 7s - loss: - ETA: 6s - loss: 0.4376 -  - ETA: 0s - loss: 0.4233 - \n",
      "Epoch 2/10\n",
      "3750/3750 [==============================] - 83s 22ms/step - loss: 0.1874 - accuracy: 0.9353 - val_loss: 0.1271 - val_accuracy: 0.9584: 1:09 - loss: 0 - ETA: 1: - ETA: 1:07 - loss: 0.2290 - accuracy:  - ETA: 1:07 - loss: 0.2287 - accuracy: 0. - ETA: 1:07 - loss: 0.2 - ETA: 1:06 - loss: 0.2266 - accuracy - ETA: 1:03 - loss: 0.2231 - accuracy: 0. - ETA:  - ETA: 1:01 - loss: 0.2174 - accuracy: 0.92 - ETA: 1:01 - los - ETA: 57s - loss: 0.2142 - accuracy: 0.926 - ETA: 57s - loss: 0.2143 - accu - ETA: 56s - - ETA: 54s - loss: 0.2119 - ETA: 53s - - ETA: 52s - loss: 0.2113 - accuracy:  - ETA: 51s - loss: 0.2108 - acc - ETA: 50s - loss: 0.2 - ETA: 49s - ETA: 47s - loss: 0.2091 - ETA: 46s - loss: 0.2079 - ETA: 44s - loss: 0.2071 - accur - ETA: 44s - loss: 0.2071 - accuracy - ETA - ETA: 35s - loss: 0 - ETA: 34s - loss: 0.2016 - accuracy: 0. - ETA: 34s - loss: 0.2015 - a - ETA: 33s - loss: 0.2010 - accura - ETA: 32s - loss: 0. - ETA: 31s - loss: 0.1999 - accuracy: 0.931 - ETA: 31s - loss: 0.1998 - accuracy: 0 - ETA: 30s - loss: 0.1996 - accuracy: 0.93 - ET - E - ETA: 25s - loss: 0.1970 - ac - ETA: 21s - loss: 0.1954 - accuracy: - ETA: 21s - loss - ETA: 19s - loss: 0.1943 - accurac - ETA: 19s - loss: 0.1940 - accu - ETA: 18s - loss: 0.1938 - acc - ETA: 17s - loss: 0. - ETA: 16s - loss: 0.1925 - accuracy: 0. - ETA: 16s - loss: 0.1924 - accu - ETA: 15s - loss - ETA: 13s - loss: 0.1910 -  - ETA: 12s - loss: 0.1 - ETA: 11s - loss: 0.1905 - accuracy: 0.934 - ETA: 11s - loss: 0.1 - ETA: 10s - loss: 0.19 - ETA: 5s - loss: 0.1887 - accuracy: 0.93 - ETA\n",
      "Epoch 3/10\n",
      "3750/3750 [==============================] - 84s 22ms/step - loss: 0.1455 - accuracy: 0.9507 - val_loss: 0.1145 - val_accuracy: 0.961509 - accuracy: 0.94 - ETA: 59s - loss: 0.1507 - a - ETA: 58s - loss: 0.1493 - accuracy: - ETA: 57s - l - ETA: 55s - loss: 0.1503 - acc - ETA: 52s - loss: 0.1509 - accura - ETA: 51s - loss: 0.1512 - accuracy: 0.94 - ETA: 51s - lo - ETA: 49s - loss: - ETA: 48s - loss: 0.1504 - accurac - ETA - ETA: 45s - loss: 0.1499 - accur - ETA: 44s - loss: 0.1498 - accuracy: 0.94 - ETA: 44s - loss: 0.1498 - ac - ETA: 43s - loss: 0.1493 - ac - ETA: 42s - loss: 0.1486 - ac - ETA: 41s - - ETA: 39s - loss  - ETA: 24s - loss: 0.1 \n",
      "Epoch 4/10\n",
      "3750/3750 [==============================] - 84s 22ms/step - loss: 0.1293 - accuracy: 0.9567 - val_loss: 0.1061 - val_accuracy: 0.9676TA: 1:18 - los - ETA: 1:18 - loss: 0.1 - ETA: 1:17 - loss: 0.1 - ETA: 1:16 - loss: 0.1322 -  - ETA: 1:16 - l - ETA - ETA: 1:08 - loss: - ETA: 1: - ETA: 1:00 - loss: 0.1337 - accura - ETA: 1:00 - loss: 0.1339 - accuracy:  - ETA: 57s - loss: 0.1345 - accuracy: 0. - ETA: 57s - - ETA: 55s - loss: 0.1324 - accuracy:  - E - ETA: 5 - ETA: 39s - loss: 0.1333 - - ETA: 38s - loss: 0.1332 - accuracy: - ETA: 37s - loss - ETA: 36s - loss: 0.1323 - acc - ETA: 35s - loss - - ETA: 28s - ETA: 23s - loss: 0.1307 - accuracy: - ETA: 22s - loss: 0.1307 - acc - E - ETA: - ETA: 14s - loss: 0.1300 - - ETA: 13s - loss: 0.1297 - ETA: 11s - loss: 0.1296 - ac - ETA: 11s - loss: 0.1298 - accuracy: 0 -  - ETA: 0s - loss:\n",
      "Epoch 5/10\n",
      "3750/3750 [==============================] - 84s 22ms/step - loss: 0.1214 - accuracy: 0.9602 - val_loss: 0.1027 - val_accuracy: 0.9668242 - accuracy: 0. - ETA: 1:03 - loss: 0.1240 - accuracy: 0.96 - ETA: 1:03 - loss: - ETA: 1:02 - loss: 0.1236 - ac - ETA: 1:02 - - ETA: 1:01 - loss: 0 - ETA: 1:01 - loss: 0.1 - ETA: 1:00 - loss: 0.1235 -  - ETA: 59s - loss: 0.1233 - accura  - ETA: 56s - loss: 0.1218 - acc - ETA: 55s - loss: 0.1224  - ETA: 54s - loss: 0.1215 - accuracy: - ETA: 51s - loss: - ETA: 49s - loss: 0.1224 - accuracy: - ETA: 49s - loss: 0.1229 - accuracy: - ETA: 48s - loss: 0.1229 - accura - ETA: 48 - ETA: 45s - loss: 0.1223 - accuracy: 0.96 - ETA: 45s - loss: 0.1222 - accuracy: 0.96 - ETA: 45s - loss: 0.1224 - accuracy: 0. - ET - ETA: 42s - ETA: 40s - loss: 0.1229 - accu - ETA: 40s - loss: 0.1226 - accuracy: 0. - ETA: 39s - loss: 0.1225 - accuracy:  - ETA: 39s - loss: 0.1225 - accuracy: 0. - ETA: 39s - loss: 0.1223 - accuracy:  - ETA: 38s - loss: 0 - ETA: 37s - loss: 0.1221 - accuracy: 0.9 - ET - ETA: 34s - loss: - ETA: 33s - loss: 0 - ETA:  - ETA: 29s - loss: 0.1217 - accu - ETA: 28s - lo - ETA: 26s - loss: 0.1218 - accuracy:  - ETA: 26s - loss: 0.1217  - ETA: 25s - loss: 0.12 - ETA: 23s - loss: 0.1219 - accuracy: 0 - ETA: 23s - loss: 0.1218 - accuracy:  - ETA: 23s - loss: 0.1217 - accuracy: 0.9 - \n",
      "Epoch 6/10\n",
      "3750/3750 [==============================] - 83s 22ms/step - loss: 0.1162 - accuracy: 0.9618 - val_loss: 0.1059 - val_accuracy: 0.9673: 1:05 - loss: 0.1183 - accuracy - ETA: 1:05 - loss: 0.1179 -  - ETA: 55s - loss: 0.1162 - acc - ETA: 49s - loss: 0.1154 - ETA: 48s - loss: 0.1156 - accuracy - ETA: 48s -  - ETA: 46s - loss: 0.1159 - ETA: 44s - loss: 0.1156 - ac - ETA: 38s - loss: 0.1161 - accuracy: 0.96 - ET - ETA: 35s - loss: 0.1158 - accuracy: 0.96 - ETA: 35s - loss: 0.1157 - accur - - ETA: 26s - loss: 0.1164 - accuracy - ETA: 26s - loss: 0.1166 - accura - ETA: 25s - loss: 0.1166 - accuracy: 0 - ETA: 25s - l - ETA: 2 - ETA: 18s - loss:  - ETA: 17s - loss: 0.1163 - accuracy: 0. - ETA: 16s - loss: 0.1165 - accuracy: 0. - ETA: 16s - loss: 0.1164 - accuracy: - ETA: 16s - loss: 0.1164 - accurac - ETA: 15s - loss:  - ETA: 14s - loss: 0.1 - ETA: 12s - loss: 0.116 - ETA: 11s - loss: 0.1164 - a - ETA - ETA: 6s - loss: 0 - ETA: 5s - - ETA: 4s - l - ETA: 3s - loss: 0.1166 - ac - ETA: 3s - loss: 0.1165 - accuracy: 0.96 - ETA: 3s - loss: 0.1165 - accuracy - ETA: 2s - loss: 0.1164  - ETA: 2s - - ETA: 1s - loss: 0.1163 - accu - ETA: 0s -\n",
      "Epoch 7/10\n",
      "3750/3750 [==============================] - 86s 23ms/step - loss: 0.1114 - accuracy: 0.9635 - val_loss: 0.0934 - val_accuracy: 0.9713 loss: 0.113 - ETA: 1:01 - loss: - ETA: 1:00 - loss: 0.1120 - accuracy:  - ETA: 1:00 - loss: 0.1127 - accuracy: 0. - ETA: 1:00 - loss: 0.1128 - accuracy - ETA: 59s - loss: 0.1127 - accuracy: 0 - ETA: 59s - loss: 0.1124 - acc - ETA: 58s - loss: 0.1120 - accura - ETA: 58s - loss: 0.1119 - accuracy: - ETA: 57s - loss: 0.1122 -  - ETA: 56s - loss: 0.1118 - ETA: 55s - l - ETA: 50s  - ETA: 48s - loss: 0.1102 - accurac - ETA: 48s - loss: 0.1104 - accuracy: 0.9 - ETA: 48s - loss: 0.1105 - accuracy: 0.9 - ETA: 47s - loss: 0.1105 - ac - ETA: 47s - loss: 0.1100 - accurac - ETA: 46s - - ETA: 44s - loss: 0.1096 - accuracy: 0.9 - ETA: 44s - loss: 0.1100 - accuracy: 0. - ETA: 44s - loss: 0.1102  - ETA: 43s - loss: 0.1099  - ETA: 41s - loss: 0.1097 - accuracy: 0.9 - ETA: 41s - loss: 0.1098 - accurac - ETA: 41s - loss: 0.1100 - accuracy: 0.96 - ETA: 41s - l - ETA: 30s - - ETA: 26s - loss: 0.111 - ETA: 25s - loss: 0.1111 -  - ETA: 23s - loss: 0.1112 - - ETA: 22s - loss: 0.1112 - accuracy:  - ETA: 2 - ETA: 20s - loss: 0.1117 - accuracy: 0.96 - ETA: 20s - los - ETA: 15s - loss: 0.1120 - accu - ETA: 14s - los - ETA: 10s - l - ETA: 7s - loss: 0.1123 - accura - ETA: 3s - los - ETA: 2s - ETA: 0s - loss: 0.1114 - accuracy: 0.\n",
      "Epoch 8/10\n"
     ]
    },
    {
     "name": "stdout",
     "output_type": "stream",
     "text": [
      "3750/3750 [==============================] - 86s 23ms/step - loss: 0.1066 - accuracy: 0.9647 - val_loss: 0.0907 - val_accuracy: 0.9716 ETA: 1:14 - loss: 0.1010 - accuracy:  - ETA: 1:14 - loss: 0.1020 - accuracy: 0. - ETA - ETA: 1:09 - loss: 0.1 - ETA: 1:09 - loss: 0.1023 - accuracy: 0. - ETA: 1:03 - l - ETA: 1:00 - l - ETA: 1:00 - l - ETA: 58s - loss: 0.1034 - accuracy: 0.9 - ETA: 58s - lo - ETA: 56s - loss: 0.1 - ETA: 54s - loss: 0.1037 - accuracy: 0.965 - ETA: 54s - loss: - ETA: 50s - loss: 0.1060 - accuracy: 0.965 - ETA: 50s - loss: 0.1060 - accuracy: 0.965 - ETA: 50s - lo - ETA: 48s - loss: 0.1069 - accuracy: - ETA: 47s - loss: 0.1066 - accuracy: 0.965 - ETA: 47s - loss: 0.1066 - accura - ETA: 47s - loss: 0.1071 -  - ETA: 46s - loss: 0.1067 - acc - ETA: 45s - loss: 0.1075 - accuracy: - ETA: 4 - ETA: 42s - loss: 0.1071 - accuracy: 0. - ETA: 42s - loss: 0.1074 - - ETA: 41s - loss: 0.1075 - accuracy: 0.9 - ETA: 41s - loss: 0.1076 - ac  - ETA: 37s - loss: 0.1069 - accur - ETA: 37s - ETA: 35s - loss: 0.10 - ETA: 33s - l - ETA: 31s - loss: 0.1072 - accuracy:  - ETA: 31s - loss: 0.1071 - accuracy: 0 - ETA: 31s - loss: 0.1071 - accuracy - ETA - ETA:  - ETA: 25s - loss: 0.1072 - accur - ETA: 22s - loss: 0. - ETA: 20s - loss: 0.1077 - accuracy - ETA: 20s - loss: 0.1079 - accur - ETA: 19s - loss:  - ETA: 17s - loss: 0.10 - ETA: 16s - loss: 0.1072 - accuracy - ETA: 16s - loss: 0.1072 - accuracy: 0. - ETA: 15s - loss: 0.1072  - ETA: 14s - loss: 0.1069 - accuracy - ETA: 14 - ETA: 12s - loss: 0.1065 - ac - ETA: 11s - loss: 0.1065 - accuracy: 0 - ETA: 10s - loss: 0.1067 - accuracy: - ETA: 10s - lo - ETA: 5s - ETA: 1s - ETA: 0s - loss: 0.1065 - accu\n",
      "Epoch 9/10\n",
      "3750/3750 [==============================] - 86s 23ms/step - loss: 0.1059 - accuracy: 0.9654 - val_loss: 0.0886 - val_accuracy: 0.9736oss:  - ETA: 46s - loss: 0.1062 - accura - ETA: 46s - loss: 0.1063 - acc - ETA: 42s - loss: 0.1061  - ETA: 41s - l - ETA: 36s - loss: 0.1065 - accuracy: 0.965 - ETA: 36s - loss: - ETA: 35s - loss: - ETA: 33 - ETA: 31s - loss: 0.1067 - accuracy:  - ETA: 31s - loss: 0.1064 - accur - ETA: 30s - loss: 0.1061  - ETA: 29s - loss: 0.1061 - accuracy: 0 - ETA: 29s - loss: 0.1060 - accuracy: 0. - ETA: 28s - loss: 0.1059 - - ETA: 27s - loss: 0.1056 - accurac - ETA: 27s - loss: 0.105 - ETA: 25s - loss: 0.1051 - accuracy: - ETA: 25s - loss: 0.1051 - accuracy - ETA: 24s - loss: 0.1052 - a - ETA: 23s - loss: 0.1051 - accuracy: - ETA: 23s - loss: 0.1051 - a - ETA: 22s - loss: 0.1054 - accuracy:  - ETA: 22s - loss: 0.1054 - accuracy: - ETA: 21s - loss: 0.1053 - accuracy:  - - ETA: 18s - loss: 0.1 - ETA: 17s - loss: 0.1055 - accu - ETA: 16s - loss: 0.1054 - accuracy: 0.9 - ETA: 16s - loss: 0.1054 - accurac - ETA: 15s - loss: 0.1054 - accuracy: 0.965 - ETA: 15s - loss: 0.1054 - accuracy: 0.9 - ETA: 15s - loss: 0.1053 - accuracy: - ETA: 15s - loss: 0.1055  - ETA: 14s - loss: 0.1055 - accuracy: 0.965 - ETA: 13s - loss: 0.1055 - accur - ETA: 13s - loss: 0.1054 - accuracy: 0.96 - ETA - ETA: 10s - loss: 0.1053 - accuracy: 0.965 - ETA: 10s - loss: 0.1053 - - ETA: 9s - loss: 0 - ETA - ETA: 0s - l\n",
      "Epoch 10/10\n",
      "3750/3750 [==============================] - 84s 22ms/step - loss: 0.1037 - accuracy: 0.9661 - val_loss: 0.0879 - val_accuracy: 0.9728TA: 1: - ETA: 1:03 - loss: 0.1036 -  - ETA: 56s - loss: 0.1026 - accuracy: 0.9 - ETA: 56s - loss: 0.1027 - accuracy: 0.96 - ETA: 56s - loss: 0.1026 - ETA: 52 - ETA: 41s - loss: 0.1033 - ETA: 40s - loss: 0.1034 - accur - ETA: 3 - ETA: - ETA: 29s - loss: 0.1031 - accuracy: 0.9 - ETA: 28s - loss: 0.1031 - accuracy: 0.965 -  - ETA: 17s - loss: 0.102 - ETA: 16s - loss: 0.1023 - accuracy: 0. - ETA: 16s - loss: 0.1022 - accuracy: 0 - ETA: 15s - loss: 0.1022 - accu - ETA: 15s -  - ETA: 13s - loss: 0.1030  - ETA: 11s - lo - ET - ETA:  - ETA: 6s - l -\n"
     ]
    }
   ],
   "source": [
    "# history = model1.fit(X_train, y_train, epochs=70,validation_data=(X_test, y_test),callbacks=[checkpoint1])\n",
    "history_1 = model1.fit(X_train, y_train, validation_data=(X_val, y_val), verbose=1, epochs=10)"
   ]
  },
  {
   "cell_type": "code",
   "execution_count": null,
   "metadata": {},
   "outputs": [],
   "source": []
  },
  {
   "cell_type": "code",
   "execution_count": 32,
   "metadata": {
    "id": "WzAGlEUiN62o"
   },
   "outputs": [
    {
     "data": {
      "image/png": "[encoded data removed]",
      "text/plain": [
       "<Figure size 1080x432 with 2 Axes>"
      ]
     },
     "metadata": {
      "needs_background": "light"
     },
     "output_type": "display_data"
    }
   ],
   "source": [
    "plt.figure(figsize=(15,6))\n",
    "plt.subplot(1, 2, 1) \n",
    "plt.plot(history_1.history[\"loss\"], label=\"train_loss\")\n",
    "plt.plot(history_1.history[\"val_loss\"], label=\"val_loss\")\n",
    "plt.xlabel(\"Epochs\", fontsize=16)\n",
    "plt.ylabel(\"loss\", fontsize=16)\n",
    "plt.xticks(np.arange(a), np.arange(1, a+1),fontsize=12)\n",
    "plt.yticks(fontsize=12)\n",
    "plt.title(\"Train and Validation loss Over Epochs\", fontsize=14)\n",
    "plt.legend()\n",
    "plt.grid()\n",
    "# plt.show()\n",
    "plt.subplot(1, 2, 2) \n",
    "plt.plot(history_1.history[\"accuracy\"], label=\"train_accuracy\")\n",
    "plt.plot(history_1.history[\"val_accuracy\"], label=\"val_accuracy\")\n",
    "plt.xlabel(\"Epochs\",fontsize=16)\n",
    "plt.ylabel(\"accuracy\",fontsize=16)\n",
    "plt.xticks(np.arange(a), np.arange(1, a+1), fontsize=12)\n",
    "plt.yticks(fontsize=12)\n",
    "plt.title(\"Train and Validation accuracy Over Epochs\", fontsize=14)\n",
    "plt.legend()\n",
    "plt.grid()\n",
    "plt.savefig('model_lstm_w_loss_50', dpi=50,  bbox_inches='tight', transparent=True, pad_inches=0)\n",
    "plt.savefig('model_lstm_w_loss_400', dpi=400,  bbox_inches='tight', transparent=True, pad_inches=0)\n",
    "\n",
    "plt.show()"
   ]
  },
  {
   "cell_type": "code",
   "execution_count": null,
   "metadata": {
    "id": "PfAkkFHXN62q"
   },
   "outputs": [],
   "source": []
  },
  {
   "cell_type": "code",
   "execution_count": 33,
   "metadata": {
    "id": "tWI-VXfXN62q"
   },
   "outputs": [
    {
     "name": "stdout",
     "output_type": "stream",
     "text": [
      "469/469 [==============================] - ETA: 0s - loss: 0.0883 - accuracy: 0.97 - 5s 10ms/step - loss: 0.0886 - accuracy: 0.9723\n"
     ]
    },
    {
     "data": {
      "text/plain": [
       "[0.08859343826770782, 0.9723333120346069]"
      ]
     },
     "execution_count": 33,
     "metadata": {},
     "output_type": "execute_result"
    }
   ],
   "source": [
    "model1.evaluate(X_test, y_test)"
   ]
  },
  {
   "cell_type": "code",
   "execution_count": 34,
   "metadata": {
    "id": "zSZHopm4N62r"
   },
   "outputs": [],
   "source": [
    "y_pred_1 = model1.predict(X_test)"
   ]
  },
  {
   "cell_type": "code",
   "execution_count": 35,
   "metadata": {
    "id": "y8oEiGrkN62r"
   },
   "outputs": [],
   "source": [
    "y_pred_1 = (y_pred_1 > 0.5)"
   ]
  },
  {
   "cell_type": "code",
   "execution_count": 36,
   "metadata": {
    "id": "joB5RrMHN62s"
   },
   "outputs": [
    {
     "name": "stdout",
     "output_type": "stream",
     "text": [
      "              precision    recall  f1-score   support\n",
      "\n",
      "           0       0.97      0.98      0.97      4969\n",
      "           1       0.97      0.97      0.97      5002\n",
      "           2       0.98      0.97      0.97      5029\n",
      "\n",
      "   micro avg       0.97      0.97      0.97     15000\n",
      "   macro avg       0.97      0.97      0.97     15000\n",
      "weighted avg       0.97      0.97      0.97     15000\n",
      " samples avg       0.97      0.97      0.97     15000\n",
      "\n"
     ]
    },
    {
     "name": "stderr",
     "output_type": "stream",
     "text": [
      "C:\\Users\\tschi\\anaconda3\\lib\\site-packages\\sklearn\\metrics\\_classification.py:1308: UndefinedMetricWarning: Precision and F-score are ill-defined and being set to 0.0 in samples with no predicted labels. Use `zero_division` parameter to control this behavior.\n",
      "  _warn_prf(average, modifier, msg_start, len(result))\n"
     ]
    }
   ],
   "source": [
    "print(classification_report(y_test, y_pred_1))"
   ]
  },
  {
   "cell_type": "code",
   "execution_count": 37,
   "metadata": {
    "id": "uth2uGSXN62s"
   },
   "outputs": [
    {
     "name": "stdout",
     "output_type": "stream",
     "text": [
      "91866\n"
     ]
    }
   ],
   "source": [
    "print(len(word_index))"
   ]
  },
  {
   "cell_type": "code",
   "execution_count": 38,
   "metadata": {
    "id": "h_UcR_3hN62t"
   },
   "outputs": [
    {
     "name": "stdout",
     "output_type": "stream",
     "text": [
      "\n"
     ]
    }
   ],
   "source": [
    "print()"
   ]
  },
  {
   "cell_type": "markdown",
   "metadata": {
    "id": "sT-Sl0kSwVox"
   },
   "source": [
    "### Sequential model Bi-LSTM"
   ]
  },
  {
   "cell_type": "markdown",
   "metadata": {
    "id": "_uA8LWYIf6Y4"
   },
   "source": [
    "#### Withouht glove embeddings"
   ]
  },
  {
   "cell_type": "code",
   "execution_count": 39,
   "metadata": {
    "colab": {
     "base_uri": "https://localhost:8080/",
     "height": 523
    },
    "id": "5TrllX27LlHt",
    "outputId": "b647db54-e877-4321-cde8-ad48a0b5187e"
   },
   "outputs": [
    {
     "name": "stdout",
     "output_type": "stream",
     "text": [
      "Model: \"sequential_2\"\n",
      "_________________________________________________________________\n",
      "Layer (type)                 Output Shape              Param #   \n",
      "=================================================================\n",
      "embedding_2 (Embedding)      (None, 512, 100)          9186700   \n",
      "_________________________________________________________________\n",
      "bidirectional (Bidirectional (None, 20)                8880      \n",
      "_________________________________________________________________\n",
      "dense_2 (Dense)              (None, 3)                 63        \n",
      "=================================================================\n",
      "Total params: 9,195,643\n",
      "Trainable params: 9,195,643\n",
      "Non-trainable params: 0\n",
      "_________________________________________________________________\n"
     ]
    },
    {
     "data": {
      "image/png": "[encoded data removed]",
      "text/plain": [
       "<IPython.core.display.Image object>"
      ]
     },
     "execution_count": 39,
     "metadata": {},
     "output_type": "execute_result"
    }
   ],
   "source": [
    "model2 = Sequential()\n",
    "model2.add(layers.Embedding(len(word_index)+1, 100, input_length=max_len))\n",
    "model2.add(layers.Bidirectional(layers.LSTM(10,dropout=0.6)))\n",
    "model2.add(layers.Dense(3,activation='softmax'))\n",
    "model2.compile(optimizer='rmsprop',loss='categorical_crossentropy', metrics=['accuracy'])\n",
    "model2.summary()\n",
    "plot_model(model2, to_file='dl_model_bilstm_wo_anno_400.png', show_shapes=True, show_layer_names=True, dpi=400)\n",
    "plot_model(model2, to_file='dl_model_bilstm_wo_anno_50.png', show_shapes=True, show_layer_names=True, dpi=50)\n"
   ]
  },
  {
   "cell_type": "code",
   "execution_count": 40,
   "metadata": {
    "colab": {
     "base_uri": "https://localhost:8080/"
    },
    "id": "dfYRtSZHQib4",
    "outputId": "820a8b76-dd58-4525-9984-81d17d31fb7c"
   },
   "outputs": [
    {
     "name": "stdout",
     "output_type": "stream",
     "text": [
      "Epoch 1/10\n",
      "3750/3750 [==============================] - 163s 43ms/step - loss: 0.3999 - accuracy: 0.8490 - val_loss: 0.2509 - val_accuracy: 0.9241\n",
      "Epoch 2/10\n",
      "3750/3750 [==============================] - 160s 43ms/step - loss: 0.2125 - accuracy: 0.9359 - val_loss: 0.1642 - val_accuracy: 0.9526\n",
      "Epoch 3/10\n",
      "3750/3750 [==============================] - 160s 43ms/step - loss: 0.1621 - accuracy: 0.9512 - val_loss: 0.1605 - val_accuracy: 0.9550\n",
      "Epoch 4/10\n",
      "3750/3750 [==============================] - 163s 43ms/step - loss: 0.1421 - accuracy: 0.9570 - val_loss: 0.1474 - val_accuracy: 0.9563\n",
      "Epoch 5/10\n",
      "3750/3750 [==============================] - 161s 43ms/step - loss: 0.1259 - accuracy: 0.9616 - val_loss: 0.1249 - val_accuracy: 0.9624\n",
      "Epoch 6/10\n",
      "3750/3750 [==============================] - 160s 43ms/step - loss: 0.1166 - accuracy: 0.9645 - val_loss: 0.1175 - val_accuracy: 0.9647\n",
      "Epoch 7/10\n",
      "3750/3750 [==============================] - 163s 44ms/step - loss: 0.1097 - accuracy: 0.9661 - val_loss: 0.1195 - val_accuracy: 0.9629\n",
      "Epoch 8/10\n",
      "3750/3750 [==============================] - 163s 44ms/step - loss: 0.1041 - accuracy: 0.9680 - val_loss: 0.1117 - val_accuracy: 0.9665\n",
      "Epoch 9/10\n",
      "3750/3750 [==============================] - 163s 43ms/step - loss: 0.0999 - accuracy: 0.9694 - val_loss: 0.1063 - val_accuracy: 0.9683\n",
      "Epoch 10/10\n",
      "3750/3750 [==============================] - 160s 43ms/step - loss: 0.0963 - accuracy: 0.9707 - val_loss: 0.1246 - val_accuracy: 0.9651\n"
     ]
    }
   ],
   "source": [
    "history_2 = model2.fit(X_train, y_train, validation_data=(X_val, y_val), verbose=1, epochs=10)"
   ]
  },
  {
   "cell_type": "code",
   "execution_count": 41,
   "metadata": {
    "colab": {
     "base_uri": "https://localhost:8080/",
     "height": 412
    },
    "id": "bF1jYX3xVB6r",
    "outputId": "73e0c65f-6e37-4f13-c7d1-1ddd3f0b7377"
   },
   "outputs": [
    {
     "data": {
      "image/png": "[encoded data removed]",
      "text/plain": [
       "<Figure size 1080x432 with 2 Axes>"
      ]
     },
     "metadata": {
      "needs_background": "light"
     },
     "output_type": "display_data"
    }
   ],
   "source": [
    "plt.figure(figsize=(15,6))\n",
    "plt.subplot(1, 2, 1) \n",
    "plt.plot(history_2.history[\"loss\"], label=\"train_loss\")\n",
    "plt.plot(history_2.history[\"val_loss\"], label=\"val_loss\")\n",
    "plt.xlabel(\"Epochs\", fontsize=16)\n",
    "plt.ylabel(\"loss\", fontsize=16)\n",
    "plt.xticks(np.arange(a), np.arange(1, a+1), fontsize=12)\n",
    "plt.yticks(fontsize=12)\n",
    "plt.title(\"Train and Validation loss Over Epochs\", fontsize=14)\n",
    "plt.legend()\n",
    "plt.grid()\n",
    "# plt.show()\n",
    "plt.subplot(1, 2, 2) \n",
    "plt.plot(history_2.history[\"accuracy\"], label=\"train_accuracy\")\n",
    "plt.plot(history_2.history[\"val_accuracy\"], label=\"val_accuracy\")\n",
    "plt.xlabel(\"Epochs\",fontsize=16)\n",
    "plt.ylabel(\"accuracy\",fontsize=16)\n",
    "plt.xticks(np.arange(a), np.arange(1, a+1), fontsize=12)\n",
    "plt.yticks(fontsize=12)\n",
    "plt.title(\"Train and Validation accuracy Over Epochs\", fontsize=14)\n",
    "plt.legend()\n",
    "plt.grid()\n",
    "plt.savefig('model_bilstm_wo_loss_50', dpi=50,  bbox_inches='tight', transparent=True, pad_inches=0)\n",
    "plt.savefig('model_bilstm_wo_loss_400', dpi=400,  bbox_inches='tight', transparent=True, pad_inches=0)\n",
    "\n",
    "plt.show()"
   ]
  },
  {
   "cell_type": "code",
   "execution_count": 42,
   "metadata": {
    "colab": {
     "base_uri": "https://localhost:8080/"
    },
    "id": "kIcNcQNuo1F4",
    "outputId": "9237621e-f13d-49bc-e925-214ed2b44500"
   },
   "outputs": [
    {
     "name": "stdout",
     "output_type": "stream",
     "text": [
      "469/469 [==============================] - 7s 15ms/step - loss: 0.1236 - accuracy: 0.9630\n"
     ]
    },
    {
     "data": {
      "text/plain": [
       "[0.12363653630018234, 0.9629999995231628]"
      ]
     },
     "execution_count": 42,
     "metadata": {},
     "output_type": "execute_result"
    }
   ],
   "source": [
    "model2.evaluate(X_test, y_test)"
   ]
  },
  {
   "cell_type": "code",
   "execution_count": 43,
   "metadata": {
    "id": "HtJB8Wpp1JAE"
   },
   "outputs": [],
   "source": [
    "y_pred_2 = model2.predict(X_test)"
   ]
  },
  {
   "cell_type": "code",
   "execution_count": 44,
   "metadata": {
    "id": "YIiFkolC1Q1N"
   },
   "outputs": [],
   "source": [
    "y_pred_2 = (y_pred_2 > 0.5)"
   ]
  },
  {
   "cell_type": "code",
   "execution_count": 45,
   "metadata": {
    "colab": {
     "base_uri": "https://localhost:8080/"
    },
    "id": "Af4Rxc9G1a_B",
    "outputId": "b6df352c-51d9-462a-a29a-10a91b776e3b"
   },
   "outputs": [
    {
     "name": "stdout",
     "output_type": "stream",
     "text": [
      "              precision    recall  f1-score   support\n",
      "\n",
      "           0       0.95      0.98      0.96      4969\n",
      "           1       0.96      0.96      0.96      5002\n",
      "           2       0.99      0.95      0.97      5029\n",
      "\n",
      "   micro avg       0.96      0.96      0.96     15000\n",
      "   macro avg       0.96      0.96      0.96     15000\n",
      "weighted avg       0.96      0.96      0.96     15000\n",
      " samples avg       0.96      0.96      0.96     15000\n",
      "\n"
     ]
    },
    {
     "name": "stderr",
     "output_type": "stream",
     "text": [
      "C:\\Users\\tschi\\anaconda3\\lib\\site-packages\\sklearn\\metrics\\_classification.py:1308: UndefinedMetricWarning: Precision and F-score are ill-defined and being set to 0.0 in samples with no predicted labels. Use `zero_division` parameter to control this behavior.\n",
      "  _warn_prf(average, modifier, msg_start, len(result))\n"
     ]
    }
   ],
   "source": [
    "print(classification_report(y_test,y_pred_2))"
   ]
  },
  {
   "cell_type": "code",
   "execution_count": null,
   "metadata": {
    "id": "z_Iuycws7LXo"
   },
   "outputs": [],
   "source": []
  },
  {
   "cell_type": "code",
   "execution_count": null,
   "metadata": {
    "id": "0KiQ-hH_gBuz"
   },
   "outputs": [],
   "source": []
  },
  {
   "cell_type": "markdown",
   "metadata": {
    "id": "htFysGDzgEQN"
   },
   "source": [
    "#### With glove embeddings"
   ]
  },
  {
   "cell_type": "code",
   "execution_count": 46,
   "metadata": {
    "colab": {
     "base_uri": "https://localhost:8080/",
     "height": 506
    },
    "id": "-Jx_c7vagEQO",
    "outputId": "61c2340d-54c8-44e3-c554-4619e929f16e"
   },
   "outputs": [
    {
     "name": "stdout",
     "output_type": "stream",
     "text": [
      "Model: \"sequential_3\"\n",
      "_________________________________________________________________\n",
      "Layer (type)                 Output Shape              Param #   \n",
      "=================================================================\n",
      "embedding_3 (Embedding)      (None, 512, 100)          9186700   \n",
      "_________________________________________________________________\n",
      "bidirectional_1 (Bidirection (None, 20)                8880      \n",
      "_________________________________________________________________\n",
      "dense_3 (Dense)              (None, 3)                 63        \n",
      "=================================================================\n",
      "Total params: 9,195,643\n",
      "Trainable params: 8,943\n",
      "Non-trainable params: 9,186,700\n",
      "_________________________________________________________________\n"
     ]
    }
   ],
   "source": [
    "model2 = Sequential()\n",
    "model2.add(Embedding(len(word_index)+1, 100, weights=[embedding_matrix], input_length=max_len, trainable=False))\n",
    "model2.add(layers.Bidirectional(layers.LSTM(10,dropout=0.6)))\n",
    "model2.add(layers.Dense(3,activation='softmax'))\n",
    "model2.compile(optimizer='rmsprop',loss='categorical_crossentropy', metrics=['accuracy'])\n",
    "model2.summary()\n",
    "#plot_model(model2, to_file='/content/drive/MyDrive/dataset_patent/figures/dl_model2_w_anno_400.png', show_shapes=True, show_layer_names=True, dpi=400)\n",
    "#plot_model(model2, to_file='/content/drive/MyDrive/dataset_patent/figures/dl_model2_w_anno_50.png', show_shapes=True, show_layer_names=True, dpi=50)\n"
   ]
  },
  {
   "cell_type": "code",
   "execution_count": 47,
   "metadata": {
    "colab": {
     "base_uri": "https://localhost:8080/"
    },
    "id": "Iz215Dk0gEQQ",
    "outputId": "820a8b76-dd58-4525-9984-81d17d31fb7c"
   },
   "outputs": [
    {
     "name": "stdout",
     "output_type": "stream",
     "text": [
      "Epoch 1/10\n",
      "3750/3750 [==============================] - 140s 37ms/step - loss: 0.6402 - accuracy: 0.7306 - val_loss: 0.5347 - val_accuracy: 0.7999: 57s  - ETA: 51s - loss: 0.7266 - accura - ETA: 51s - loss: 0.7256 - accur - ETA: 50s - loss: 0.7239 - ac - ETA: 49s - loss: 0.7215 - acc - ETA: 48s  - ETA: 43s - loss: 0.7100 - acc - ETA: 42s - loss - ETA: 40s - loss: 0.705 - ETA: 39s - - ETA - ETA: 0s - loss: 0.6406 - accuracy\n",
      "Epoch 2/10\n",
      "3750/3750 [==============================] - 137s 37ms/step - loss: 0.3742 - accuracy: 0.8641 - val_loss: 0.2514 - val_accuracy: 0.9137A: 57s - loss: 0.4031 - a - ETA: 56s - lo - ETA: 54s - loss: 0.4015 - accuracy: 0 - ETA: 42s - loss: 0.3968 - ac - ETA: 41s - loss: 0.3965 - accur - ETA: 40s - loss: 0.3961 - ac - ETA: 39s - loss: 0.3956 - accurac - ETA: 38s - loss: 0.3954 - accuracy - ETA: 38s - loss: 0.3951 - accur - ETA: 37s -  - ETA: 35s - l - ETA: 27s - ETA: 24s - loss: 0.3878 - accuracy: 0. - ETA: 24s - loss: 0.387 - ETA: 23s - loss: 0.3874 - accuracy: 0. - ETA: 22s - loss: 0.387 - ETA - - ETA: 12s - loss: 0.38 - ETA: 7s - los - ETA: 6s - loss: 0.3776  - ETA: 5s - l - ETA: 1s - loss: 0.3749 - accuracy: 0. - ETA: 0s - loss: 0.3744 - accuracy: \n",
      "Epoch 3/10\n",
      "3750/3750 [==============================] - 138s 37ms/step - loss: 0.2795 - accuracy: 0.9021 - val_loss: 0.2184 - val_accuracy: 0.9311acy: 0.900 - ETA: 31s - loss: 0.28 - ETA: 26s - loss: 0.2840  - ETA: 25s - loss: 0.2836 - accuracy: 0.9 - ETA: 25s - loss: 0.2836 - accura - ETA: 24s - loss: 0.2836 - accuracy: 0.90 - ET - ETA: 21s - lo - ETA: 19s - loss: 0.2830 - accuracy: 0.900 - ETA: 19s - loss: 0.2830 - acc -  - ETA: - ETA: 0s - loss:\n",
      "Epoch 4/10\n",
      "3750/3750 [==============================] - 135s 36ms/step - loss: 0.2394 - accuracy: 0.9158 - val_loss: 0.1894 - val_accuracy: 0.9403s - loss: 0.2459 - accura - ETA: 53s - loss: 0.2456 - accuracy: 0.91 - ETA: 53s - loss: 0.2456 - accura -  - ET - ETA: 35s - ETA: 26s - lo - ETA: 24s - loss: 0.2424 -\n",
      "Epoch 5/10\n",
      "3750/3750 [==============================] - 137s 36ms/step - loss: 0.2157 - accuracy: 0.9257 - val_loss: 0.1747 - val_accuracy: 0.9386A: 52s - loss: 0.2157  - ETA: 44s - loss: 0.2157 - accuracy: 0. - ETA: 44s - loss: 0.2157 - accuracy: 0 - ETA: 43s - loss: 0.2156 - accuracy: 0.925 - ETA: 4 - ETA: 31s - loss: 0.2158 - accuracy - ETA: 3 - ETA: - ETA: 23s - loss: 0.2154 - accuracy: 0 - ETA: 22s - loss - ETA: 20s - loss:  - ETA: 19s - loss: 0.2152 - accura - ETA: 18s - loss: - ETA: 16s - loss: 0.215 - ETA: 12s - loss: 0.21 - E - ETA: 4s - loss: 0.2159 - accu - ETA: 3s - loss: 0.2 - ETA: 3s - l - ETA: 2s - loss: 0.2159 \n",
      "Epoch 6/10\n",
      "3750/3750 [==============================] - 136s 36ms/step - loss: 0.2026 - accuracy: 0.9287 - val_loss: 0.1566 - val_accuracy: 0.9458A: 1:21 - loss: 0.20 - ETA: - ETA: 54s - l - ETA: 52s - lo - ETA: 50s - loss:  - ETA: 48s - loss: 0.2046 - ac - ETA: 47s - loss: 0.2048 - accura - ETA: 46s - loss: 0.2044 - a - ETA: 45s - lo - ETA: 40s - loss: 0.2041 - accuracy: 0.9 - ETA: 40s - loss: 0.2041 - accuracy: 0.9 - ETA: 40s - loss: 0.2042 -  - ETA: 39s - loss: 0.2042 - - ETA: 37s - loss: 0.2044 - accuracy: 0.928 - ETA: 37s - lo - ETA: 35s - loss: 0 - ETA:  - ETA: 12s - loss: 0.2033 - accuracy:  - ETA: 12s - loss: 0.2031 - accu - ETA: 11s - loss: 0.2031 - accuracy: 0.9 - ETA: 11s - loss: 0.2029 - accuracy: 0.928 - ETA: 7s - loss: 0.2026 - accuracy: 0.92 - ETA: 7s - los - ETA: 6s - loss: 0.2025 - accuracy: 0. - ETA: 6s - ETA: 5s - loss: 0.2025 - accuracy - E - ETA: 3s - loss: 0.2023 \n",
      "Epoch 7/10\n",
      "3750/3750 [==============================] - 133s 35ms/step - loss: 0.1948 - accuracy: 0.9310 - val_loss: 0.1573 - val_accuracy: 0.9475ss: 0.1906 - accuracy: 0. - ETA: 1:58 - loss: 0.190 - ETA: 1:56 - loss: 0.1837 - accuracy: 0.93 - ETA: 1:56 - l - ETA: 1:55 - loss: 0.1853 - accuracy: 0.93 - ETA: 1:55 - ETA:  - ETA: 1:53 - loss: 0.1892 - accuracy - ETA - ETA: 1:50 - - ETA: 1:48 - loss: 0.1939 - accuracy - ETA: 1:45 - loss: - ETA: 1:44 - loss: 0.1928 - accuracy:  - ETA: 1:44 - loss: 0.1924 -  - - ETA: 1:42 - loss: 0.1935 - ac - ETA: 1:42 - loss: 0.1943 - - ETA: 58s - loss: 0.1958 - - ETA: 57s - loss: 0.1958 - acc - ETA: 50s - loss: 0.1946 -  - ETA: 49s - loss: 0.1944 - accuracy: 0.931 - ETA: 49s - loss: 0.194 - ETA: 47s - loss:  - ETA: 46s - - ETA: 37s - loss: 0.1936 - accuracy: 0.9 - ETA: 37s - loss: 0.1937 - ac - ETA: 36 - ETA: 34s - loss: 0.1936 - a - ETA: 30s  - ETA: 28s - loss: 0. - ETA: 26s - loss: 0.1935 - accuracy: 0.93 - ETA: 26s - loss: 0.1936 - ac - ETA - ETA: 19s - loss: 0. - ETA: 18s - loss: 0.1941 - acc - ETA: 17s - loss: 0.1942 - accuracy: - ETA: 16s - - ETA: 11s - loss: 0 - ETA\n",
      "Epoch 8/10\n",
      "3750/3750 [==============================] - 132s 35ms/step - loss: 0.1876 - accuracy: 0.9349 - val_loss: 0.1426 - val_accuracy: 0.9517 - loss: 0.1913 -  - ETA: 58s - loss: 0.1915 - accurac - ETA: 57s - loss: 0.1916 - accuracy: - ETA: 57s - loss: 0.1919 - accuracy: 0. - ETA: 56s - loss: 0.191 - ETA: 55s - loss: 0.1915 -  - ETA:  - ETA: 51s - loss: 0.1921 - a - ETA: 50s - loss: 0.1920 - accuracy: 0.9 - ETA: 50s - loss: 0.1918  - ETA: 49s - loss: 0.1912 - accuracy: 0. - ETA: 49s - loss: 0.1910 - accuracy:  - ETA: 48s - loss: 0.1909 - ETA: 47s - loss: 0.1904 - accuracy:  - ETA: 44s - loss: 0.1905 - accuracy:  - ETA: 43s - loss: 0.1906 - accu - ETA: 42s - loss: 0.1905 - accuracy: 0.93 - ETA: 42s - ETA: 40s - loss: 0.1905 - accuracy: 0.93 - ETA: 40s - loss: 0.1905 - accurac - ETA: 39s - loss: 0.1907 - acc - ETA: 38s - loss: 0.1906 - accura - ETA: 38s - loss: 0.1907 - accuracy: 0. - ETA: 38s - loss: 0.1909 - accura - ETA: 34s - loss: 0.1905 - accurac - ETA: 33s - loss: 0.1904 - accuracy: 0.9 - ETA: 33s - loss - ETA: 31s - loss: 0.1900 -  - E - ETA: 24s - loss: 0.1889 - accu - ETA: 24s - loss: 0.1888 - accura - ETA: 23s - loss: 0.1889 - a - ETA: 22s - loss: 0.1887 - accuracy - E - ETA: 19s - loss: 0.1890 - a - ETA: 18s - loss: 0.1888 - accuracy: - ETA - ETA: 15s - loss: 0.1883 - accuracy - ETA: 14s - loss: 0.1884 - accuracy - ETA: 14s - loss: 0.1885 - accuracy: 0 - ETA: 13s - loss: 0.1883 - accuracy: - ETA\n",
      "Epoch 9/10\n",
      "3750/3750 [==============================] - 132s 35ms/step - loss: 0.1838 - accuracy: 0.9352 - val_loss: 0.1508 - val_accuracy: 0.9487 - loss: 0.1873 - accuracy - ETA: 53s - loss: 0.18 - ETA: 52s - loss: 0.1867 - accur - ETA: - ETA: 49s - loss: 0.1863 - accuracy - ETA: 48s - loss: 0.1863 - - ETA: 35s - loss: 0.1865 - accurac - ETA: 34s - loss: 0.1864 - accuracy - ETA: 34s - loss: 0.1864 - accurac - ETA: 33s - loss: 0.1863 - acc - ETA: 29s - loss: 0.1862 - accurac - ETA: 26s - loss: 0.1854 - accurac - ETA: 25s - loss: 0.1852 - accuracy: 0.934 - ETA: 25s - loss: 0.1852  - ETA: 18s - loss: 0.1847 - accuracy:  - ETA: 17s - loss: 0.1847 - accuracy - ETA: 17s - loss: 0.1848 - accurac - ETA: 16s - loss: 0.1849  - ETA: 15s - - ETA: 13s - loss: 0.1852 - ETA: 12s - loss: 0.1851  - ETA - ETA: 6s - loss: 0.1 - ETA: 5s - l - ETA: 3s - loss: 0.1840  - ETA: 2s - loss: 0.1840 - accuracy - ETA: 2s - loss: 0 -\n",
      "Epoch 10/10\n"
     ]
    },
    {
     "name": "stdout",
     "output_type": "stream",
     "text": [
      "3750/3750 [==============================] - 132s 35ms/step - loss: 0.1792 - accuracy: 0.9369 - val_loss: 0.1394 - val_accuracy: 0.9536los - ETA: 1:56 - loss: 0 - ETA: 1:55 - loss: 0.1816  - ETA: 1:54 - loss: 0.1818 - accuracy: 0.93 - ETA: 1:54 - loss: 0.1830 - ac - ETA: 1:54 - ETA: 1:44 - loss: 0.1866 - accu - ETA: 1:44 - ETA: 1:41 - loss: 0.1835 -  - ETA: 1:36 - los - ETA: 1:36 - loss: 0.1823 -  - ETA: 1:35 - loss: 0.1816  - ETA: 1:34 - loss: 0.181 - ETA: 1:34 - loss: 0.181 - ETA - ET - ETA: 59s - loss: 0.1792 - ETA: 58s - loss: 0.1791 - accuracy: 0 - ETA: 58s - loss: 0.1790 - accura - ETA: 57s - loss: 0.1790 - accuracy:  - ETA: 57s - loss: 0.1790 - ETA: 55s - loss: 0.1786 - ac - ETA: 54s -  - ETA: 52s - loss: 0.1784 - accuracy: 0.9 - ETA: 52s - loss: 0.1782 - accuracy: 0.93 - ETA: 52s - loss: 0.1784 - accuracy: 0.9 - ETA: 52s - loss: 0.1787 - accuracy: 0 - ETA: 51s - loss: 0.1789 - ETA: 5 - ETA: 48s - loss: 0.1789 - accuracy: 0. - ETA: 47s - loss: 0.179 - ETA: 46s - loss: 0.17 - ETA: 45s - loss: 0. - ETA: 43s - los - ETA: 41s - loss: 0.1793 -  - ETA: 40s - loss: 0.1792 - accuracy: 0.9 - ETA: 40s - loss: 0.1793  - E - ETA: 36s - loss: 0.179 - ETA: 35s - loss: 0.1792 - accura - ETA: 34s - loss: 0.1793 - accuracy: 0.93 - ETA: 34s - loss: 0.1793 - accu - ETA: 33s - loss: 0.1 - ETA: 32s - - ETA: 30s - loss: 0.1792 - acc -  - ETA: 23s - loss: 0.1800 - accuracy: - ETA: 22s - loss: 0.1799 - accu - ETA: 22s - loss: 0.1800 - ETA: 20s - loss: 0.1802  - ETA: 19s - loss: 0.1802 - accuracy: 0 - ETA: 19s -  - ETA: 17s - loss: 0.1806 - accuracy: 0.93 - ETA: 17s - loss: 0.1805 - - ETA: 15s - loss: - ETA: 14s - loss: 0.1803 - a - ETA: 13s - loss: 0.1802 - accuracy - ETA: 12s - loss: 0.1801 - accuracy: 0.936 - ETA: 12s - los - - ETA: 1s - loss: 0.1793 - accu - ETA: 1s - loss: 0.1792 - accura - ETA: 0s - loss: 0.1793  - ETA: 0s - loss: 0.1793 - accura\n"
     ]
    }
   ],
   "source": [
    "history_2 = model2.fit(X_train, y_train, validation_data=(X_val, y_val), verbose=1, epochs=10)"
   ]
  },
  {
   "cell_type": "code",
   "execution_count": 48,
   "metadata": {
    "colab": {
     "base_uri": "https://localhost:8080/",
     "height": 412
    },
    "id": "P_0QR3x2gEQQ",
    "outputId": "73e0c65f-6e37-4f13-c7d1-1ddd3f0b7377"
   },
   "outputs": [
    {
     "data": {
      "image/png": "[encoded data removed]",
      "text/plain": [
       "<Figure size 1080x432 with 2 Axes>"
      ]
     },
     "metadata": {
      "needs_background": "light"
     },
     "output_type": "display_data"
    }
   ],
   "source": [
    "plt.figure(figsize=(15,6))\n",
    "plt.subplot(1, 2, 1) \n",
    "plt.plot(history_2.history[\"loss\"], label=\"train_loss\")\n",
    "plt.plot(history_2.history[\"val_loss\"], label=\"val_loss\")\n",
    "plt.xlabel(\"Epochs\", fontsize=16)\n",
    "plt.ylabel(\"loss\", fontsize=16)\n",
    "plt.xticks(np.arange(a), np.arange(1, a+1), fontsize=12)\n",
    "plt.yticks(fontsize=12)\n",
    "plt.title(\"Train and Validation loss Over Epochs\", fontsize=14)\n",
    "plt.legend()\n",
    "plt.grid()\n",
    "# plt.show()\n",
    "plt.subplot(1, 2, 2) \n",
    "plt.plot(history_2.history[\"accuracy\"], label=\"train_accuracy\")\n",
    "plt.plot(history_2.history[\"val_accuracy\"], label=\"val_accuracy\")\n",
    "plt.xlabel(\"Epochs\",fontsize=16)\n",
    "plt.ylabel(\"accuracy\",fontsize=16)\n",
    "plt.xticks(np.arange(a), np.arange(1, a+1), fontsize=12)\n",
    "plt.yticks(fontsize=12)\n",
    "plt.title(\"Train and Validation accuracy Over Epochs\", fontsize=14)\n",
    "plt.legend()\n",
    "plt.grid()\n",
    "plt.savefig('model_bilstm_w_loss_50', dpi=50,  bbox_inches='tight', transparent=True, pad_inches=0)\n",
    "plt.savefig('model_bilstm_w_loss_400', dpi=400,  bbox_inches='tight', transparent=True, pad_inches=0)\n",
    "\n",
    "plt.show()"
   ]
  },
  {
   "cell_type": "code",
   "execution_count": 49,
   "metadata": {
    "colab": {
     "base_uri": "https://localhost:8080/"
    },
    "id": "saXN8q7xgEQR",
    "outputId": "9237621e-f13d-49bc-e925-214ed2b44500"
   },
   "outputs": [
    {
     "name": "stdout",
     "output_type": "stream",
     "text": [
      "469/469 [==============================] - 8s 16ms/step - loss: 0.1390 - accuracy: 0.9537\n"
     ]
    },
    {
     "data": {
      "text/plain": [
       "[0.138952374458313, 0.9536666870117188]"
      ]
     },
     "execution_count": 49,
     "metadata": {},
     "output_type": "execute_result"
    }
   ],
   "source": [
    "model2.evaluate(X_test, y_test)"
   ]
  },
  {
   "cell_type": "code",
   "execution_count": 50,
   "metadata": {
    "id": "2dRwL2t6gEQS"
   },
   "outputs": [],
   "source": [
    "y_pred_2 = model2.predict(X_test)"
   ]
  },
  {
   "cell_type": "code",
   "execution_count": 51,
   "metadata": {
    "id": "Fxhkm_2XgEQS"
   },
   "outputs": [],
   "source": [
    "y_pred_2 = (y_pred_2 > 0.5)"
   ]
  },
  {
   "cell_type": "code",
   "execution_count": 52,
   "metadata": {
    "colab": {
     "base_uri": "https://localhost:8080/"
    },
    "id": "TctB4_uFgEQT",
    "outputId": "b6df352c-51d9-462a-a29a-10a91b776e3b"
   },
   "outputs": [
    {
     "name": "stdout",
     "output_type": "stream",
     "text": [
      "              precision    recall  f1-score   support\n",
      "\n",
      "           0       0.95      0.96      0.96      4969\n",
      "           1       0.98      0.92      0.95      5002\n",
      "           2       0.95      0.97      0.96      5029\n",
      "\n",
      "   micro avg       0.96      0.95      0.95     15000\n",
      "   macro avg       0.96      0.95      0.95     15000\n",
      "weighted avg       0.96      0.95      0.95     15000\n",
      " samples avg       0.95      0.95      0.95     15000\n",
      "\n"
     ]
    },
    {
     "name": "stderr",
     "output_type": "stream",
     "text": [
      "C:\\Users\\tschi\\anaconda3\\lib\\site-packages\\sklearn\\metrics\\_classification.py:1308: UndefinedMetricWarning: Precision and F-score are ill-defined and being set to 0.0 in samples with no predicted labels. Use `zero_division` parameter to control this behavior.\n",
      "  _warn_prf(average, modifier, msg_start, len(result))\n"
     ]
    }
   ],
   "source": [
    "print(classification_report(y_test,y_pred_2))"
   ]
  },
  {
   "cell_type": "code",
   "execution_count": null,
   "metadata": {
    "id": "thCag0COgEQT"
   },
   "outputs": [],
   "source": []
  },
  {
   "cell_type": "markdown",
   "metadata": {
    "id": "ldTgtHNYwcGW"
   },
   "source": [
    "### Sequential 1d-CNN"
   ]
  },
  {
   "cell_type": "markdown",
   "metadata": {
    "id": "AqPrpR4Rg1GR"
   },
   "source": [
    "#### without glove embedding"
   ]
  },
  {
   "cell_type": "code",
   "execution_count": 53,
   "metadata": {
    "colab": {
     "base_uri": "https://localhost:8080/",
     "height": 825
    },
    "id": "5FZjeAGjQpwT",
    "outputId": "0cfc3701-c9a6-46d0-9056-590dd0a5eaa4"
   },
   "outputs": [
    {
     "name": "stdout",
     "output_type": "stream",
     "text": [
      "Model: \"sequential_4\"\n",
      "_________________________________________________________________\n",
      "Layer (type)                 Output Shape              Param #   \n",
      "=================================================================\n",
      "embedding_4 (Embedding)      (None, 512, 100)          9186700   \n",
      "_________________________________________________________________\n",
      "conv1d (Conv1D)              (None, 507, 20)           12020     \n",
      "_________________________________________________________________\n",
      "max_pooling1d (MaxPooling1D) (None, 101, 20)           0         \n",
      "_________________________________________________________________\n",
      "conv1d_1 (Conv1D)            (None, 96, 20)            2420      \n",
      "_________________________________________________________________\n",
      "global_max_pooling1d (Global (None, 20)                0         \n",
      "_________________________________________________________________\n",
      "dense_4 (Dense)              (None, 3)                 63        \n",
      "=================================================================\n",
      "Total params: 9,201,203\n",
      "Trainable params: 9,201,203\n",
      "Non-trainable params: 0\n",
      "_________________________________________________________________\n"
     ]
    },
    {
     "data": {
      "image/png": "[encoded data removed]",
      "text/plain": [
       "<IPython.core.display.Image object>"
      ]
     },
     "execution_count": 53,
     "metadata": {},
     "output_type": "execute_result"
    }
   ],
   "source": [
    "from keras import regularizers\n",
    "model3 = Sequential()\n",
    "model3.add(layers.Embedding(len(word_index)+1, 100, input_length=max_len))\n",
    "model3.add(layers.Conv1D(20, 6, activation='relu',kernel_regularizer=regularizers.l1_l2(l1=2e-3, l2=2e-3),bias_regularizer=regularizers.l2(2e-3)))\n",
    "model3.add(layers.MaxPooling1D(5))\n",
    "model3.add(layers.Conv1D(20, 6, activation='relu',kernel_regularizer=regularizers.l1_l2(l1=2e-3, l2=2e-3),bias_regularizer=regularizers.l2(2e-3)))\n",
    "model3.add(layers.GlobalMaxPooling1D())\n",
    "model3.add(layers.Dense(3,activation='softmax'))\n",
    "model3.compile(optimizer='rmsprop',loss='categorical_crossentropy', metrics=['accuracy'])\n",
    "model3.summary()\n",
    "# checkpoint3 = ModelCheckpoint(\"best_model3.hdf5\", monitor='val_accuracy', verbose=1,save_best_only=True, mode='auto', period=1,save_weights_only=False)\n",
    "# history = model3.fit(X_train, y_train, epochs=70,validation_data=(X_test, y_test),callbacks=[checkpoint3])\n",
    "plot_model(model3, to_file='dl_model_cnn_wo_annoo_400.png', show_shapes=True, show_layer_names=True, dpi=400)\n",
    "plot_model(model3, to_file='dl_model_cnn_wo_anno_50.png', show_shapes=True, show_layer_names=True, dpi=50)"
   ]
  },
  {
   "cell_type": "code",
   "execution_count": 54,
   "metadata": {
    "colab": {
     "base_uri": "https://localhost:8080/"
    },
    "id": "79naxjrARHr9",
    "outputId": "112300c7-46ef-492d-e602-50493029fd6c"
   },
   "outputs": [
    {
     "name": "stdout",
     "output_type": "stream",
     "text": [
      "Epoch 1/10\n",
      "3750/3750 [==============================] - 38s 9ms/step - loss: 0.4993 - accuracy: 0.8625 - val_loss: 0.3222 - val_accuracy: 0.9289\n",
      "Epoch 2/10\n",
      "3750/3750 [==============================] - 33s 9ms/step - loss: 0.2963 - accuracy: 0.9338 - val_loss: 0.2858 - val_accuracy: 0.9354\n",
      "Epoch 3/10\n",
      "3750/3750 [==============================] - 31s 8ms/step - loss: 0.2644 - accuracy: 0.9406 - val_loss: 0.2565 - val_accuracy: 0.9439s - loss: 0.2644 - accuracy: 0.\n",
      "Epoch 4/10\n",
      "3750/3750 [==============================] - 32s 9ms/step - loss: 0.2471 - accuracy: 0.9454 - val_loss: 0.2487 - val_accuracy: 0.9445\n",
      "Epoch 5/10\n",
      "3750/3750 [==============================] - 32s 9ms/step - loss: 0.2342 - accuracy: 0.9484 - val_loss: 0.2329 - val_accuracy: 0.9487\n",
      "Epoch 6/10\n",
      "3750/3750 [==============================] - 32s 9ms/step - loss: 0.2252 - accuracy: 0.9504 - val_loss: 0.2237 - val_accuracy: 0.9507\n",
      "Epoch 7/10\n",
      "3750/3750 [==============================] - 32s 9ms/step - loss: 0.2184 - accuracy: 0.9526 - val_loss: 0.2479 - val_accuracy: 0.9423\n",
      "Epoch 8/10\n",
      "3750/3750 [==============================] - 32s 9ms/step - loss: 0.2131 - accuracy: 0.9532 - val_loss: 0.2240 - val_accuracy: 0.9499\n",
      "Epoch 9/10\n",
      "3750/3750 [==============================] - 32s 9ms/step - loss: 0.2094 - accuracy: 0.9546 - val_loss: 0.2350 - val_accuracy: 0.9436\n",
      "Epoch 10/10\n",
      "3750/3750 [==============================] - 32s 9ms/step - loss: 0.2060 - accuracy: 0.9545 - val_loss: 0.2227 - val_accuracy: 0.9494\n"
     ]
    }
   ],
   "source": [
    "history_3 = model3.fit(X_train, y_train, validation_data=(X_val,y_val), verbose=1, epochs=10)"
   ]
  },
  {
   "cell_type": "code",
   "execution_count": 55,
   "metadata": {
    "colab": {
     "base_uri": "https://localhost:8080/",
     "height": 412
    },
    "id": "UhxlRyCtLa-y",
    "outputId": "c48f0797-9e1b-46e0-a43d-64c883b96161"
   },
   "outputs": [
    {
     "data": {
      "image/png": "[encoded data removed]",
      "text/plain": [
       "<Figure size 1080x432 with 2 Axes>"
      ]
     },
     "metadata": {
      "needs_background": "light"
     },
     "output_type": "display_data"
    }
   ],
   "source": [
    "plt.figure(figsize=(15,6))\n",
    "plt.subplot(1, 2, 1) \n",
    "plt.plot(history_3.history[\"loss\"], label=\"train_loss\")\n",
    "plt.plot(history_3.history[\"val_loss\"], label=\"val_loss\")\n",
    "plt.xlabel(\"Epochs\", fontsize=16)\n",
    "plt.ylabel(\"loss\", fontsize=16)\n",
    "plt.xticks(np.arange(a), np.arange(1, a+1), fontsize=12)\n",
    "plt.yticks(fontsize=12)\n",
    "plt.title(\"Train and Validation loss Over Epochs\", fontsize=14)\n",
    "plt.legend()\n",
    "plt.grid()\n",
    "# plt.show()\n",
    "plt.subplot(1, 2, 2) \n",
    "plt.plot(history_3.history[\"accuracy\"], label=\"train_accuracy\")\n",
    "plt.plot(history_3.history[\"val_accuracy\"], label=\"val_accuracy\")\n",
    "plt.xlabel(\"Epochs\",fontsize=16)\n",
    "plt.ylabel(\"accuracy\",fontsize=16)\n",
    "plt.xticks(np.arange(a), np.arange(1, a+1), fontsize=12)\n",
    "plt.yticks(fontsize=12)\n",
    "plt.title(\"Train and Validation accuracy Over Epochs\", fontsize=14)\n",
    "plt.legend()\n",
    "plt.grid()\n",
    "plt.savefig('model_cnn_wo_loss_50', dpi=50,  bbox_inches='tight', transparent=True, pad_inches=0)\n",
    "plt.savefig('model_cnn_wo_loss_400', dpi=400,  bbox_inches='tight', transparent=True, pad_inches=0)\n",
    "\n",
    "plt.show()"
   ]
  },
  {
   "cell_type": "code",
   "execution_count": 56,
   "metadata": {
    "id": "1ut-XtKifP_v"
   },
   "outputs": [],
   "source": [
    "# history_3.history"
   ]
  },
  {
   "cell_type": "code",
   "execution_count": 57,
   "metadata": {
    "colab": {
     "base_uri": "https://localhost:8080/"
    },
    "id": "YTu14kE0fWkR",
    "outputId": "f2d2cf69-aebc-4ec6-b7d9-b05f81864b60"
   },
   "outputs": [
    {
     "name": "stdout",
     "output_type": "stream",
     "text": [
      "469/469 [==============================] - 2s 3ms/step - loss: 0.2201 - accuracy: 0.9485\n"
     ]
    },
    {
     "data": {
      "text/plain": [
       "[0.22010202705860138, 0.9485333561897278]"
      ]
     },
     "execution_count": 57,
     "metadata": {},
     "output_type": "execute_result"
    }
   ],
   "source": [
    "model3.evaluate(X_test, y_test)"
   ]
  },
  {
   "cell_type": "code",
   "execution_count": 58,
   "metadata": {
    "id": "xt1sN3L21p2y"
   },
   "outputs": [],
   "source": [
    "y_pred_3 = model3.predict(X_test)"
   ]
  },
  {
   "cell_type": "code",
   "execution_count": 59,
   "metadata": {
    "id": "xav182fAfacU"
   },
   "outputs": [],
   "source": [
    "y_pred_3 = (y_pred_3 > 0.5)"
   ]
  },
  {
   "cell_type": "code",
   "execution_count": 60,
   "metadata": {
    "colab": {
     "base_uri": "https://localhost:8080/"
    },
    "id": "1x58SBYt1-jv",
    "outputId": "234b6984-d501-4b5b-99cd-e5549a5031de"
   },
   "outputs": [
    {
     "name": "stdout",
     "output_type": "stream",
     "text": [
      "              precision    recall  f1-score   support\n",
      "\n",
      "           0       0.94      0.96      0.95      4969\n",
      "           1       0.95      0.94      0.94      5002\n",
      "           2       0.97      0.93      0.95      5029\n",
      "\n",
      "   micro avg       0.95      0.94      0.95     15000\n",
      "   macro avg       0.95      0.94      0.95     15000\n",
      "weighted avg       0.95      0.94      0.95     15000\n",
      " samples avg       0.94      0.94      0.94     15000\n",
      "\n"
     ]
    },
    {
     "name": "stderr",
     "output_type": "stream",
     "text": [
      "C:\\Users\\tschi\\anaconda3\\lib\\site-packages\\sklearn\\metrics\\_classification.py:1308: UndefinedMetricWarning: Precision and F-score are ill-defined and being set to 0.0 in samples with no predicted labels. Use `zero_division` parameter to control this behavior.\n",
      "  _warn_prf(average, modifier, msg_start, len(result))\n"
     ]
    }
   ],
   "source": [
    "print(classification_report(y_test, y_pred_3))"
   ]
  },
  {
   "cell_type": "code",
   "execution_count": null,
   "metadata": {
    "id": "1Juq4W5Vg-Pj"
   },
   "outputs": [],
   "source": []
  },
  {
   "cell_type": "markdown",
   "metadata": {
    "id": "475WMmdFg-m5"
   },
   "source": [
    "#### with glove embedding"
   ]
  },
  {
   "cell_type": "code",
   "execution_count": 61,
   "metadata": {
    "colab": {
     "base_uri": "https://localhost:8080/",
     "height": 800
    },
    "id": "Wh8m4OD-g-m6",
    "outputId": "56e6373c-d0b3-4162-8572-55ee742eabe5"
   },
   "outputs": [
    {
     "name": "stdout",
     "output_type": "stream",
     "text": [
      "Model: \"sequential_5\"\n",
      "_________________________________________________________________\n",
      "Layer (type)                 Output Shape              Param #   \n",
      "=================================================================\n",
      "embedding_5 (Embedding)      (None, 512, 100)          9186700   \n",
      "_________________________________________________________________\n",
      "conv1d_2 (Conv1D)            (None, 507, 20)           12020     \n",
      "_________________________________________________________________\n",
      "max_pooling1d_1 (MaxPooling1 (None, 101, 20)           0         \n",
      "_________________________________________________________________\n",
      "conv1d_3 (Conv1D)            (None, 96, 20)            2420      \n",
      "_________________________________________________________________\n",
      "global_max_pooling1d_1 (Glob (None, 20)                0         \n",
      "_________________________________________________________________\n",
      "dense_5 (Dense)              (None, 3)                 63        \n",
      "=================================================================\n",
      "Total params: 9,201,203\n",
      "Trainable params: 14,503\n",
      "Non-trainable params: 9,186,700\n",
      "_________________________________________________________________\n"
     ]
    }
   ],
   "source": [
    "from keras import regularizers\n",
    "model3 = Sequential()\n",
    "model3.add(Embedding(len(word_index)+1, 100, weights=[embedding_matrix], input_length=max_len, trainable=False))\n",
    "model3.add(layers.Conv1D(20, 6, activation='relu',kernel_regularizer=regularizers.l1_l2(l1=2e-3, l2=2e-3),bias_regularizer=regularizers.l2(2e-3)))\n",
    "model3.add(layers.MaxPooling1D(5))\n",
    "model3.add(layers.Conv1D(20, 6, activation='relu',kernel_regularizer=regularizers.l1_l2(l1=2e-3, l2=2e-3),bias_regularizer=regularizers.l2(2e-3)))\n",
    "model3.add(layers.GlobalMaxPooling1D())\n",
    "model3.add(layers.Dense(3,activation='softmax'))\n",
    "model3.compile(optimizer='rmsprop',loss='categorical_crossentropy', metrics=['accuracy'])\n",
    "model3.summary()\n",
    "# checkpoint3 = ModelCheckpoint(\"best_model3.hdf5\", monitor='val_accuracy', verbose=1,save_best_only=True, mode='auto', period=1,save_weights_only=False)\n",
    "# history = model3.fit(X_train, y_train, epochs=70,validation_data=(X_test, y_test),callbacks=[checkpoint3])\n",
    "#plot_model(model3, to_file='/content/drive/MyDrive/dataset_patent/figures/dl_model3_w_anno_400.png', show_shapes=True, show_layer_names=True, dpi=400)\n",
    "#plot_model(model3, to_file='/content/drive/MyDrive/dataset_patent/figures/dl_model3_w_anno_50.png', show_shapes=True, show_layer_names=True, dpi=50)"
   ]
  },
  {
   "cell_type": "code",
   "execution_count": 62,
   "metadata": {
    "colab": {
     "base_uri": "https://localhost:8080/"
    },
    "id": "Am88E1tZg-m7",
    "outputId": "112300c7-46ef-492d-e602-50493029fd6c"
   },
   "outputs": [
    {
     "name": "stdout",
     "output_type": "stream",
     "text": [
      "Epoch 1/10\n",
      "3750/3750 [==============================] - 25s 7ms/step - loss: 0.6779 - accuracy: 0.8743 - val_loss: 0.4326 - val_accuracy: 0.9158\n",
      "Epoch 2/10\n",
      "3750/3750 [==============================] - 27s 7ms/step - loss: 0.4295 - accuracy: 0.9117 - val_loss: 0.3889 - val_accuracy: 0.9265\n",
      "Epoch 3/10\n",
      "3750/3750 [==============================] - 25s 7ms/step - loss: 0.4054 - accuracy: 0.9172 - val_loss: 0.3772 - val_accuracy: 0.9275\n",
      "Epoch 4/10\n",
      "3750/3750 [==============================] - 28s 7ms/step - loss: 0.3943 - accuracy: 0.9190 - val_loss: 0.4765 - val_accuracy: 0.8871\n",
      "Epoch 5/10\n",
      "3750/3750 [==============================] - 28s 7ms/step - loss: 0.3852 - accuracy: 0.9201 - val_loss: 0.4234 - val_accuracy: 0.8975\n",
      "Epoch 6/10\n",
      "3750/3750 [==============================] - 28s 7ms/step - loss: 0.3802 - accuracy: 0.9208 - val_loss: 0.3542 - val_accuracy: 0.9299\n",
      "Epoch 7/10\n",
      "3750/3750 [==============================] - 27s 7ms/step - loss: 0.3770 - accuracy: 0.9216 - val_loss: 0.3591 - val_accuracy: 0.9246\n",
      "Epoch 8/10\n",
      "3750/3750 [==============================] - 27s 7ms/step - loss: 0.3740 - accuracy: 0.9220 - val_loss: 0.3971 - val_accuracy: 0.9149\n",
      "Epoch 9/10\n",
      "3750/3750 [==============================] - 27s 7ms/step - loss: 0.3733 - accuracy: 0.9223 - val_loss: 0.3847 - val_accuracy: 0.9155\n",
      "Epoch 10/10\n",
      "3750/3750 [==============================] - 28s 7ms/step - loss: 0.3712 - accuracy: 0.9223 - val_loss: 0.3577 - val_accuracy: 0.9282\n"
     ]
    }
   ],
   "source": [
    "history_3 = model3.fit(X_train, y_train, validation_data=(X_val,y_val), verbose=1, epochs=10)"
   ]
  },
  {
   "cell_type": "code",
   "execution_count": 63,
   "metadata": {
    "colab": {
     "base_uri": "https://localhost:8080/",
     "height": 412
    },
    "id": "T1QtPQtFg-m8",
    "outputId": "c48f0797-9e1b-46e0-a43d-64c883b96161"
   },
   "outputs": [
    {
     "data": {
      "image/png": "[encoded data removed]",
      "text/plain": [
       "<Figure size 1080x432 with 2 Axes>"
      ]
     },
     "metadata": {
      "needs_background": "light"
     },
     "output_type": "display_data"
    }
   ],
   "source": [
    "plt.figure(figsize=(15,6))\n",
    "plt.subplot(1, 2, 1) \n",
    "plt.plot(history_3.history[\"loss\"], label=\"train_loss\")\n",
    "plt.plot(history_3.history[\"val_loss\"], label=\"val_loss\")\n",
    "plt.xlabel(\"Epochs\", fontsize=16)\n",
    "plt.ylabel(\"loss\", fontsize=16)\n",
    "plt.xticks(np.arange(a), np.arange(1, a+1), fontsize=12)\n",
    "plt.yticks(fontsize=12)\n",
    "plt.title(\"Train and Validation loss Over Epochs\", fontsize=14)\n",
    "plt.legend()\n",
    "plt.grid()\n",
    "# plt.show()\n",
    "plt.subplot(1, 2, 2) \n",
    "plt.plot(history_3.history[\"accuracy\"], label=\"train_accuracy\")\n",
    "plt.plot(history_3.history[\"val_accuracy\"], label=\"val_accuracy\")\n",
    "plt.xlabel(\"Epochs\",fontsize=16)\n",
    "plt.ylabel(\"accuracy\",fontsize=16)\n",
    "plt.xticks(np.arange(a), np.arange(1, a+1), fontsize=12)\n",
    "plt.yticks(fontsize=12)\n",
    "plt.title(\"Train and Validation accuracy Over Epochs\", fontsize=14)\n",
    "plt.legend()\n",
    "plt.grid()\n",
    "plt.savefig('model_cnn_w_loss_50', dpi=50,  bbox_inches='tight', transparent=True, pad_inches=0)\n",
    "plt.savefig('model_cnn_w_loss_400', dpi=400,  bbox_inches='tight', transparent=True, pad_inches=0)\n",
    "\n",
    "plt.show()"
   ]
  },
  {
   "cell_type": "code",
   "execution_count": 64,
   "metadata": {
    "id": "Yl4jEKSqg-m9"
   },
   "outputs": [],
   "source": [
    "# history_3.history"
   ]
  },
  {
   "cell_type": "code",
   "execution_count": 65,
   "metadata": {
    "colab": {
     "base_uri": "https://localhost:8080/"
    },
    "id": "wbS0Zawvg-m-",
    "outputId": "f2d2cf69-aebc-4ec6-b7d9-b05f81864b60"
   },
   "outputs": [
    {
     "name": "stdout",
     "output_type": "stream",
     "text": [
      "469/469 [==============================] - 2s 3ms/step - loss: 0.3541 - accuracy: 0.9298\n"
     ]
    },
    {
     "data": {
      "text/plain": [
       "[0.35411548614501953, 0.9297999739646912]"
      ]
     },
     "execution_count": 65,
     "metadata": {},
     "output_type": "execute_result"
    }
   ],
   "source": [
    "model3.evaluate(X_test, y_test)"
   ]
  },
  {
   "cell_type": "code",
   "execution_count": 66,
   "metadata": {
    "id": "dViYvLVmg-m-"
   },
   "outputs": [],
   "source": [
    "y_pred_3 = model3.predict(X_test)"
   ]
  },
  {
   "cell_type": "code",
   "execution_count": 67,
   "metadata": {
    "id": "3YXAdMiyg-m_"
   },
   "outputs": [],
   "source": [
    "y_pred_3 = (y_pred_3 > 0.5)"
   ]
  },
  {
   "cell_type": "code",
   "execution_count": 68,
   "metadata": {
    "colab": {
     "base_uri": "https://localhost:8080/"
    },
    "id": "3tA3NKG_g-m_",
    "outputId": "234b6984-d501-4b5b-99cd-e5549a5031de"
   },
   "outputs": [
    {
     "name": "stdout",
     "output_type": "stream",
     "text": [
      "              precision    recall  f1-score   support\n",
      "\n",
      "           0       0.89      0.96      0.92      4969\n",
      "           1       0.95      0.89      0.92      5002\n",
      "           2       0.97      0.92      0.94      5029\n",
      "\n",
      "   micro avg       0.94      0.92      0.93     15000\n",
      "   macro avg       0.94      0.92      0.93     15000\n",
      "weighted avg       0.94      0.92      0.93     15000\n",
      " samples avg       0.92      0.92      0.92     15000\n",
      "\n"
     ]
    },
    {
     "name": "stderr",
     "output_type": "stream",
     "text": [
      "C:\\Users\\tschi\\anaconda3\\lib\\site-packages\\sklearn\\metrics\\_classification.py:1308: UndefinedMetricWarning: Precision and F-score are ill-defined and being set to 0.0 in samples with no predicted labels. Use `zero_division` parameter to control this behavior.\n",
      "  _warn_prf(average, modifier, msg_start, len(result))\n"
     ]
    }
   ],
   "source": [
    "print(classification_report(y_test, y_pred_3))"
   ]
  },
  {
   "cell_type": "markdown",
   "metadata": {
    "id": "5rsAh-WX7MM7"
   },
   "source": [
    "### Sequential model GRU"
   ]
  },
  {
   "cell_type": "markdown",
   "metadata": {
    "id": "nSj1wmlOh41b"
   },
   "source": [
    "#### Without glove embedding"
   ]
  },
  {
   "cell_type": "code",
   "execution_count": 69,
   "metadata": {
    "colab": {
     "base_uri": "https://localhost:8080/",
     "height": 504
    },
    "id": "2ZN5eAuM7MM8",
    "outputId": "245f0617-84da-4c22-c042-912e7b0ea97f"
   },
   "outputs": [
    {
     "name": "stdout",
     "output_type": "stream",
     "text": [
      "WARNING:tensorflow:Layer gru will not use cuDNN kernels since it doesn't meet the criteria. It will use a generic GPU kernel as fallback when running on GPU.\n",
      "Model: \"sequential_6\"\n",
      "_________________________________________________________________\n",
      "Layer (type)                 Output Shape              Param #   \n",
      "=================================================================\n",
      "embedding_6 (Embedding)      (None, 512, 100)          9186700   \n",
      "_________________________________________________________________\n",
      "gru (GRU)                    (None, 20)                7320      \n",
      "_________________________________________________________________\n",
      "dense_6 (Dense)              (None, 3)                 63        \n",
      "=================================================================\n",
      "Total params: 9,194,083\n",
      "Trainable params: 9,194,083\n",
      "Non-trainable params: 0\n",
      "_________________________________________________________________\n"
     ]
    },
    {
     "data": {
      "image/png": "[encoded data removed]",
      "text/plain": [
       "<IPython.core.display.Image object>"
      ]
     },
     "execution_count": 69,
     "metadata": {},
     "output_type": "execute_result"
    }
   ],
   "source": [
    "model4 = Sequential()\n",
    "model4.add(layers.Embedding(len(word_index)+1, 100, input_length=max_len))\n",
    "model4.add(layers.GRU(20,dropout=0.6, activation='relu'))\n",
    "model4.add(layers.Dense(3,activation='softmax'))\n",
    "model4.compile(optimizer='rmsprop',loss='categorical_crossentropy', metrics=['accuracy'])\n",
    "model4.summary()\n",
    "plot_model(model4, to_file='dl_model_gru_wo_anno_400.png', show_shapes=True, show_layer_names=True, dpi=400)\n",
    "plot_model(model4, to_file='dl_model_gru_wo_anno_wo_50.png', show_shapes=True, show_layer_names=True, dpi=50)"
   ]
  },
  {
   "cell_type": "code",
   "execution_count": 70,
   "metadata": {
    "colab": {
     "background_save": true,
     "base_uri": "https://localhost:8080/"
    },
    "id": "7QmbWaJe7MM9",
    "outputId": "6f512903-70c0-43d1-fbb5-18379f60ea96"
   },
   "outputs": [
    {
     "name": "stdout",
     "output_type": "stream",
     "text": [
      "Epoch 1/10\n",
      "3750/3750 [==============================] - 4838s 1s/step - loss: 0.3119 - accuracy: 0.8775 - val_loss: 0.1258 - val_accuracy: 0.9585\n",
      "Epoch 2/10\n",
      "3750/3750 [==============================] - 4548s 1s/step - loss: 0.1229 - accuracy: 0.9603 - val_loss: 0.1072 - val_accuracy: 0.9664\n",
      "Epoch 3/10\n",
      "3750/3750 [==============================] - 4655s 1s/step - loss: 0.1113 - accuracy: 0.9649 - val_loss: 0.1068 - val_accuracy: 0.9677\n",
      "Epoch 4/10\n",
      "3750/3750 [==============================] - 4754s 1s/step - loss: 0.1060 - accuracy: 0.9669 - val_loss: 0.1067 - val_accuracy: 0.9687\n",
      "Epoch 5/10\n",
      "3750/3750 [==============================] - 4613s 1s/step - loss: 0.1033 - accuracy: 0.9678 - val_loss: 0.1035 - val_accuracy: 0.9691\n",
      "Epoch 6/10\n",
      "3750/3750 [==============================] - 4632s 1s/step - loss: 0.1008 - accuracy: 0.9695 - val_loss: 0.0983 - val_accuracy: 0.9714\n",
      "Epoch 7/10\n",
      "3750/3750 [==============================] - 4130s 1s/step - loss: 0.0997 - accuracy: 0.9697 - val_loss: 0.0985 - val_accuracy: 0.9712\n",
      "Epoch 8/10\n",
      "3750/3750 [==============================] - 4694s 1s/step - loss: 0.0981 - accuracy: 0.9706 - val_loss: 0.0942 - val_accuracy: 0.9715\n",
      "Epoch 9/10\n",
      "3750/3750 [==============================] - 4579s 1s/step - loss: 0.0968 - accuracy: 0.9708 - val_loss: 0.1008 - val_accuracy: 0.9697\n",
      "Epoch 10/10\n",
      "3750/3750 [==============================] - 4614s 1s/step - loss: 0.0964 - accuracy: 0.9708 - val_loss: 0.1056 - val_accuracy: 0.9700\n"
     ]
    }
   ],
   "source": [
    "history_4 = model4.fit(X_train, y_train, validation_data=(X_val, y_val), verbose=1, epochs=10)"
   ]
  },
  {
   "cell_type": "code",
   "execution_count": 71,
   "metadata": {
    "colab": {
     "background_save": true
    },
    "id": "aqDcGJrgVQzF",
    "outputId": "554cc70b-5904-46f0-9a64-2eff6b27f8ba"
   },
   "outputs": [
    {
     "data": {
      "image/png": "[encoded data removed]",
      "text/plain": [
       "<Figure size 1080x432 with 2 Axes>"
      ]
     },
     "metadata": {
      "needs_background": "light"
     },
     "output_type": "display_data"
    }
   ],
   "source": [
    "plt.figure(figsize=(15,6))\n",
    "plt.subplot(1, 2, 1) \n",
    "plt.plot(history_4.history[\"loss\"], label=\"train_loss\")\n",
    "plt.plot(history_4.history[\"val_loss\"], label=\"val_loss\")\n",
    "plt.xlabel(\"Epochs\", fontsize=16)\n",
    "plt.ylabel(\"loss\", fontsize=16)\n",
    "plt.xticks(np.arange(a), np.arange(1, a+1), fontsize=12)\n",
    "plt.yticks(fontsize=12)\n",
    "plt.title(\"Train and Validation loss Over Epochs\", fontsize=14)\n",
    "plt.legend()\n",
    "plt.grid()\n",
    "# plt.show()\n",
    "plt.subplot(1, 2, 2) \n",
    "plt.plot(history_4.history[\"accuracy\"], label=\"train_accuracy\")\n",
    "plt.plot(history_4.history[\"val_accuracy\"], label=\"val_accuracy\")\n",
    "plt.xlabel(\"Epochs\",fontsize=16)\n",
    "plt.ylabel(\"accuracy\",fontsize=16)\n",
    "plt.xticks(np.arange(a), np.arange(1, a+1), fontsize=12)\n",
    "plt.yticks(fontsize=12)\n",
    "plt.title(\"Train and Validation accuracy Over Epochs\", fontsize=14)\n",
    "plt.legend()\n",
    "plt.grid()\n",
    "plt.savefig('model_gru_wo_loss_50', dpi=50,  bbox_inches='tight', transparent=True, pad_inches=0)\n",
    "plt.savefig('model_gru_wo_loss_400', dpi=400,  bbox_inches='tight', transparent=True, pad_inches=0)\n",
    "\n",
    "plt.show()"
   ]
  },
  {
   "cell_type": "code",
   "execution_count": 72,
   "metadata": {
    "id": "cc48-fWx7MNA"
   },
   "outputs": [
    {
     "name": "stdout",
     "output_type": "stream",
     "text": [
      "469/469 [==============================] - 134s 285ms/step - loss: 0.1011 - accuracy: 0.9713\n"
     ]
    },
    {
     "data": {
      "text/plain": [
       "[0.10113752633333206, 0.9713333249092102]"
      ]
     },
     "execution_count": 72,
     "metadata": {},
     "output_type": "execute_result"
    }
   ],
   "source": [
    "model4.evaluate(X_test, y_test)"
   ]
  },
  {
   "cell_type": "code",
   "execution_count": 73,
   "metadata": {
    "colab": {
     "background_save": true
    },
    "id": "ZxosLbOL7MNA"
   },
   "outputs": [],
   "source": [
    "y_pred_4 = model4.predict(X_test)"
   ]
  },
  {
   "cell_type": "code",
   "execution_count": 74,
   "metadata": {
    "id": "bojaob0D7MNB"
   },
   "outputs": [],
   "source": [
    "y_pred_4 = (y_pred_4 > 0.5)"
   ]
  },
  {
   "cell_type": "code",
   "execution_count": 75,
   "metadata": {
    "id": "vQlDso_A7MNC"
   },
   "outputs": [
    {
     "name": "stdout",
     "output_type": "stream",
     "text": [
      "              precision    recall  f1-score   support\n",
      "\n",
      "           0       0.96      0.98      0.97      4969\n",
      "           1       0.97      0.96      0.97      5002\n",
      "           2       0.98      0.97      0.98      5029\n",
      "\n",
      "   micro avg       0.97      0.97      0.97     15000\n",
      "   macro avg       0.97      0.97      0.97     15000\n",
      "weighted avg       0.97      0.97      0.97     15000\n",
      " samples avg       0.97      0.97      0.97     15000\n",
      "\n"
     ]
    },
    {
     "name": "stderr",
     "output_type": "stream",
     "text": [
      "C:\\Users\\tschi\\anaconda3\\lib\\site-packages\\sklearn\\metrics\\_classification.py:1308: UndefinedMetricWarning: Precision and F-score are ill-defined and being set to 0.0 in samples with no predicted labels. Use `zero_division` parameter to control this behavior.\n",
      "  _warn_prf(average, modifier, msg_start, len(result))\n"
     ]
    }
   ],
   "source": [
    "print(classification_report(y_test,y_pred_4))"
   ]
  },
  {
   "cell_type": "code",
   "execution_count": null,
   "metadata": {
    "id": "6xHPOBn6iH6W"
   },
   "outputs": [],
   "source": []
  },
  {
   "cell_type": "markdown",
   "metadata": {
    "id": "yK8i2oMWiIR6"
   },
   "source": [
    "#### With glove embedding"
   ]
  },
  {
   "cell_type": "code",
   "execution_count": 76,
   "metadata": {
    "colab": {
     "base_uri": "https://localhost:8080/",
     "height": 488
    },
    "id": "pT9F3t-RiIR7",
    "outputId": "b11dec51-5ff7-426b-a747-ecd36efecb9d"
   },
   "outputs": [
    {
     "name": "stdout",
     "output_type": "stream",
     "text": [
      "WARNING:tensorflow:Layer gru_1 will not use cuDNN kernels since it doesn't meet the criteria. It will use a generic GPU kernel as fallback when running on GPU.\n",
      "Model: \"sequential_7\"\n",
      "_________________________________________________________________\n",
      "Layer (type)                 Output Shape              Param #   \n",
      "=================================================================\n",
      "embedding_7 (Embedding)      (None, 512, 100)          9186700   \n",
      "_________________________________________________________________\n",
      "gru_1 (GRU)                  (None, 20)                7320      \n",
      "_________________________________________________________________\n",
      "dense_7 (Dense)              (None, 3)                 63        \n",
      "=================================================================\n",
      "Total params: 9,194,083\n",
      "Trainable params: 7,383\n",
      "Non-trainable params: 9,186,700\n",
      "_________________________________________________________________\n"
     ]
    }
   ],
   "source": [
    "model4 = Sequential()\n",
    "model4.add(Embedding(len(word_index)+1, 100, weights=[embedding_matrix], input_length=max_len, trainable=False))\n",
    "model4.add(layers.GRU(20,dropout=0.6, activation='relu'))\n",
    "model4.add(layers.Dense(3,activation='softmax'))\n",
    "model4.compile(optimizer='rmsprop',loss='categorical_crossentropy', metrics=['accuracy'])\n",
    "model4.summary()\n",
    "#plot_model(model4, to_file='/content/drive/MyDrive/dataset_patent/figures/dl_model4_anno_w_400.png', show_shapes=True, show_layer_names=True, dpi=400)\n",
    "#plot_model(model4, to_file='/content/drive/MyDrive/dataset_patent/figures/dl_model4_anno_w_50.png', show_shapes=True, show_layer_names=True, dpi=50)"
   ]
  },
  {
   "cell_type": "code",
   "execution_count": 77,
   "metadata": {
    "colab": {
     "background_save": true,
     "base_uri": "https://localhost:8080/"
    },
    "id": "aVZiYdbLiIR9",
    "outputId": "6f512903-70c0-43d1-fbb5-18379f60ea96"
   },
   "outputs": [
    {
     "name": "stdout",
     "output_type": "stream",
     "text": [
      "Epoch 1/10\n",
      "3750/3750 [==============================] - 3383s 902ms/step - loss: 0.5280 - accuracy: 0.7693 - val_loss: 0.2443 - val_accuracy: 0.9130\n",
      "Epoch 2/10\n",
      "3750/3750 [==============================] - 4972s 1s/step - loss: 0.2512 - accuracy: 0.9108 - val_loss: 0.1655 - val_accuracy: 0.9410\n",
      "Epoch 3/10\n",
      "3750/3750 [==============================] - 4932s 1s/step - loss: 0.2129 - accuracy: 0.9257 - val_loss: 0.1538 - val_accuracy: 0.9463\n",
      "Epoch 4/10\n",
      "3750/3750 [==============================] - 4712s 1s/step - loss: 0.1951 - accuracy: 0.9317 - val_loss: 0.1456 - val_accuracy: 0.9496\n",
      "Epoch 5/10\n",
      "3750/3750 [==============================] - 4716s 1s/step - loss: 0.1830 - accuracy: 0.9359 - val_loss: 0.1338 - val_accuracy: 0.9545\n",
      "Epoch 6/10\n",
      "3750/3750 [==============================] - 5019s 1s/step - loss: 0.1769 - accuracy: 0.9391 - val_loss: 0.1275 - val_accuracy: 0.9557\n",
      "Epoch 7/10\n",
      "3750/3750 [==============================] - 4798s 1s/step - loss: 0.1741 - accuracy: 0.9397 - val_loss: 0.1280 - val_accuracy: 0.9551\n",
      "Epoch 8/10\n",
      "3750/3750 [==============================] - 3592s 958ms/step - loss: 0.1706 - accuracy: 0.9409 - val_loss: 0.1249 - val_accuracy: 0.9580\n",
      "Epoch 9/10\n",
      "3750/3750 [==============================] - 4936s 1s/step - loss: 0.1676 - accuracy: 0.9422 - val_loss: 0.1273 - val_accuracy: 0.9568\n",
      "Epoch 10/10\n",
      "3750/3750 [==============================] - 4788s 1s/step - loss: 0.1659 - accuracy: 0.9426 - val_loss: 0.1264 - val_accuracy: 0.9580\n"
     ]
    }
   ],
   "source": [
    "history_4 = model4.fit(X_train, y_train, validation_data=(X_val, y_val), verbose=1, epochs=10)"
   ]
  },
  {
   "cell_type": "code",
   "execution_count": 78,
   "metadata": {
    "colab": {
     "background_save": true
    },
    "id": "cTM7GW96iIR-",
    "outputId": "554cc70b-5904-46f0-9a64-2eff6b27f8ba"
   },
   "outputs": [
    {
     "data": {
      "image/png": "[encoded data removed]",
      "text/plain": [
       "<Figure size 1080x432 with 2 Axes>"
      ]
     },
     "metadata": {
      "needs_background": "light"
     },
     "output_type": "display_data"
    }
   ],
   "source": [
    "plt.figure(figsize=(15,6))\n",
    "plt.subplot(1, 2, 1) \n",
    "plt.plot(history_4.history[\"loss\"], label=\"train_loss\")\n",
    "plt.plot(history_4.history[\"val_loss\"], label=\"val_loss\")\n",
    "plt.xlabel(\"Epochs\", fontsize=16)\n",
    "plt.ylabel(\"loss\", fontsize=16)\n",
    "plt.xticks(np.arange(a), np.arange(1, a+1), fontsize=12)\n",
    "plt.yticks(fontsize=12)\n",
    "plt.title(\"Train and Validation loss Over Epochs\", fontsize=14)\n",
    "plt.legend()\n",
    "plt.grid()\n",
    "# plt.show()\n",
    "plt.subplot(1, 2, 2) \n",
    "plt.plot(history_4.history[\"accuracy\"], label=\"train_accuracy\")\n",
    "plt.plot(history_4.history[\"val_accuracy\"], label=\"val_accuracy\")\n",
    "plt.xlabel(\"Epochs\",fontsize=16)\n",
    "plt.ylabel(\"accuracy\",fontsize=16)\n",
    "plt.xticks(np.arange(a), np.arange(1, a+1), fontsize=12)\n",
    "plt.yticks(fontsize=12)\n",
    "plt.title(\"Train and Validation accuracy Over Epochs\", fontsize=14)\n",
    "plt.legend()\n",
    "plt.grid()\n",
    "plt.savefig('model_4_gru_loss_50', dpi=50,  bbox_inches='tight', transparent=True, pad_inches=0)\n",
    "plt.savefig('model_4_gru_loss_400', dpi=400,  bbox_inches='tight', transparent=True, pad_inches=0)\n",
    "\n",
    "plt.show()"
   ]
  },
  {
   "cell_type": "code",
   "execution_count": 79,
   "metadata": {
    "id": "P2hvkIRyiIR_"
   },
   "outputs": [
    {
     "name": "stdout",
     "output_type": "stream",
     "text": [
      "469/469 [==============================] - 134s 285ms/step - loss: 0.1271 - accuracy: 0.9583\n"
     ]
    },
    {
     "data": {
      "text/plain": [
       "[0.12711307406425476, 0.9583333134651184]"
      ]
     },
     "execution_count": 79,
     "metadata": {},
     "output_type": "execute_result"
    }
   ],
   "source": [
    "model4.evaluate(X_test, y_test)"
   ]
  },
  {
   "cell_type": "code",
   "execution_count": 80,
   "metadata": {
    "colab": {
     "background_save": true
    },
    "id": "-kjxOAzCiISA"
   },
   "outputs": [],
   "source": [
    "y_pred_4 = model4.predict(X_test)"
   ]
  },
  {
   "cell_type": "code",
   "execution_count": 81,
   "metadata": {
    "id": "FTh3muNQiISB"
   },
   "outputs": [],
   "source": [
    "y_pred_4 = (y_pred_4 > 0.5)"
   ]
  },
  {
   "cell_type": "code",
   "execution_count": 82,
   "metadata": {
    "id": "NvmvGiJtiISC"
   },
   "outputs": [
    {
     "name": "stdout",
     "output_type": "stream",
     "text": [
      "              precision    recall  f1-score   support\n",
      "\n",
      "           0       0.93      0.98      0.96      4969\n",
      "           1       0.97      0.93      0.95      5002\n",
      "           2       0.98      0.95      0.97      5029\n",
      "\n",
      "   micro avg       0.96      0.96      0.96     15000\n",
      "   macro avg       0.96      0.96      0.96     15000\n",
      "weighted avg       0.96      0.96      0.96     15000\n",
      " samples avg       0.96      0.96      0.96     15000\n",
      "\n"
     ]
    },
    {
     "name": "stderr",
     "output_type": "stream",
     "text": [
      "C:\\Users\\tschi\\anaconda3\\lib\\site-packages\\sklearn\\metrics\\_classification.py:1308: UndefinedMetricWarning: Precision and F-score are ill-defined and being set to 0.0 in samples with no predicted labels. Use `zero_division` parameter to control this behavior.\n",
      "  _warn_prf(average, modifier, msg_start, len(result))\n"
     ]
    }
   ],
   "source": [
    "print(classification_report(y_test,y_pred_4))"
   ]
  },
  {
   "cell_type": "markdown",
   "metadata": {
    "id": "N22tjDncwhhs"
   },
   "source": [
    "### Further Evaluation and Graphs"
   ]
  },
  {
   "cell_type": "code",
   "execution_count": null,
   "metadata": {
    "id": "7natH7Y92ENG"
   },
   "outputs": [],
   "source": []
  },
  {
   "cell_type": "code",
   "execution_count": null,
   "metadata": {
    "id": "jvmb2RsOmHKT"
   },
   "outputs": [],
   "source": [
    "test_loss, test_acc = best_model.evaluate(X_test, y_test, verbose=2)\n",
    "print('Model accuracy: ',test_acc)"
   ]
  },
  {
   "cell_type": "code",
   "execution_count": null,
   "metadata": {
    "id": "oy6mGjO4mUsU"
   },
   "outputs": [],
   "source": [
    "predictions = model1.predict(X_test)"
   ]
  },
  {
   "cell_type": "code",
   "execution_count": null,
   "metadata": {
    "id": "yCwsox-wmUdS"
   },
   "outputs": [],
   "source": [
    "from sklearn.metrics import confusion_matrix\n",
    "matrix = confusion_matrix(y_test.argmax(axis=1), np.around(predictions, decimals=0).argmax(axis=1))"
   ]
  },
  {
   "cell_type": "code",
   "execution_count": null,
   "metadata": {
    "id": "GQTlIJr0m3XO"
   },
   "outputs": [],
   "source": [
    "import seaborn as sns\n",
    "conf_matrix = pd.DataFrame(matrix, index = ['Neutral','Negative','Positive'],columns = ['Neutral','Negative','Positive'])\n",
    "#Normalizing\n",
    "conf_matrix = conf_matrix.astype('float') / conf_matrix.sum(axis=1)[:, np.newaxis]\n",
    "plt.figure(figsize = (15,15))\n",
    "sns.heatmap(conf_matrix, annot=True, annot_kws={\"size\": 15})"
   ]
  }
 ],
 "metadata": {
  "colab": {
   "collapsed_sections": [
    "kLGJpKXNw72i",
    "WMf3bNUSxBzG",
    "Bl0nDd_kwJAn",
    "sH-FwGpVwOEJ",
    "1VwQKNXzNR42",
    "IArVhXasN62j",
    "sT-Sl0kSwVox",
    "_uA8LWYIf6Y4",
    "htFysGDzgEQN",
    "475WMmdFg-m5",
    "nSj1wmlOh41b",
    "yK8i2oMWiIR6",
    "N22tjDncwhhs"
   ],
   "name": "Deeplearning_annotation.ipynb",
   "provenance": []
  },
  "kernelspec": {
   "display_name": "Python 3",
   "language": "python",
   "name": "python3"
  },
  "language_info": {
   "codemirror_mode": {
    "name": "ipython",
    "version": 3
   },
   "file_extension": ".py",
   "mimetype": "text/x-python",
   "name": "python",
   "nbconvert_exporter": "python",
   "pygments_lexer": "ipython3",
   "version": "3.8.8"
  }
 },
 "nbformat": 4,
 "nbformat_minor": 1
}
