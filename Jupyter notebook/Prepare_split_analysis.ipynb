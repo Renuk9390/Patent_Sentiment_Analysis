{
  "nbformat": 4,
  "nbformat_minor": 0,
  "metadata": {
    "colab": {
      "name": "Prepare_split_analysis.ipynb",
      "provenance": [],
      "collapsed_sections": []
    },
    "kernelspec": {
      "name": "python3",
      "display_name": "Python 3"
    },
    "language_info": {
      "name": "python"
    }
  },
  "cells": [
    {
      "cell_type": "code",
      "metadata": {
        "colab": {
          "base_uri": "https://localhost:8080/"
        },
        "id": "LzZiGJZ17qW9",
        "outputId": "6ab88d7e-f699-439c-eeb5-fbd46119c61d"
      },
      "source": [
        "nltk.download('punkt')"
      ],
      "execution_count": 18,
      "outputs": [
        {
          "output_type": "stream",
          "text": [
            "[nltk_data] Downloading package punkt to /root/nltk_data...\n",
            "[nltk_data]   Unzipping tokenizers/punkt.zip.\n"
          ],
          "name": "stdout"
        },
        {
          "output_type": "execute_result",
          "data": {
            "text/plain": [
              "True"
            ]
          },
          "metadata": {
            "tags": []
          },
          "execution_count": 18
        }
      ]
    },
    {
      "cell_type": "code",
      "metadata": {
        "id": "kjuta6CuoAav"
      },
      "source": [
        "import re\n",
        "import json\n",
        "import nltk\n",
        "import pprint\n",
        "import numpy as np\n",
        "import pandas as pd\n",
        "import seaborn as sns\n",
        "from os import listdir\n",
        "from os.path import isfile, join\n",
        "import matplotlib.pyplot as plt\n",
        "import plotly.graph_objects as go\n",
        "\n",
        "from scipy.stats import mannwhitneyu\n",
        "from sklearn.utils import shuffle\n",
        "from sklearn.linear_model import LogisticRegression\n",
        "from sklearn.model_selection import train_test_split\n",
        "from sklearn.metrics import accuracy_score, classification_report\n",
        "from sklearn.feature_extraction.text import CountVectorizer, TfidfVectorizer\n",
        "from nltk.tokenize import word_tokenize\n",
        "\n",
        "from keras.preprocessing.text import text_to_word_sequence\n",
        "\n",
        "from tensorflow.keras.preprocessing.text import Tokenizer\n",
        "from tensorflow.keras.preprocessing.sequence import pad_sequences"
      ],
      "execution_count": 19,
      "outputs": []
    },
    {
      "cell_type": "code",
      "metadata": {
        "colab": {
          "base_uri": "https://localhost:8080/"
        },
        "id": "RWUAyr87oPis",
        "outputId": "0b3753b2-11c4-4eb7-c19f-3917862bf500"
      },
      "source": [
        "# Fetching all the text-target files from the folder and merging them \n",
        "path_all_text_target = '/content/drive/MyDrive/dataset_patent/text_target'\n",
        "files_all_text_target = [f for f in listdir(path_all_text_target) if isfile(join(path_all_text_target, f))]\n",
        "print(files_all_text_target)"
      ],
      "execution_count": 2,
      "outputs": [
        {
          "output_type": "stream",
          "text": [
            "['pos_text_target.csv', 'neg_text_target.csv', 'neut_text_target.csv']\n"
          ],
          "name": "stdout"
        }
      ]
    },
    {
      "cell_type": "code",
      "metadata": {
        "id": "lmmCgitSo6Vp"
      },
      "source": [
        "combined_all_text_target = pd.concat([pd.read_csv(path_all_text_target+'/'+f) for f in files_all_text_target ])"
      ],
      "execution_count": 3,
      "outputs": []
    },
    {
      "cell_type": "code",
      "metadata": {
        "colab": {
          "base_uri": "https://localhost:8080/",
          "height": 204
        },
        "id": "SD__K-ODpVRW",
        "outputId": "43d7fdd7-a5aa-431a-a85d-3ef777de7c7c"
      },
      "source": [
        "combined_all_text_target.head()"
      ],
      "execution_count": 4,
      "outputs": [
        {
          "output_type": "execute_result",
          "data": {
            "text/html": [
              "<div>\n",
              "<style scoped>\n",
              "    .dataframe tbody tr th:only-of-type {\n",
              "        vertical-align: middle;\n",
              "    }\n",
              "\n",
              "    .dataframe tbody tr th {\n",
              "        vertical-align: top;\n",
              "    }\n",
              "\n",
              "    .dataframe thead th {\n",
              "        text-align: right;\n",
              "    }\n",
              "</style>\n",
              "<table border=\"1\" class=\"dataframe\">\n",
              "  <thead>\n",
              "    <tr style=\"text-align: right;\">\n",
              "      <th></th>\n",
              "      <th>text</th>\n",
              "      <th>target</th>\n",
              "    </tr>\n",
              "  </thead>\n",
              "  <tbody>\n",
              "    <tr>\n",
              "      <th>0</th>\n",
              "      <td>The present invention can enhance the shaping ...</td>\n",
              "      <td>1</td>\n",
              "    </tr>\n",
              "    <tr>\n",
              "      <th>1</th>\n",
              "      <td>According to the present invention, a slide fa...</td>\n",
              "      <td>1</td>\n",
              "    </tr>\n",
              "    <tr>\n",
              "      <th>2</th>\n",
              "      <td>According to the present invention, it is poss...</td>\n",
              "      <td>1</td>\n",
              "    </tr>\n",
              "    <tr>\n",
              "      <th>3</th>\n",
              "      <td>In the diagnostic medical image system accordi...</td>\n",
              "      <td>1</td>\n",
              "    </tr>\n",
              "    <tr>\n",
              "      <th>4</th>\n",
              "      <td>A dental implant fixture according to the pres...</td>\n",
              "      <td>1</td>\n",
              "    </tr>\n",
              "  </tbody>\n",
              "</table>\n",
              "</div>"
            ],
            "text/plain": [
              "                                                text  target\n",
              "0  The present invention can enhance the shaping ...       1\n",
              "1  According to the present invention, a slide fa...       1\n",
              "2  According to the present invention, it is poss...       1\n",
              "3  In the diagnostic medical image system accordi...       1\n",
              "4  A dental implant fixture according to the pres...       1"
            ]
          },
          "metadata": {
            "tags": []
          },
          "execution_count": 4
        }
      ]
    },
    {
      "cell_type": "code",
      "metadata": {
        "id": "okrvW_sRiO1e"
      },
      "source": [
        "combined_all_text_target = shuffle(combined_all_text_target)"
      ],
      "execution_count": 5,
      "outputs": []
    },
    {
      "cell_type": "code",
      "metadata": {
        "colab": {
          "base_uri": "https://localhost:8080/",
          "height": 204
        },
        "id": "Kojh0R62iWcv",
        "outputId": "7401ed5c-2877-4ec5-9c50-1787da0a8259"
      },
      "source": [
        "combined_all_text_target.head()"
      ],
      "execution_count": 6,
      "outputs": [
        {
          "output_type": "execute_result",
          "data": {
            "text/html": [
              "<div>\n",
              "<style scoped>\n",
              "    .dataframe tbody tr th:only-of-type {\n",
              "        vertical-align: middle;\n",
              "    }\n",
              "\n",
              "    .dataframe tbody tr th {\n",
              "        vertical-align: top;\n",
              "    }\n",
              "\n",
              "    .dataframe thead th {\n",
              "        text-align: right;\n",
              "    }\n",
              "</style>\n",
              "<table border=\"1\" class=\"dataframe\">\n",
              "  <thead>\n",
              "    <tr style=\"text-align: right;\">\n",
              "      <th></th>\n",
              "      <th>text</th>\n",
              "      <th>target</th>\n",
              "    </tr>\n",
              "  </thead>\n",
              "  <tbody>\n",
              "    <tr>\n",
              "      <th>4172</th>\n",
              "      <td>The present invention is advantageous in terms...</td>\n",
              "      <td>1</td>\n",
              "    </tr>\n",
              "    <tr>\n",
              "      <th>87023</th>\n",
              "      <td>Currently, Public Safety Department of the Uni...</td>\n",
              "      <td>-1</td>\n",
              "    </tr>\n",
              "    <tr>\n",
              "      <th>86125</th>\n",
              "      <td>Among MTC terminals, there has been an increas...</td>\n",
              "      <td>-1</td>\n",
              "    </tr>\n",
              "    <tr>\n",
              "      <th>75127</th>\n",
              "      <td>Still, any conventional techniques have diffic...</td>\n",
              "      <td>-1</td>\n",
              "    </tr>\n",
              "    <tr>\n",
              "      <th>22540</th>\n",
              "      <td>To achieve these objects and other advantages ...</td>\n",
              "      <td>0</td>\n",
              "    </tr>\n",
              "  </tbody>\n",
              "</table>\n",
              "</div>"
            ],
            "text/plain": [
              "                                                    text  target\n",
              "4172   The present invention is advantageous in terms...       1\n",
              "87023  Currently, Public Safety Department of the Uni...      -1\n",
              "86125  Among MTC terminals, there has been an increas...      -1\n",
              "75127  Still, any conventional techniques have diffic...      -1\n",
              "22540  To achieve these objects and other advantages ...       0"
            ]
          },
          "metadata": {
            "tags": []
          },
          "execution_count": 6
        }
      ]
    },
    {
      "cell_type": "code",
      "metadata": {
        "id": "DVqxwUXyibeU"
      },
      "source": [
        "# Reseting index such that it starts from 0,1,2, ... so on \n",
        "combined_all_text_target.reset_index(inplace=True, drop=True)"
      ],
      "execution_count": 7,
      "outputs": []
    },
    {
      "cell_type": "code",
      "metadata": {
        "colab": {
          "base_uri": "https://localhost:8080/",
          "height": 359
        },
        "id": "dE63otSIiozZ",
        "outputId": "1675a122-d55f-49b0-f52a-31761ac14058"
      },
      "source": [
        "combined_all_text_target.head(10)"
      ],
      "execution_count": 8,
      "outputs": [
        {
          "output_type": "execute_result",
          "data": {
            "text/html": [
              "<div>\n",
              "<style scoped>\n",
              "    .dataframe tbody tr th:only-of-type {\n",
              "        vertical-align: middle;\n",
              "    }\n",
              "\n",
              "    .dataframe tbody tr th {\n",
              "        vertical-align: top;\n",
              "    }\n",
              "\n",
              "    .dataframe thead th {\n",
              "        text-align: right;\n",
              "    }\n",
              "</style>\n",
              "<table border=\"1\" class=\"dataframe\">\n",
              "  <thead>\n",
              "    <tr style=\"text-align: right;\">\n",
              "      <th></th>\n",
              "      <th>text</th>\n",
              "      <th>target</th>\n",
              "    </tr>\n",
              "  </thead>\n",
              "  <tbody>\n",
              "    <tr>\n",
              "      <th>0</th>\n",
              "      <td>The present invention is advantageous in terms...</td>\n",
              "      <td>1</td>\n",
              "    </tr>\n",
              "    <tr>\n",
              "      <th>1</th>\n",
              "      <td>Currently, Public Safety Department of the Uni...</td>\n",
              "      <td>-1</td>\n",
              "    </tr>\n",
              "    <tr>\n",
              "      <th>2</th>\n",
              "      <td>Among MTC terminals, there has been an increas...</td>\n",
              "      <td>-1</td>\n",
              "    </tr>\n",
              "    <tr>\n",
              "      <th>3</th>\n",
              "      <td>Still, any conventional techniques have diffic...</td>\n",
              "      <td>-1</td>\n",
              "    </tr>\n",
              "    <tr>\n",
              "      <th>4</th>\n",
              "      <td>To achieve these objects and other advantages ...</td>\n",
              "      <td>0</td>\n",
              "    </tr>\n",
              "    <tr>\n",
              "      <th>5</th>\n",
              "      <td>The present invention can provide a vehicle br...</td>\n",
              "      <td>1</td>\n",
              "    </tr>\n",
              "    <tr>\n",
              "      <th>6</th>\n",
              "      <td>In the hash function described in Non-patent l...</td>\n",
              "      <td>-1</td>\n",
              "    </tr>\n",
              "    <tr>\n",
              "      <th>7</th>\n",
              "      <td>It is an aspect of the present invention to pr...</td>\n",
              "      <td>-1</td>\n",
              "    </tr>\n",
              "    <tr>\n",
              "      <th>8</th>\n",
              "      <td>A conventional height-adjustment mechanism com...</td>\n",
              "      <td>-1</td>\n",
              "    </tr>\n",
              "    <tr>\n",
              "      <th>9</th>\n",
              "      <td>The above two conventional methods are process...</td>\n",
              "      <td>-1</td>\n",
              "    </tr>\n",
              "  </tbody>\n",
              "</table>\n",
              "</div>"
            ],
            "text/plain": [
              "                                                text  target\n",
              "0  The present invention is advantageous in terms...       1\n",
              "1  Currently, Public Safety Department of the Uni...      -1\n",
              "2  Among MTC terminals, there has been an increas...      -1\n",
              "3  Still, any conventional techniques have diffic...      -1\n",
              "4  To achieve these objects and other advantages ...       0\n",
              "5  The present invention can provide a vehicle br...       1\n",
              "6  In the hash function described in Non-patent l...      -1\n",
              "7  It is an aspect of the present invention to pr...      -1\n",
              "8  A conventional height-adjustment mechanism com...      -1\n",
              "9  The above two conventional methods are process...      -1"
            ]
          },
          "metadata": {
            "tags": []
          },
          "execution_count": 8
        }
      ]
    },
    {
      "cell_type": "code",
      "metadata": {
        "id": "jNd35UM5kkRS"
      },
      "source": [
        "# A copied file to play with the text-target dataset\n",
        "df_analysis = combined_all_text_target.copy()"
      ],
      "execution_count": 9,
      "outputs": []
    },
    {
      "cell_type": "code",
      "metadata": {
        "id": "OmMdU7BXkqIW"
      },
      "source": [
        "# Counting total words available in the text\n",
        "df_analysis['total_words_in_text'] = df_analysis['text'].str.count(' ') + 1"
      ],
      "execution_count": 10,
      "outputs": []
    },
    {
      "cell_type": "code",
      "metadata": {
        "colab": {
          "base_uri": "https://localhost:8080/",
          "height": 204
        },
        "id": "Ryz45-Osk44n",
        "outputId": "7da6d021-c5bb-4e16-d4fa-4fd19b5e32e6"
      },
      "source": [
        "df_analysis.head()"
      ],
      "execution_count": 11,
      "outputs": [
        {
          "output_type": "execute_result",
          "data": {
            "text/html": [
              "<div>\n",
              "<style scoped>\n",
              "    .dataframe tbody tr th:only-of-type {\n",
              "        vertical-align: middle;\n",
              "    }\n",
              "\n",
              "    .dataframe tbody tr th {\n",
              "        vertical-align: top;\n",
              "    }\n",
              "\n",
              "    .dataframe thead th {\n",
              "        text-align: right;\n",
              "    }\n",
              "</style>\n",
              "<table border=\"1\" class=\"dataframe\">\n",
              "  <thead>\n",
              "    <tr style=\"text-align: right;\">\n",
              "      <th></th>\n",
              "      <th>text</th>\n",
              "      <th>target</th>\n",
              "      <th>total_words_in_text</th>\n",
              "    </tr>\n",
              "  </thead>\n",
              "  <tbody>\n",
              "    <tr>\n",
              "      <th>0</th>\n",
              "      <td>The present invention is advantageous in terms...</td>\n",
              "      <td>1</td>\n",
              "      <td>24.0</td>\n",
              "    </tr>\n",
              "    <tr>\n",
              "      <th>1</th>\n",
              "      <td>Currently, Public Safety Department of the Uni...</td>\n",
              "      <td>-1</td>\n",
              "      <td>158.0</td>\n",
              "    </tr>\n",
              "    <tr>\n",
              "      <th>2</th>\n",
              "      <td>Among MTC terminals, there has been an increas...</td>\n",
              "      <td>-1</td>\n",
              "      <td>305.0</td>\n",
              "    </tr>\n",
              "    <tr>\n",
              "      <th>3</th>\n",
              "      <td>Still, any conventional techniques have diffic...</td>\n",
              "      <td>-1</td>\n",
              "      <td>450.0</td>\n",
              "    </tr>\n",
              "    <tr>\n",
              "      <th>4</th>\n",
              "      <td>To achieve these objects and other advantages ...</td>\n",
              "      <td>0</td>\n",
              "      <td>434.0</td>\n",
              "    </tr>\n",
              "  </tbody>\n",
              "</table>\n",
              "</div>"
            ],
            "text/plain": [
              "                                                text  ...  total_words_in_text\n",
              "0  The present invention is advantageous in terms...  ...                 24.0\n",
              "1  Currently, Public Safety Department of the Uni...  ...                158.0\n",
              "2  Among MTC terminals, there has been an increas...  ...                305.0\n",
              "3  Still, any conventional techniques have diffic...  ...                450.0\n",
              "4  To achieve these objects and other advantages ...  ...                434.0\n",
              "\n",
              "[5 rows x 3 columns]"
            ]
          },
          "metadata": {
            "tags": []
          },
          "execution_count": 11
        }
      ]
    },
    {
      "cell_type": "code",
      "metadata": {
        "colab": {
          "base_uri": "https://localhost:8080/"
        },
        "id": "o5mGofFkpxno",
        "outputId": "400df732-4ee8-417d-e6d7-39e41cd4426f"
      },
      "source": [
        "# Calculating total numbers of the sample \n",
        "print(\"Size of the data: \", combined_all_text_target.shape[0])"
      ],
      "execution_count": 14,
      "outputs": [
        {
          "output_type": "stream",
          "text": [
            "Size of the data:  205635\n"
          ],
          "name": "stdout"
        }
      ]
    },
    {
      "cell_type": "code",
      "metadata": {
        "colab": {
          "base_uri": "https://localhost:8080/"
        },
        "id": "XSNagfnIpaKx",
        "outputId": "4294f948-e58d-489a-d470-44b0394c7a64"
      },
      "source": [
        "# Checking counts of respective labels \n",
        "combined_all_text_target['target'].value_counts()"
      ],
      "execution_count": 15,
      "outputs": [
        {
          "output_type": "execute_result",
          "data": {
            "text/plain": [
              "-1    89105\n",
              " 0    63055\n",
              " 1    53475\n",
              "Name: target, dtype: int64"
            ]
          },
          "metadata": {
            "tags": []
          },
          "execution_count": 15
        }
      ]
    },
    {
      "cell_type": "code",
      "metadata": {
        "id": "Nvp9MQ7b8vRY"
      },
      "source": [
        "df_analysis['text']=df_analysis['text'].apply(str)"
      ],
      "execution_count": 16,
      "outputs": []
    },
    {
      "cell_type": "code",
      "metadata": {
        "id": "Xkrb3-8l8CPl"
      },
      "source": [
        "# Tokenization using NLTK  - Taking 5 minutes on colab \n",
        "df_analysis['tokenized_sents'] = df_analysis.apply(lambda row: nltk.word_tokenize(row['text']), axis=1)"
      ],
      "execution_count": 20,
      "outputs": []
    },
    {
      "cell_type": "code",
      "metadata": {
        "id": "2kwQKyjTmhPA"
      },
      "source": [
        "# Tokenization using keras - Takind 1 minutes on colab\n",
        "df_analysis['keras_tokenized_sents'] = df_analysis.apply(lambda row: text_to_word_sequence(row['text']), axis=1)"
      ],
      "execution_count": 22,
      "outputs": []
    },
    {
      "cell_type": "code",
      "metadata": {
        "colab": {
          "base_uri": "https://localhost:8080/",
          "height": 204
        },
        "id": "7lpPg7fk7jAz",
        "outputId": "cecebb35-1eb2-42d6-bdbe-f1380f77601d"
      },
      "source": [
        "df_analysis.head()"
      ],
      "execution_count": 24,
      "outputs": [
        {
          "output_type": "execute_result",
          "data": {
            "text/html": [
              "<div>\n",
              "<style scoped>\n",
              "    .dataframe tbody tr th:only-of-type {\n",
              "        vertical-align: middle;\n",
              "    }\n",
              "\n",
              "    .dataframe tbody tr th {\n",
              "        vertical-align: top;\n",
              "    }\n",
              "\n",
              "    .dataframe thead th {\n",
              "        text-align: right;\n",
              "    }\n",
              "</style>\n",
              "<table border=\"1\" class=\"dataframe\">\n",
              "  <thead>\n",
              "    <tr style=\"text-align: right;\">\n",
              "      <th></th>\n",
              "      <th>text</th>\n",
              "      <th>target</th>\n",
              "      <th>total_words_in_text</th>\n",
              "      <th>tokenized_sents</th>\n",
              "      <th>keras_tokenized_sents</th>\n",
              "    </tr>\n",
              "  </thead>\n",
              "  <tbody>\n",
              "    <tr>\n",
              "      <th>0</th>\n",
              "      <td>The present invention is advantageous in terms...</td>\n",
              "      <td>1</td>\n",
              "      <td>24.0</td>\n",
              "      <td>[The, present, invention, is, advantageous, in...</td>\n",
              "      <td>[the, present, invention, is, advantageous, in...</td>\n",
              "    </tr>\n",
              "    <tr>\n",
              "      <th>1</th>\n",
              "      <td>Currently, Public Safety Department of the Uni...</td>\n",
              "      <td>-1</td>\n",
              "      <td>158.0</td>\n",
              "      <td>[Currently, ,, Public, Safety, Department, of,...</td>\n",
              "      <td>[currently, public, safety, department, of, th...</td>\n",
              "    </tr>\n",
              "    <tr>\n",
              "      <th>2</th>\n",
              "      <td>Among MTC terminals, there has been an increas...</td>\n",
              "      <td>-1</td>\n",
              "      <td>305.0</td>\n",
              "      <td>[Among, MTC, terminals, ,, there, has, been, a...</td>\n",
              "      <td>[among, mtc, terminals, there, has, been, an, ...</td>\n",
              "    </tr>\n",
              "    <tr>\n",
              "      <th>3</th>\n",
              "      <td>Still, any conventional techniques have diffic...</td>\n",
              "      <td>-1</td>\n",
              "      <td>450.0</td>\n",
              "      <td>[Still, ,, any, conventional, techniques, have...</td>\n",
              "      <td>[still, any, conventional, techniques, have, d...</td>\n",
              "    </tr>\n",
              "    <tr>\n",
              "      <th>4</th>\n",
              "      <td>To achieve these objects and other advantages ...</td>\n",
              "      <td>0</td>\n",
              "      <td>434.0</td>\n",
              "      <td>[To, achieve, these, objects, and, other, adva...</td>\n",
              "      <td>[to, achieve, these, objects, and, other, adva...</td>\n",
              "    </tr>\n",
              "  </tbody>\n",
              "</table>\n",
              "</div>"
            ],
            "text/plain": [
              "                                                text  ...                              keras_tokenized_sents\n",
              "0  The present invention is advantageous in terms...  ...  [the, present, invention, is, advantageous, in...\n",
              "1  Currently, Public Safety Department of the Uni...  ...  [currently, public, safety, department, of, th...\n",
              "2  Among MTC terminals, there has been an increas...  ...  [among, mtc, terminals, there, has, been, an, ...\n",
              "3  Still, any conventional techniques have diffic...  ...  [still, any, conventional, techniques, have, d...\n",
              "4  To achieve these objects and other advantages ...  ...  [to, achieve, these, objects, and, other, adva...\n",
              "\n",
              "[5 rows x 5 columns]"
            ]
          },
          "metadata": {
            "tags": []
          },
          "execution_count": 24
        }
      ]
    },
    {
      "cell_type": "code",
      "metadata": {
        "colab": {
          "base_uri": "https://localhost:8080/"
        },
        "id": "Zm1j6RgClTc9",
        "outputId": "69f75b1c-3ec5-4f4f-f0fe-a66b3ef84ca9"
      },
      "source": [
        "# Total number of words in text - overall\n",
        "print('Total number of words ' + str(df_analysis['total_words_in_text'].sum()))"
      ],
      "execution_count": 25,
      "outputs": [
        {
          "output_type": "stream",
          "text": [
            "Total number of words 59526838.0\n"
          ],
          "name": "stdout"
        }
      ]
    },
    {
      "cell_type": "markdown",
      "metadata": {
        "id": "8KSd242yt1fo"
      },
      "source": [
        "Let's see how both tokenization works"
      ]
    },
    {
      "cell_type": "code",
      "metadata": {
        "colab": {
          "base_uri": "https://localhost:8080/"
        },
        "id": "XjI0t-sZtJM5",
        "outputId": "58e3e517-71fd-4689-af2e-a799948072a3"
      },
      "source": [
        "# nltk tokenization \n",
        "print(df_analysis['tokenized_sents'][0])"
      ],
      "execution_count": 33,
      "outputs": [
        {
          "output_type": "stream",
          "text": [
            "['The', 'present', 'invention', 'is', 'advantageous', 'in', 'terms', 'of', 'reducing', 'battery', 'consumption', 'of', 'the', 'UE', 'by', 'applying', 'discontinuous', 'reception', 'in', 'the', 'inter-eNB', 'carrier', 'aggregation', 'mode', '.']\n"
          ],
          "name": "stdout"
        }
      ]
    },
    {
      "cell_type": "code",
      "metadata": {
        "colab": {
          "base_uri": "https://localhost:8080/"
        },
        "id": "EQW9121JtQ6t",
        "outputId": "8d4620ff-0916-4c57-d9b7-f4021cad193f"
      },
      "source": [
        "# Keras tokenization \n",
        "print(df_analysis['keras_tokenized_sents'][0])"
      ],
      "execution_count": 34,
      "outputs": [
        {
          "output_type": "stream",
          "text": [
            "['the', 'present', 'invention', 'is', 'advantageous', 'in', 'terms', 'of', 'reducing', 'battery', 'consumption', 'of', 'the', 'ue', 'by', 'applying', 'discontinuous', 'reception', 'in', 'the', 'inter', 'enb', 'carrier', 'aggregation', 'mode']\n"
          ],
          "name": "stdout"
        }
      ]
    },
    {
      "cell_type": "markdown",
      "metadata": {
        "id": "chFfpn3CuIvG"
      },
      "source": [
        "It seems like the tokenization perform better considering following factors \n",
        "\n",
        "\n",
        "1.   Execution time is better (As seen above in code)\n",
        "2.   Converting all tokens in lower case\n",
        "3.   It is not considering punctuation as new token  \n",
        "\n"
      ]
    },
    {
      "cell_type": "code",
      "metadata": {
        "id": "pM85pZM1uF5L"
      },
      "source": [
        "df_analysis['total_words_k_token'] = df_analysis['keras_tokenized_sents'].apply(lambda x : len(x))"
      ],
      "execution_count": 37,
      "outputs": []
    },
    {
      "cell_type": "code",
      "metadata": {
        "colab": {
          "base_uri": "https://localhost:8080/",
          "height": 204
        },
        "id": "wt5jBrwEu2af",
        "outputId": "f6b6efaf-1de6-412b-d03b-57816aeeff57"
      },
      "source": [
        "df_analysis.head()"
      ],
      "execution_count": 38,
      "outputs": [
        {
          "output_type": "execute_result",
          "data": {
            "text/html": [
              "<div>\n",
              "<style scoped>\n",
              "    .dataframe tbody tr th:only-of-type {\n",
              "        vertical-align: middle;\n",
              "    }\n",
              "\n",
              "    .dataframe tbody tr th {\n",
              "        vertical-align: top;\n",
              "    }\n",
              "\n",
              "    .dataframe thead th {\n",
              "        text-align: right;\n",
              "    }\n",
              "</style>\n",
              "<table border=\"1\" class=\"dataframe\">\n",
              "  <thead>\n",
              "    <tr style=\"text-align: right;\">\n",
              "      <th></th>\n",
              "      <th>text</th>\n",
              "      <th>target</th>\n",
              "      <th>total_words_in_text</th>\n",
              "      <th>tokenized_sents</th>\n",
              "      <th>keras_tokenized_sents</th>\n",
              "      <th>total_words_k_token</th>\n",
              "    </tr>\n",
              "  </thead>\n",
              "  <tbody>\n",
              "    <tr>\n",
              "      <th>0</th>\n",
              "      <td>The present invention is advantageous in terms...</td>\n",
              "      <td>1</td>\n",
              "      <td>24.0</td>\n",
              "      <td>[The, present, invention, is, advantageous, in...</td>\n",
              "      <td>[the, present, invention, is, advantageous, in...</td>\n",
              "      <td>25</td>\n",
              "    </tr>\n",
              "    <tr>\n",
              "      <th>1</th>\n",
              "      <td>Currently, Public Safety Department of the Uni...</td>\n",
              "      <td>-1</td>\n",
              "      <td>158.0</td>\n",
              "      <td>[Currently, ,, Public, Safety, Department, of,...</td>\n",
              "      <td>[currently, public, safety, department, of, th...</td>\n",
              "      <td>161</td>\n",
              "    </tr>\n",
              "    <tr>\n",
              "      <th>2</th>\n",
              "      <td>Among MTC terminals, there has been an increas...</td>\n",
              "      <td>-1</td>\n",
              "      <td>305.0</td>\n",
              "      <td>[Among, MTC, terminals, ,, there, has, been, a...</td>\n",
              "      <td>[among, mtc, terminals, there, has, been, an, ...</td>\n",
              "      <td>313</td>\n",
              "    </tr>\n",
              "    <tr>\n",
              "      <th>3</th>\n",
              "      <td>Still, any conventional techniques have diffic...</td>\n",
              "      <td>-1</td>\n",
              "      <td>450.0</td>\n",
              "      <td>[Still, ,, any, conventional, techniques, have...</td>\n",
              "      <td>[still, any, conventional, techniques, have, d...</td>\n",
              "      <td>454</td>\n",
              "    </tr>\n",
              "    <tr>\n",
              "      <th>4</th>\n",
              "      <td>To achieve these objects and other advantages ...</td>\n",
              "      <td>0</td>\n",
              "      <td>434.0</td>\n",
              "      <td>[To, achieve, these, objects, and, other, adva...</td>\n",
              "      <td>[to, achieve, these, objects, and, other, adva...</td>\n",
              "      <td>439</td>\n",
              "    </tr>\n",
              "  </tbody>\n",
              "</table>\n",
              "</div>"
            ],
            "text/plain": [
              "                                                text  ...  total_words_k_token\n",
              "0  The present invention is advantageous in terms...  ...                   25\n",
              "1  Currently, Public Safety Department of the Uni...  ...                  161\n",
              "2  Among MTC terminals, there has been an increas...  ...                  313\n",
              "3  Still, any conventional techniques have diffic...  ...                  454\n",
              "4  To achieve these objects and other advantages ...  ...                  439\n",
              "\n",
              "[5 rows x 6 columns]"
            ]
          },
          "metadata": {
            "tags": []
          },
          "execution_count": 38
        }
      ]
    },
    {
      "cell_type": "code",
      "metadata": {
        "colab": {
          "base_uri": "https://localhost:8080/"
        },
        "id": "UbGC0o0qk-BK",
        "outputId": "549a94bd-b7f4-4900-c068-cc8d7878260f"
      },
      "source": [
        "# Highest number of words in text \n",
        "print('Highest number of words in text is : ' + str(df_analysis['total_words_k_token'].max()))\n",
        "\n",
        "# Lowest number of words in text \n",
        "print('Lowest number of words in text is : ' + str(df_analysis['total_words_k_token'].min()))\n",
        "\n",
        "# Average number of words in text \n",
        "print('Average number of words in text is : ' + str(df_analysis['total_words_k_token'].mean()))"
      ],
      "execution_count": 40,
      "outputs": [
        {
          "output_type": "stream",
          "text": [
            "Highest number of words in text is : 7317\n",
            "Lowest number of words in text is : 0\n",
            "Average number of words in text is : 297.0090354268485\n"
          ],
          "name": "stdout"
        }
      ]
    },
    {
      "cell_type": "code",
      "metadata": {
        "colab": {
          "base_uri": "https://localhost:8080/",
          "height": 80
        },
        "id": "64CfZk7-ywec",
        "outputId": "52435c9f-da26-4bf5-da4d-8f83194e5b51"
      },
      "source": [
        "# Checking the rows having lowest number of words = 0\n",
        "df_analysis[df_analysis['total_words_k_token']==0]"
      ],
      "execution_count": 41,
      "outputs": [
        {
          "output_type": "execute_result",
          "data": {
            "text/html": [
              "<div>\n",
              "<style scoped>\n",
              "    .dataframe tbody tr th:only-of-type {\n",
              "        vertical-align: middle;\n",
              "    }\n",
              "\n",
              "    .dataframe tbody tr th {\n",
              "        vertical-align: top;\n",
              "    }\n",
              "\n",
              "    .dataframe thead th {\n",
              "        text-align: right;\n",
              "    }\n",
              "</style>\n",
              "<table border=\"1\" class=\"dataframe\">\n",
              "  <thead>\n",
              "    <tr style=\"text-align: right;\">\n",
              "      <th></th>\n",
              "      <th>text</th>\n",
              "      <th>target</th>\n",
              "      <th>total_words_in_text</th>\n",
              "      <th>tokenized_sents</th>\n",
              "      <th>keras_tokenized_sents</th>\n",
              "      <th>total_words_k_token</th>\n",
              "    </tr>\n",
              "  </thead>\n",
              "  <tbody>\n",
              "    <tr>\n",
              "      <th>28899</th>\n",
              "      <td>-</td>\n",
              "      <td>1</td>\n",
              "      <td>1.0</td>\n",
              "      <td>[-]</td>\n",
              "      <td>[]</td>\n",
              "      <td>0</td>\n",
              "    </tr>\n",
              "  </tbody>\n",
              "</table>\n",
              "</div>"
            ],
            "text/plain": [
              "      text  target  ...  keras_tokenized_sents total_words_k_token\n",
              "28899    -       1  ...                     []                   0\n",
              "\n",
              "[1 rows x 6 columns]"
            ]
          },
          "metadata": {
            "tags": []
          },
          "execution_count": 41
        }
      ]
    },
    {
      "cell_type": "markdown",
      "metadata": {
        "id": "WM62zW2Ey_jI"
      },
      "source": [
        "Depending on usage we would like to remove such rows "
      ]
    },
    {
      "cell_type": "code",
      "metadata": {
        "id": "pEqftiNDu4cS"
      },
      "source": [
        "# Saving a generated file on drive = Having size of 1.41GB\n",
        "df_analysis.to_csv( \"/content/drive/MyDrive/dataset_patent/generated_files/df_analysis.csv\", index=False, encoding='utf-8-sig')"
      ],
      "execution_count": 39,
      "outputs": []
    },
    {
      "cell_type": "code",
      "metadata": {
        "id": "vGWSXB8XxybL"
      },
      "source": [
        ""
      ],
      "execution_count": null,
      "outputs": []
    }
  ]
}