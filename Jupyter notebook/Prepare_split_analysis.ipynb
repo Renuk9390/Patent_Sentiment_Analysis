{
  "nbformat": 4,
  "nbformat_minor": 0,
  "metadata": {
    "colab": {
      "name": "Prepare_split_analysis.ipynb",
      "provenance": [],
      "collapsed_sections": []
    },
    "kernelspec": {
      "name": "python3",
      "display_name": "Python 3"
    },
    "language_info": {
      "name": "python"
    }
  },
  "cells": [
    {
      "cell_type": "code",
      "metadata": {
        "colab": {
          "base_uri": "https://localhost:8080/"
        },
        "id": "LzZiGJZ17qW9",
        "outputId": "a820f82e-47a4-427a-ea27-c715c6fdf685"
      },
      "source": [
        "import nltk\n",
        "nltk.download('punkt')\n",
        "nltk.download('averaged_perceptron_tagger')\n",
        "nltk.download('brown')"
      ],
      "execution_count": 1,
      "outputs": [
        {
          "output_type": "stream",
          "text": [
            "[nltk_data] Downloading package punkt to /root/nltk_data...\n",
            "[nltk_data]   Unzipping tokenizers/punkt.zip.\n",
            "[nltk_data] Downloading package averaged_perceptron_tagger to\n",
            "[nltk_data]     /root/nltk_data...\n",
            "[nltk_data]   Unzipping taggers/averaged_perceptron_tagger.zip.\n",
            "[nltk_data] Downloading package brown to /root/nltk_data...\n",
            "[nltk_data]   Unzipping corpora/brown.zip.\n"
          ],
          "name": "stdout"
        },
        {
          "output_type": "execute_result",
          "data": {
            "text/plain": [
              "True"
            ]
          },
          "metadata": {
            "tags": []
          },
          "execution_count": 1
        }
      ]
    },
    {
      "cell_type": "code",
      "metadata": {
        "id": "kjuta6CuoAav"
      },
      "source": [
        "import re\n",
        "import json\n",
        "import pprint\n",
        "import numpy as np\n",
        "import pandas as pd\n",
        "import seaborn as sns\n",
        "from os import listdir\n",
        "from os.path import isfile, join\n",
        "import matplotlib.pyplot as plt\n",
        "import plotly.graph_objects as go\n",
        "\n",
        "from scipy.stats import mannwhitneyu\n",
        "from sklearn.utils import shuffle\n",
        "from textblob import TextBlob\n",
        "from sklearn.linear_model import LogisticRegression\n",
        "from sklearn.model_selection import train_test_split\n",
        "from sklearn.metrics import accuracy_score, classification_report\n",
        "from sklearn.feature_extraction.text import CountVectorizer, TfidfVectorizer\n",
        "from nltk.tokenize import word_tokenize\n",
        "from nltk import pos_tag\n",
        "from nltk import RegexpParser\n",
        "\n",
        "from keras.preprocessing.text import text_to_word_sequence\n",
        "\n",
        "from tensorflow.keras.preprocessing.text import Tokenizer\n",
        "from tensorflow.keras.preprocessing.sequence import pad_sequences\n",
        "\n",
        "from wordcloud import wordcloud"
      ],
      "execution_count": 2,
      "outputs": []
    },
    {
      "cell_type": "markdown",
      "metadata": {
        "id": "OJ4w_YDcrrNo"
      },
      "source": [
        "## Stats for combined data"
      ]
    },
    {
      "cell_type": "code",
      "metadata": {
        "colab": {
          "base_uri": "https://localhost:8080/"
        },
        "id": "RWUAyr87oPis",
        "outputId": "2d95838f-bb6b-40b4-bf1f-98f800c7a5d1"
      },
      "source": [
        "# Fetching all the text-target files from the folder and merging them \n",
        "path_all_text_target = '/content/drive/MyDrive/dataset_patent/text_target'\n",
        "files_all_text_target = [f for f in listdir(path_all_text_target) if isfile(join(path_all_text_target, f))]\n",
        "print(files_all_text_target)"
      ],
      "execution_count": 3,
      "outputs": [
        {
          "output_type": "stream",
          "text": [
            "['pos_text_target.csv', 'neg_text_target.csv', 'neut_text_target.csv']\n"
          ],
          "name": "stdout"
        }
      ]
    },
    {
      "cell_type": "code",
      "metadata": {
        "id": "lmmCgitSo6Vp"
      },
      "source": [
        "combined_all_text_target = pd.concat([pd.read_csv(path_all_text_target+'/'+f) for f in files_all_text_target ])"
      ],
      "execution_count": 6,
      "outputs": []
    },
    {
      "cell_type": "code",
      "metadata": {
        "colab": {
          "base_uri": "https://localhost:8080/",
          "height": 204
        },
        "id": "SD__K-ODpVRW",
        "outputId": "d0fd6c4f-881b-4899-c72e-42ff51427717"
      },
      "source": [
        "combined_all_text_target.head()"
      ],
      "execution_count": 7,
      "outputs": [
        {
          "output_type": "execute_result",
          "data": {
            "text/html": [
              "<div>\n",
              "<style scoped>\n",
              "    .dataframe tbody tr th:only-of-type {\n",
              "        vertical-align: middle;\n",
              "    }\n",
              "\n",
              "    .dataframe tbody tr th {\n",
              "        vertical-align: top;\n",
              "    }\n",
              "\n",
              "    .dataframe thead th {\n",
              "        text-align: right;\n",
              "    }\n",
              "</style>\n",
              "<table border=\"1\" class=\"dataframe\">\n",
              "  <thead>\n",
              "    <tr style=\"text-align: right;\">\n",
              "      <th></th>\n",
              "      <th>text</th>\n",
              "      <th>target</th>\n",
              "    </tr>\n",
              "  </thead>\n",
              "  <tbody>\n",
              "    <tr>\n",
              "      <th>0</th>\n",
              "      <td>The present invention can enhance the shaping ...</td>\n",
              "      <td>1</td>\n",
              "    </tr>\n",
              "    <tr>\n",
              "      <th>1</th>\n",
              "      <td>According to the present invention, a slide fa...</td>\n",
              "      <td>1</td>\n",
              "    </tr>\n",
              "    <tr>\n",
              "      <th>2</th>\n",
              "      <td>According to the present invention, it is poss...</td>\n",
              "      <td>1</td>\n",
              "    </tr>\n",
              "    <tr>\n",
              "      <th>3</th>\n",
              "      <td>In the diagnostic medical image system accordi...</td>\n",
              "      <td>1</td>\n",
              "    </tr>\n",
              "    <tr>\n",
              "      <th>4</th>\n",
              "      <td>A dental implant fixture according to the pres...</td>\n",
              "      <td>1</td>\n",
              "    </tr>\n",
              "  </tbody>\n",
              "</table>\n",
              "</div>"
            ],
            "text/plain": [
              "                                                text  target\n",
              "0  The present invention can enhance the shaping ...       1\n",
              "1  According to the present invention, a slide fa...       1\n",
              "2  According to the present invention, it is poss...       1\n",
              "3  In the diagnostic medical image system accordi...       1\n",
              "4  A dental implant fixture according to the pres...       1"
            ]
          },
          "metadata": {
            "tags": []
          },
          "execution_count": 7
        }
      ]
    },
    {
      "cell_type": "code",
      "metadata": {
        "id": "okrvW_sRiO1e"
      },
      "source": [
        "# Scikit-learn shuffle \n",
        "combined_all_text_target = shuffle(combined_all_text_target, random_state=0)"
      ],
      "execution_count": 8,
      "outputs": []
    },
    {
      "cell_type": "code",
      "metadata": {
        "colab": {
          "base_uri": "https://localhost:8080/",
          "height": 204
        },
        "id": "Kojh0R62iWcv",
        "outputId": "69a000e7-9342-4ca8-9872-e2845978bb36"
      },
      "source": [
        "combined_all_text_target.head()"
      ],
      "execution_count": 9,
      "outputs": [
        {
          "output_type": "execute_result",
          "data": {
            "text/html": [
              "<div>\n",
              "<style scoped>\n",
              "    .dataframe tbody tr th:only-of-type {\n",
              "        vertical-align: middle;\n",
              "    }\n",
              "\n",
              "    .dataframe tbody tr th {\n",
              "        vertical-align: top;\n",
              "    }\n",
              "\n",
              "    .dataframe thead th {\n",
              "        text-align: right;\n",
              "    }\n",
              "</style>\n",
              "<table border=\"1\" class=\"dataframe\">\n",
              "  <thead>\n",
              "    <tr style=\"text-align: right;\">\n",
              "      <th></th>\n",
              "      <th>text</th>\n",
              "      <th>target</th>\n",
              "    </tr>\n",
              "  </thead>\n",
              "  <tbody>\n",
              "    <tr>\n",
              "      <th>46700</th>\n",
              "      <td>According to the slurry for forming a mold, th...</td>\n",
              "      <td>1</td>\n",
              "    </tr>\n",
              "    <tr>\n",
              "      <th>77528</th>\n",
              "      <td>However, in the filter unit for biological com...</td>\n",
              "      <td>-1</td>\n",
              "    </tr>\n",
              "    <tr>\n",
              "      <th>2820</th>\n",
              "      <td>According to the tire pressure decrease detect...</td>\n",
              "      <td>1</td>\n",
              "    </tr>\n",
              "    <tr>\n",
              "      <th>30178</th>\n",
              "      <td>In order to solve the above conventional probl...</td>\n",
              "      <td>0</td>\n",
              "    </tr>\n",
              "    <tr>\n",
              "      <th>53921</th>\n",
              "      <td>A network node according to an aspect of the p...</td>\n",
              "      <td>0</td>\n",
              "    </tr>\n",
              "  </tbody>\n",
              "</table>\n",
              "</div>"
            ],
            "text/plain": [
              "                                                    text  target\n",
              "46700  According to the slurry for forming a mold, th...       1\n",
              "77528  However, in the filter unit for biological com...      -1\n",
              "2820   According to the tire pressure decrease detect...       1\n",
              "30178  In order to solve the above conventional probl...       0\n",
              "53921  A network node according to an aspect of the p...       0"
            ]
          },
          "metadata": {
            "tags": []
          },
          "execution_count": 9
        }
      ]
    },
    {
      "cell_type": "code",
      "metadata": {
        "id": "DVqxwUXyibeU"
      },
      "source": [
        "# Reseting index such that it starts from 0,1,2, ... so on \n",
        "combined_all_text_target.reset_index(inplace=True, drop=True)"
      ],
      "execution_count": 10,
      "outputs": []
    },
    {
      "cell_type": "code",
      "metadata": {
        "colab": {
          "base_uri": "https://localhost:8080/",
          "height": 359
        },
        "id": "dE63otSIiozZ",
        "outputId": "b277c3bc-a36f-44ac-ad51-ca6fc18df1b7"
      },
      "source": [
        "combined_all_text_target.head(10)"
      ],
      "execution_count": 11,
      "outputs": [
        {
          "output_type": "execute_result",
          "data": {
            "text/html": [
              "<div>\n",
              "<style scoped>\n",
              "    .dataframe tbody tr th:only-of-type {\n",
              "        vertical-align: middle;\n",
              "    }\n",
              "\n",
              "    .dataframe tbody tr th {\n",
              "        vertical-align: top;\n",
              "    }\n",
              "\n",
              "    .dataframe thead th {\n",
              "        text-align: right;\n",
              "    }\n",
              "</style>\n",
              "<table border=\"1\" class=\"dataframe\">\n",
              "  <thead>\n",
              "    <tr style=\"text-align: right;\">\n",
              "      <th></th>\n",
              "      <th>text</th>\n",
              "      <th>target</th>\n",
              "    </tr>\n",
              "  </thead>\n",
              "  <tbody>\n",
              "    <tr>\n",
              "      <th>0</th>\n",
              "      <td>According to the slurry for forming a mold, th...</td>\n",
              "      <td>1</td>\n",
              "    </tr>\n",
              "    <tr>\n",
              "      <th>1</th>\n",
              "      <td>However, in the filter unit for biological com...</td>\n",
              "      <td>-1</td>\n",
              "    </tr>\n",
              "    <tr>\n",
              "      <th>2</th>\n",
              "      <td>According to the tire pressure decrease detect...</td>\n",
              "      <td>1</td>\n",
              "    </tr>\n",
              "    <tr>\n",
              "      <th>3</th>\n",
              "      <td>In order to solve the above conventional probl...</td>\n",
              "      <td>0</td>\n",
              "    </tr>\n",
              "    <tr>\n",
              "      <th>4</th>\n",
              "      <td>A network node according to an aspect of the p...</td>\n",
              "      <td>0</td>\n",
              "    </tr>\n",
              "    <tr>\n",
              "      <th>5</th>\n",
              "      <td>In this regard, according to the inventors of ...</td>\n",
              "      <td>-1</td>\n",
              "    </tr>\n",
              "    <tr>\n",
              "      <th>6</th>\n",
              "      <td>However, such conventional art has the followi...</td>\n",
              "      <td>-1</td>\n",
              "    </tr>\n",
              "    <tr>\n",
              "      <th>7</th>\n",
              "      <td>An installation space for a diesel engine vari...</td>\n",
              "      <td>-1</td>\n",
              "    </tr>\n",
              "    <tr>\n",
              "      <th>8</th>\n",
              "      <td>The liquid-cooled jacket 300 shown in FIG. 50 ...</td>\n",
              "      <td>-1</td>\n",
              "    </tr>\n",
              "    <tr>\n",
              "      <th>9</th>\n",
              "      <td>According to a wireless communication system, ...</td>\n",
              "      <td>1</td>\n",
              "    </tr>\n",
              "  </tbody>\n",
              "</table>\n",
              "</div>"
            ],
            "text/plain": [
              "                                                text  target\n",
              "0  According to the slurry for forming a mold, th...       1\n",
              "1  However, in the filter unit for biological com...      -1\n",
              "2  According to the tire pressure decrease detect...       1\n",
              "3  In order to solve the above conventional probl...       0\n",
              "4  A network node according to an aspect of the p...       0\n",
              "5  In this regard, according to the inventors of ...      -1\n",
              "6  However, such conventional art has the followi...      -1\n",
              "7  An installation space for a diesel engine vari...      -1\n",
              "8  The liquid-cooled jacket 300 shown in FIG. 50 ...      -1\n",
              "9  According to a wireless communication system, ...       1"
            ]
          },
          "metadata": {
            "tags": []
          },
          "execution_count": 11
        }
      ]
    },
    {
      "cell_type": "code",
      "metadata": {
        "id": "jNd35UM5kkRS"
      },
      "source": [
        "# A copied file to play with the text-target dataset\n",
        "df_analysis = combined_all_text_target.copy()"
      ],
      "execution_count": 12,
      "outputs": []
    },
    {
      "cell_type": "code",
      "metadata": {
        "colab": {
          "base_uri": "https://localhost:8080/"
        },
        "id": "o5mGofFkpxno",
        "outputId": "b9fbd7df-2505-445f-df10-099d24e007a3"
      },
      "source": [
        "# Calculating total numbers of the sample \n",
        "print(\"Size of the data: \", combined_all_text_target.shape[0])"
      ],
      "execution_count": 13,
      "outputs": [
        {
          "output_type": "stream",
          "text": [
            "Size of the data:  205635\n"
          ],
          "name": "stdout"
        }
      ]
    },
    {
      "cell_type": "code",
      "metadata": {
        "colab": {
          "base_uri": "https://localhost:8080/"
        },
        "id": "XSNagfnIpaKx",
        "outputId": "377a2e82-cf40-4dc9-80c6-f1668ae14307"
      },
      "source": [
        "# Checking counts of respective labels \n",
        "combined_all_text_target['target'].value_counts()"
      ],
      "execution_count": 14,
      "outputs": [
        {
          "output_type": "execute_result",
          "data": {
            "text/plain": [
              "-1    89105\n",
              " 0    63055\n",
              " 1    53475\n",
              "Name: target, dtype: int64"
            ]
          },
          "metadata": {
            "tags": []
          },
          "execution_count": 14
        }
      ]
    },
    {
      "cell_type": "code",
      "metadata": {
        "id": "Nvp9MQ7b8vRY"
      },
      "source": [
        "df_analysis['text'] = df_analysis['text'].apply(str)"
      ],
      "execution_count": 15,
      "outputs": []
    },
    {
      "cell_type": "code",
      "metadata": {
        "id": "Xkrb3-8l8CPl"
      },
      "source": [
        "# Tokenization using NLTK  - Taking 5 minutes on colab \n",
        "\n",
        "\n",
        "# df_analysis['tokenized_sents'] = df_analysis.apply(lambda row: nltk.word_tokenize(row['text']), axis=1)"
      ],
      "execution_count": 16,
      "outputs": []
    },
    {
      "cell_type": "code",
      "metadata": {
        "id": "2kwQKyjTmhPA"
      },
      "source": [
        "# Tokenization using keras - Takind 1 minutes on colab\n",
        "df_analysis['keras_tokenized_sents'] = df_analysis.apply(lambda row: text_to_word_sequence(row['text']), axis=1)"
      ],
      "execution_count": 17,
      "outputs": []
    },
    {
      "cell_type": "code",
      "metadata": {
        "colab": {
          "base_uri": "https://localhost:8080/",
          "height": 204
        },
        "id": "7lpPg7fk7jAz",
        "outputId": "ac092568-05e5-4672-a7f7-d854a508fd83"
      },
      "source": [
        "df_analysis.head()"
      ],
      "execution_count": 18,
      "outputs": [
        {
          "output_type": "execute_result",
          "data": {
            "text/html": [
              "<div>\n",
              "<style scoped>\n",
              "    .dataframe tbody tr th:only-of-type {\n",
              "        vertical-align: middle;\n",
              "    }\n",
              "\n",
              "    .dataframe tbody tr th {\n",
              "        vertical-align: top;\n",
              "    }\n",
              "\n",
              "    .dataframe thead th {\n",
              "        text-align: right;\n",
              "    }\n",
              "</style>\n",
              "<table border=\"1\" class=\"dataframe\">\n",
              "  <thead>\n",
              "    <tr style=\"text-align: right;\">\n",
              "      <th></th>\n",
              "      <th>text</th>\n",
              "      <th>target</th>\n",
              "      <th>keras_tokenized_sents</th>\n",
              "    </tr>\n",
              "  </thead>\n",
              "  <tbody>\n",
              "    <tr>\n",
              "      <th>0</th>\n",
              "      <td>According to the slurry for forming a mold, th...</td>\n",
              "      <td>1</td>\n",
              "      <td>[according, to, the, slurry, for, forming, a, ...</td>\n",
              "    </tr>\n",
              "    <tr>\n",
              "      <th>1</th>\n",
              "      <td>However, in the filter unit for biological com...</td>\n",
              "      <td>-1</td>\n",
              "      <td>[however, in, the, filter, unit, for, biologic...</td>\n",
              "    </tr>\n",
              "    <tr>\n",
              "      <th>2</th>\n",
              "      <td>According to the tire pressure decrease detect...</td>\n",
              "      <td>1</td>\n",
              "      <td>[according, to, the, tire, pressure, decrease,...</td>\n",
              "    </tr>\n",
              "    <tr>\n",
              "      <th>3</th>\n",
              "      <td>In order to solve the above conventional probl...</td>\n",
              "      <td>0</td>\n",
              "      <td>[in, order, to, solve, the, above, conventiona...</td>\n",
              "    </tr>\n",
              "    <tr>\n",
              "      <th>4</th>\n",
              "      <td>A network node according to an aspect of the p...</td>\n",
              "      <td>0</td>\n",
              "      <td>[a, network, node, according, to, an, aspect, ...</td>\n",
              "    </tr>\n",
              "  </tbody>\n",
              "</table>\n",
              "</div>"
            ],
            "text/plain": [
              "                                                text  ...                              keras_tokenized_sents\n",
              "0  According to the slurry for forming a mold, th...  ...  [according, to, the, slurry, for, forming, a, ...\n",
              "1  However, in the filter unit for biological com...  ...  [however, in, the, filter, unit, for, biologic...\n",
              "2  According to the tire pressure decrease detect...  ...  [according, to, the, tire, pressure, decrease,...\n",
              "3  In order to solve the above conventional probl...  ...  [in, order, to, solve, the, above, conventiona...\n",
              "4  A network node according to an aspect of the p...  ...  [a, network, node, according, to, an, aspect, ...\n",
              "\n",
              "[5 rows x 3 columns]"
            ]
          },
          "metadata": {
            "tags": []
          },
          "execution_count": 18
        }
      ]
    },
    {
      "cell_type": "markdown",
      "metadata": {
        "id": "8KSd242yt1fo"
      },
      "source": [
        "Let's see how both tokenization works"
      ]
    },
    {
      "cell_type": "code",
      "metadata": {
        "id": "XjI0t-sZtJM5"
      },
      "source": [
        "# nltk tokenization \n",
        "\n",
        "# print(df_analysis['tokenized_sents'][0])"
      ],
      "execution_count": 19,
      "outputs": []
    },
    {
      "cell_type": "code",
      "metadata": {
        "colab": {
          "base_uri": "https://localhost:8080/"
        },
        "id": "EQW9121JtQ6t",
        "outputId": "af33c54f-d865-4eb1-9653-b00372d14e65"
      },
      "source": [
        "# Keras tokenization \n",
        "print(df_analysis['keras_tokenized_sents'][0])"
      ],
      "execution_count": 20,
      "outputs": [
        {
          "output_type": "stream",
          "text": [
            "['according', 'to', 'the', 'slurry', 'for', 'forming', 'a', 'mold', 'the', 'mold', 'and', 'the', 'method', 'for', 'producing', 'a', 'mold', 'a', 'casting', 'can', 'be', 'stably', 'molded', 'and', 'the', 'mold', 'can', 'easily', 'collapse', 'in', 'on', 'itself']\n"
          ],
          "name": "stdout"
        }
      ]
    },
    {
      "cell_type": "markdown",
      "metadata": {
        "id": "chFfpn3CuIvG"
      },
      "source": [
        "It seems like the tokenization perform better considering following factors \n",
        "\n",
        "\n",
        "1.   Execution time is better (As seen above in code)\n",
        "2.   Converting all tokens in lower case\n",
        "3.   It is not considering punctuation as new token  \n",
        "\n"
      ]
    },
    {
      "cell_type": "code",
      "metadata": {
        "id": "pM85pZM1uF5L"
      },
      "source": [
        "df_analysis['total_words_k_token'] = df_analysis['keras_tokenized_sents'].apply(lambda x : len(x))"
      ],
      "execution_count": 21,
      "outputs": []
    },
    {
      "cell_type": "code",
      "metadata": {
        "colab": {
          "base_uri": "https://localhost:8080/",
          "height": 204
        },
        "id": "wt5jBrwEu2af",
        "outputId": "131af163-8154-4dbb-91f5-21a661b0bf94"
      },
      "source": [
        "df_analysis.head()"
      ],
      "execution_count": 22,
      "outputs": [
        {
          "output_type": "execute_result",
          "data": {
            "text/html": [
              "<div>\n",
              "<style scoped>\n",
              "    .dataframe tbody tr th:only-of-type {\n",
              "        vertical-align: middle;\n",
              "    }\n",
              "\n",
              "    .dataframe tbody tr th {\n",
              "        vertical-align: top;\n",
              "    }\n",
              "\n",
              "    .dataframe thead th {\n",
              "        text-align: right;\n",
              "    }\n",
              "</style>\n",
              "<table border=\"1\" class=\"dataframe\">\n",
              "  <thead>\n",
              "    <tr style=\"text-align: right;\">\n",
              "      <th></th>\n",
              "      <th>text</th>\n",
              "      <th>target</th>\n",
              "      <th>keras_tokenized_sents</th>\n",
              "      <th>total_words_k_token</th>\n",
              "    </tr>\n",
              "  </thead>\n",
              "  <tbody>\n",
              "    <tr>\n",
              "      <th>0</th>\n",
              "      <td>According to the slurry for forming a mold, th...</td>\n",
              "      <td>1</td>\n",
              "      <td>[according, to, the, slurry, for, forming, a, ...</td>\n",
              "      <td>32</td>\n",
              "    </tr>\n",
              "    <tr>\n",
              "      <th>1</th>\n",
              "      <td>However, in the filter unit for biological com...</td>\n",
              "      <td>-1</td>\n",
              "      <td>[however, in, the, filter, unit, for, biologic...</td>\n",
              "      <td>192</td>\n",
              "    </tr>\n",
              "    <tr>\n",
              "      <th>2</th>\n",
              "      <td>According to the tire pressure decrease detect...</td>\n",
              "      <td>1</td>\n",
              "      <td>[according, to, the, tire, pressure, decrease,...</td>\n",
              "      <td>38</td>\n",
              "    </tr>\n",
              "    <tr>\n",
              "      <th>3</th>\n",
              "      <td>In order to solve the above conventional probl...</td>\n",
              "      <td>0</td>\n",
              "      <td>[in, order, to, solve, the, above, conventiona...</td>\n",
              "      <td>1535</td>\n",
              "    </tr>\n",
              "    <tr>\n",
              "      <th>4</th>\n",
              "      <td>A network node according to an aspect of the p...</td>\n",
              "      <td>0</td>\n",
              "      <td>[a, network, node, according, to, an, aspect, ...</td>\n",
              "      <td>319</td>\n",
              "    </tr>\n",
              "  </tbody>\n",
              "</table>\n",
              "</div>"
            ],
            "text/plain": [
              "                                                text  ...  total_words_k_token\n",
              "0  According to the slurry for forming a mold, th...  ...                   32\n",
              "1  However, in the filter unit for biological com...  ...                  192\n",
              "2  According to the tire pressure decrease detect...  ...                   38\n",
              "3  In order to solve the above conventional probl...  ...                 1535\n",
              "4  A network node according to an aspect of the p...  ...                  319\n",
              "\n",
              "[5 rows x 4 columns]"
            ]
          },
          "metadata": {
            "tags": []
          },
          "execution_count": 22
        }
      ]
    },
    {
      "cell_type": "code",
      "metadata": {
        "colab": {
          "base_uri": "https://localhost:8080/"
        },
        "id": "Zm1j6RgClTc9",
        "outputId": "732734dd-a060-40ab-9479-ff546b7e9455"
      },
      "source": [
        "# Total number of words in text - overall\n",
        "print('Total number of words ' + str(df_analysis['total_words_k_token'].sum()))"
      ],
      "execution_count": 23,
      "outputs": [
        {
          "output_type": "stream",
          "text": [
            "Total number of words 61075453\n"
          ],
          "name": "stdout"
        }
      ]
    },
    {
      "cell_type": "code",
      "metadata": {
        "colab": {
          "base_uri": "https://localhost:8080/"
        },
        "id": "UbGC0o0qk-BK",
        "outputId": "1774f6c2-0a06-4a10-afec-9a79f2cb95e4"
      },
      "source": [
        "# Highest number of words in text \n",
        "print('Highest number of words in text is : ' + str(df_analysis['total_words_k_token'].max()))\n",
        "\n",
        "# Lowest number of words in text \n",
        "print('Lowest number of words in text is : ' + str(df_analysis['total_words_k_token'].min()))\n",
        "\n",
        "# Average number of words in text \n",
        "print('Average number of words in text is : ' + str(df_analysis['total_words_k_token'].mean()))"
      ],
      "execution_count": 24,
      "outputs": [
        {
          "output_type": "stream",
          "text": [
            "Highest number of words in text is : 7317\n",
            "Lowest number of words in text is : 0\n",
            "Average number of words in text is : 297.0090354268485\n"
          ],
          "name": "stdout"
        }
      ]
    },
    {
      "cell_type": "code",
      "metadata": {
        "colab": {
          "base_uri": "https://localhost:8080/",
          "height": 80
        },
        "id": "64CfZk7-ywec",
        "outputId": "789157ca-ce81-41be-f6e1-5921f1d5e7ab"
      },
      "source": [
        "# Checking the rows having lowest number of words = 0\n",
        "df_analysis[df_analysis['total_words_k_token']==0]"
      ],
      "execution_count": 25,
      "outputs": [
        {
          "output_type": "execute_result",
          "data": {
            "text/html": [
              "<div>\n",
              "<style scoped>\n",
              "    .dataframe tbody tr th:only-of-type {\n",
              "        vertical-align: middle;\n",
              "    }\n",
              "\n",
              "    .dataframe tbody tr th {\n",
              "        vertical-align: top;\n",
              "    }\n",
              "\n",
              "    .dataframe thead th {\n",
              "        text-align: right;\n",
              "    }\n",
              "</style>\n",
              "<table border=\"1\" class=\"dataframe\">\n",
              "  <thead>\n",
              "    <tr style=\"text-align: right;\">\n",
              "      <th></th>\n",
              "      <th>text</th>\n",
              "      <th>target</th>\n",
              "      <th>keras_tokenized_sents</th>\n",
              "      <th>total_words_k_token</th>\n",
              "    </tr>\n",
              "  </thead>\n",
              "  <tbody>\n",
              "    <tr>\n",
              "      <th>131642</th>\n",
              "      <td>-</td>\n",
              "      <td>1</td>\n",
              "      <td>[]</td>\n",
              "      <td>0</td>\n",
              "    </tr>\n",
              "  </tbody>\n",
              "</table>\n",
              "</div>"
            ],
            "text/plain": [
              "       text  target keras_tokenized_sents  total_words_k_token\n",
              "131642    -       1                    []                    0"
            ]
          },
          "metadata": {
            "tags": []
          },
          "execution_count": 25
        }
      ]
    },
    {
      "cell_type": "markdown",
      "metadata": {
        "id": "WM62zW2Ey_jI"
      },
      "source": [
        "Depending on usage we would like to remove such rows "
      ]
    },
    {
      "cell_type": "code",
      "metadata": {
        "id": "pEqftiNDu4cS"
      },
      "source": [
        "# Saving a generated file on drive = Having size of 1.41GB\n",
        "# df_analysis.to_csv( \"/content/drive/MyDrive/dataset_patent/generated_files/df_analysis.csv\", index=False, encoding='utf-8-sig')"
      ],
      "execution_count": 27,
      "outputs": []
    },
    {
      "cell_type": "code",
      "metadata": {
        "id": "cbr2IErS6CK1"
      },
      "source": [
        "# df_analysis = pd.read_csv('/content/drive/MyDrive/dataset_patent/generated_files/df_analysis.csv')"
      ],
      "execution_count": 28,
      "outputs": []
    },
    {
      "cell_type": "code",
      "metadata": {
        "colab": {
          "base_uri": "https://localhost:8080/",
          "height": 204
        },
        "id": "ikn6hwHb6Smq",
        "outputId": "1feb8454-8a18-423e-fcac-4fb9a530091b"
      },
      "source": [
        "df_analysis.head()"
      ],
      "execution_count": 29,
      "outputs": [
        {
          "output_type": "execute_result",
          "data": {
            "text/html": [
              "<div>\n",
              "<style scoped>\n",
              "    .dataframe tbody tr th:only-of-type {\n",
              "        vertical-align: middle;\n",
              "    }\n",
              "\n",
              "    .dataframe tbody tr th {\n",
              "        vertical-align: top;\n",
              "    }\n",
              "\n",
              "    .dataframe thead th {\n",
              "        text-align: right;\n",
              "    }\n",
              "</style>\n",
              "<table border=\"1\" class=\"dataframe\">\n",
              "  <thead>\n",
              "    <tr style=\"text-align: right;\">\n",
              "      <th></th>\n",
              "      <th>text</th>\n",
              "      <th>target</th>\n",
              "      <th>keras_tokenized_sents</th>\n",
              "      <th>total_words_k_token</th>\n",
              "    </tr>\n",
              "  </thead>\n",
              "  <tbody>\n",
              "    <tr>\n",
              "      <th>0</th>\n",
              "      <td>According to the slurry for forming a mold, th...</td>\n",
              "      <td>1</td>\n",
              "      <td>[according, to, the, slurry, for, forming, a, ...</td>\n",
              "      <td>32</td>\n",
              "    </tr>\n",
              "    <tr>\n",
              "      <th>1</th>\n",
              "      <td>However, in the filter unit for biological com...</td>\n",
              "      <td>-1</td>\n",
              "      <td>[however, in, the, filter, unit, for, biologic...</td>\n",
              "      <td>192</td>\n",
              "    </tr>\n",
              "    <tr>\n",
              "      <th>2</th>\n",
              "      <td>According to the tire pressure decrease detect...</td>\n",
              "      <td>1</td>\n",
              "      <td>[according, to, the, tire, pressure, decrease,...</td>\n",
              "      <td>38</td>\n",
              "    </tr>\n",
              "    <tr>\n",
              "      <th>3</th>\n",
              "      <td>In order to solve the above conventional probl...</td>\n",
              "      <td>0</td>\n",
              "      <td>[in, order, to, solve, the, above, conventiona...</td>\n",
              "      <td>1535</td>\n",
              "    </tr>\n",
              "    <tr>\n",
              "      <th>4</th>\n",
              "      <td>A network node according to an aspect of the p...</td>\n",
              "      <td>0</td>\n",
              "      <td>[a, network, node, according, to, an, aspect, ...</td>\n",
              "      <td>319</td>\n",
              "    </tr>\n",
              "  </tbody>\n",
              "</table>\n",
              "</div>"
            ],
            "text/plain": [
              "                                                text  ...  total_words_k_token\n",
              "0  According to the slurry for forming a mold, th...  ...                   32\n",
              "1  However, in the filter unit for biological com...  ...                  192\n",
              "2  According to the tire pressure decrease detect...  ...                   38\n",
              "3  In order to solve the above conventional probl...  ...                 1535\n",
              "4  A network node according to an aspect of the p...  ...                  319\n",
              "\n",
              "[5 rows x 4 columns]"
            ]
          },
          "metadata": {
            "tags": []
          },
          "execution_count": 29
        }
      ]
    },
    {
      "cell_type": "code",
      "metadata": {
        "colab": {
          "base_uri": "https://localhost:8080/",
          "height": 487
        },
        "id": "snTcr22k-TeK",
        "outputId": "c7fd021e-de94-4025-cfa8-13fa2376727e"
      },
      "source": [
        "fig, ax = plt.subplots(figsize=(15, 7.5))\n",
        "sns.histplot(df_analysis.total_words_k_token, kde=True, ax=ax, color='#BCD70E')\n",
        "plt.title('KDE plot for total words token')\n",
        "plt.show()"
      ],
      "execution_count": 30,
      "outputs": [
        {
          "output_type": "display_data",
          "data": {
            "image/png": "[encoded data removed]",
            "text/plain": [
              "<Figure size 1080x540 with 1 Axes>"
            ]
          },
          "metadata": {
            "tags": [],
            "needs_background": "light"
          }
        }
      ]
    },
    {
      "cell_type": "code",
      "metadata": {
        "colab": {
          "base_uri": "https://localhost:8080/",
          "height": 575
        },
        "id": "w22x9jUm-t0F",
        "outputId": "81f35cd6-bacf-4923-c144-c8d9a242bc9d"
      },
      "source": [
        "fig, ax = plt.subplots(figsize=(15, 7.5))\n",
        "sns.boxplot(df_analysis.total_words_k_token, ax=ax, color='#ff0000')\n",
        "plt.title('Barplot for total words token')\n",
        "plt.show()"
      ],
      "execution_count": 31,
      "outputs": [
        {
          "output_type": "stream",
          "text": [
            "/usr/local/lib/python3.7/dist-packages/seaborn/_decorators.py:43: FutureWarning:\n",
            "\n",
            "Pass the following variable as a keyword arg: x. From version 0.12, the only valid positional argument will be `data`, and passing other arguments without an explicit keyword will result in an error or misinterpretation.\n",
            "\n"
          ],
          "name": "stderr"
        },
        {
          "output_type": "display_data",
          "data": {
            "image/png": "[encoded data removed]",
            "text/plain": [
              "<Figure size 1080x540 with 1 Axes>"
            ]
          },
          "metadata": {
            "tags": [],
            "needs_background": "light"
          }
        }
      ]
    },
    {
      "cell_type": "code",
      "metadata": {
        "id": "z3KdPOV5BVul"
      },
      "source": [
        "text = '''\n",
        "The titular threat of The Blob has always struck me as the ultimate movie\n",
        "monster: an insatiably hungry, amoeba-like mass able to penetrate\n",
        "virtually any safeguard, capable of--as a doomed doctor chillingly\n",
        "describes it--\"assimilating flesh on contact.\n",
        "Snide comparisons to gelatin be damned, it's a concept with the most\n",
        "devastating of potential consequences, not unlike the grey goo scenario\n",
        "proposed by technological theorists fearful of\n",
        "artificial intelligence run rampant.\n",
        "'''"
      ],
      "execution_count": 32,
      "outputs": []
    },
    {
      "cell_type": "code",
      "metadata": {
        "colab": {
          "base_uri": "https://localhost:8080/"
        },
        "id": "QblxQ6ICBX0E",
        "outputId": "a1d87000-2118-4ea5-ce51-ff8d88d5d094"
      },
      "source": [
        "blob = TextBlob(text)\n",
        "b_tags = blob.tags           # [('The', 'DT'), ('titular', 'JJ'),\n",
        "                    #  ('threat', 'NN'), ('of', 'IN'), ...]\n",
        "\n",
        "b_np = blob.noun_phrases   # WordList(['titular threat', 'blob',\n",
        "                    #            'ultimate movie monster',\n",
        "                    #            'amoeba-like mass', ...])\n",
        "\n",
        "for sentence in blob.sentences:\n",
        "    print(sentence.sentiment.polarity)\n",
        "\n",
        "print(b_tags)\n",
        "print(b_np)    "
      ],
      "execution_count": 33,
      "outputs": [
        {
          "output_type": "stream",
          "text": [
            "0.06000000000000001\n",
            "-0.34166666666666673\n",
            "[('The', 'DT'), ('titular', 'JJ'), ('threat', 'NN'), ('of', 'IN'), ('The', 'DT'), ('Blob', 'NNP'), ('has', 'VBZ'), ('always', 'RB'), ('struck', 'VBN'), ('me', 'PRP'), ('as', 'IN'), ('the', 'DT'), ('ultimate', 'JJ'), ('movie', 'NN'), ('monster', 'NN'), ('an', 'DT'), ('insatiably', 'RB'), ('hungry', 'JJ'), ('amoeba-like', 'JJ'), ('mass', 'NN'), ('able', 'JJ'), ('to', 'TO'), ('penetrate', 'VB'), ('virtually', 'RB'), ('any', 'DT'), ('safeguard', 'NN'), ('capable', 'JJ'), ('of', 'IN'), ('as', 'IN'), ('a', 'DT'), ('doomed', 'JJ'), ('doctor', 'NN'), ('chillingly', 'RB'), ('describes', 'VBZ'), ('it', 'PRP'), ('assimilating', 'VBG'), ('flesh', 'NN'), ('on', 'IN'), ('contact', 'NN'), ('Snide', 'JJ'), ('comparisons', 'NNS'), ('to', 'TO'), ('gelatin', 'VB'), ('be', 'VB'), ('damned', 'VBN'), ('it', 'PRP'), (\"'s\", 'VBZ'), ('a', 'DT'), ('concept', 'NN'), ('with', 'IN'), ('the', 'DT'), ('most', 'RBS'), ('devastating', 'JJ'), ('of', 'IN'), ('potential', 'JJ'), ('consequences', 'NNS'), ('not', 'RB'), ('unlike', 'IN'), ('the', 'DT'), ('grey', 'NN'), ('goo', 'NN'), ('scenario', 'NN'), ('proposed', 'VBN'), ('by', 'IN'), ('technological', 'JJ'), ('theorists', 'NNS'), ('fearful', 'NN'), ('of', 'IN'), ('artificial', 'JJ'), ('intelligence', 'NN'), ('run', 'NN'), ('rampant', 'NN')]\n",
            "['titular threat', 'blob', 'ultimate movie monster', 'amoeba-like mass', 'snide', 'potential consequences', 'grey goo scenario', 'technological theorists fearful', 'artificial intelligence run rampant']\n"
          ],
          "name": "stdout"
        }
      ]
    },
    {
      "cell_type": "code",
      "metadata": {
        "colab": {
          "base_uri": "https://localhost:8080/"
        },
        "id": "wCHfqCM0BlXO",
        "outputId": "4e0d4d5d-d367-4991-efcd-fb6581cd9999"
      },
      "source": [
        "text_p = df_analysis['text'][2]\n",
        "print(text_p)"
      ],
      "execution_count": 34,
      "outputs": [
        {
          "output_type": "stream",
          "text": [
            "According to the tire pressure decrease detection device, the method, and the program of the present invention, the influence of the periodic noise can be eliminated and the estimate precision of the tire resonance frequency can be improved.\n"
          ],
          "name": "stdout"
        }
      ]
    },
    {
      "cell_type": "markdown",
      "metadata": {
        "id": "Y7er-Lm1HWHI"
      },
      "source": [
        "In a system disclosed in Japanese Patent Laying-Open No. 2010-035277 (PTL 1), determination of a charging mode and a power supply mode is performed based on a pilot signal transmitted from a power cable.', 'However, to improve accuracy in determination, it is preferable that two or more determination systems are provided. On this point, in a system for determining the power charging mode and the power supply mode based only on a pilot signal, there was a room for improvement in enhancing the accuracy in determination.\n"
      ]
    },
    {
      "cell_type": "code",
      "metadata": {
        "id": "Jn4LbucYCDdc"
      },
      "source": [
        "# Applying text blob extracting information \n",
        "text_p_blob = TextBlob(text_p)\n"
      ],
      "execution_count": 35,
      "outputs": []
    },
    {
      "cell_type": "code",
      "metadata": {
        "colab": {
          "base_uri": "https://localhost:8080/"
        },
        "id": "QPhBP_ndC8YX",
        "outputId": "3fca2f92-059d-45e6-c2fb-c6ba545a2e4a"
      },
      "source": [
        "# Extracting tags from the text \n",
        "text_p_tags = text_p_blob.tags\n",
        "print(text_p_tags)"
      ],
      "execution_count": 36,
      "outputs": [
        {
          "output_type": "stream",
          "text": [
            "[('According', 'VBG'), ('to', 'TO'), ('the', 'DT'), ('tire', 'NN'), ('pressure', 'NN'), ('decrease', 'NN'), ('detection', 'NN'), ('device', 'NN'), ('the', 'DT'), ('method', 'NN'), ('and', 'CC'), ('the', 'DT'), ('program', 'NN'), ('of', 'IN'), ('the', 'DT'), ('present', 'JJ'), ('invention', 'NN'), ('the', 'DT'), ('influence', 'NN'), ('of', 'IN'), ('the', 'DT'), ('periodic', 'JJ'), ('noise', 'NN'), ('can', 'MD'), ('be', 'VB'), ('eliminated', 'VBN'), ('and', 'CC'), ('the', 'DT'), ('estimate', 'NN'), ('precision', 'NN'), ('of', 'IN'), ('the', 'DT'), ('tire', 'NN'), ('resonance', 'NN'), ('frequency', 'NN'), ('can', 'MD'), ('be', 'VB'), ('improved', 'VBN')]\n"
          ],
          "name": "stdout"
        }
      ]
    },
    {
      "cell_type": "code",
      "metadata": {
        "colab": {
          "base_uri": "https://localhost:8080/"
        },
        "id": "3Ezv2R2vDP-S",
        "outputId": "1ad0c28c-4a1b-49a2-d9db-c4549c799821"
      },
      "source": [
        "text_p_phrase = text_p_blob.noun_phrases\n",
        "print(text_p_phrase)"
      ],
      "execution_count": 37,
      "outputs": [
        {
          "output_type": "stream",
          "text": [
            "['according', 'tire pressure', 'detection device', 'present invention', 'periodic noise', 'estimate precision', 'tire resonance frequency']\n"
          ],
          "name": "stdout"
        }
      ]
    },
    {
      "cell_type": "code",
      "metadata": {
        "colab": {
          "base_uri": "https://localhost:8080/"
        },
        "id": "UCvC4rY6HKSP",
        "outputId": "50122ef1-35c6-4627-e772-8d7ef1cd7004"
      },
      "source": [
        "for sentence in text_p_blob.sentences:\n",
        "    print(sentence.sentiment.polarity)"
      ],
      "execution_count": 38,
      "outputs": [
        {
          "output_type": "stream",
          "text": [
            "0.0\n"
          ],
          "name": "stdout"
        }
      ]
    },
    {
      "cell_type": "code",
      "metadata": {
        "id": "Imu-ULJXeevD"
      },
      "source": [
        " "
      ],
      "execution_count": null,
      "outputs": []
    },
    {
      "cell_type": "markdown",
      "metadata": {
        "id": "WcTAUay6sPit"
      },
      "source": [
        "## Cleaning data (considering duplicacy and null values)"
      ]
    },
    {
      "cell_type": "code",
      "metadata": {
        "id": "ft65cyDNg_c7"
      },
      "source": [
        "pos_text_target = pd.read_csv('/content/drive/MyDrive/dataset_patent/text_target/pos_text_target.csv',index_col= False)\n",
        "neg_text_target = pd.read_csv('/content/drive/MyDrive/dataset_patent/text_target/neg_text_target.csv',index_col= False)\n",
        "neut_text_target = pd.read_csv('/content/drive/MyDrive/dataset_patent/text_target/neut_text_target.csv',index_col= False)"
      ],
      "execution_count": 39,
      "outputs": []
    },
    {
      "cell_type": "code",
      "metadata": {
        "colab": {
          "base_uri": "https://localhost:8080/"
        },
        "id": "NK6N8f2yiIsT",
        "outputId": "9204f5a2-be6b-49ff-99d8-685b83db5adc"
      },
      "source": [
        "# Chcking sahpe of dataframe before preprocessing\n",
        "print(pos_text_target.shape)\n",
        "print(neg_text_target.shape)\n",
        "print(neut_text_target.shape)"
      ],
      "execution_count": 40,
      "outputs": [
        {
          "output_type": "stream",
          "text": [
            "(53475, 2)\n",
            "(89105, 2)\n",
            "(63055, 2)\n"
          ],
          "name": "stdout"
        }
      ]
    },
    {
      "cell_type": "code",
      "metadata": {
        "colab": {
          "base_uri": "https://localhost:8080/"
        },
        "id": "PC5nPG7ErNqS",
        "outputId": "0c5fa978-d019-4cd6-f8c0-175aa9c7cdee"
      },
      "source": [
        "# Checking null values in the table\n",
        "print(pos_text_target.isnull().values.any())\n",
        "print(neg_text_target.isnull().values.any())\n",
        "print(neut_text_target.isnull().values.any())\n"
      ],
      "execution_count": 41,
      "outputs": [
        {
          "output_type": "stream",
          "text": [
            "True\n",
            "True\n",
            "True\n"
          ],
          "name": "stdout"
        }
      ]
    },
    {
      "cell_type": "code",
      "metadata": {
        "id": "KUQ2uLuArnSu"
      },
      "source": [
        "# Dropping null values \n",
        "pos_text_target.dropna(axis = 0, inplace=True)\n",
        "neg_text_target.dropna(axis = 0, inplace=True)\n",
        "neut_text_target.dropna(axis = 0, inplace=True)\n"
      ],
      "execution_count": 42,
      "outputs": []
    },
    {
      "cell_type": "code",
      "metadata": {
        "colab": {
          "base_uri": "https://localhost:8080/"
        },
        "id": "6BF4LzS8sR48",
        "outputId": "7de4d1fd-e3d6-415b-cafb-fdb7765712c0"
      },
      "source": [
        "# Checking shape of frame after dropping null values \n",
        "print(pos_text_target.shape)\n",
        "print(neg_text_target.shape)\n",
        "print(neut_text_target.shape)"
      ],
      "execution_count": 43,
      "outputs": [
        {
          "output_type": "stream",
          "text": [
            "(53444, 2)\n",
            "(89030, 2)\n",
            "(62958, 2)\n"
          ],
          "name": "stdout"
        }
      ]
    },
    {
      "cell_type": "code",
      "metadata": {
        "colab": {
          "base_uri": "https://localhost:8080/",
          "height": 419
        },
        "id": "B51yTP--whUf",
        "outputId": "ef754954-8322-490c-e4b3-abf1db4b7212"
      },
      "source": [
        "# Checking wether there is duplicate values or not\n",
        "pos_text_target[pos_text_target.duplicated('text')]"
      ],
      "execution_count": 44,
      "outputs": [
        {
          "output_type": "execute_result",
          "data": {
            "text/html": [
              "<div>\n",
              "<style scoped>\n",
              "    .dataframe tbody tr th:only-of-type {\n",
              "        vertical-align: middle;\n",
              "    }\n",
              "\n",
              "    .dataframe tbody tr th {\n",
              "        vertical-align: top;\n",
              "    }\n",
              "\n",
              "    .dataframe thead th {\n",
              "        text-align: right;\n",
              "    }\n",
              "</style>\n",
              "<table border=\"1\" class=\"dataframe\">\n",
              "  <thead>\n",
              "    <tr style=\"text-align: right;\">\n",
              "      <th></th>\n",
              "      <th>text</th>\n",
              "      <th>target</th>\n",
              "    </tr>\n",
              "  </thead>\n",
              "  <tbody>\n",
              "    <tr>\n",
              "      <th>180</th>\n",
              "      <td>The heat-absorbing glass plate of the present ...</td>\n",
              "      <td>1</td>\n",
              "    </tr>\n",
              "    <tr>\n",
              "      <th>229</th>\n",
              "      <td>The present invention can provide a surface-en...</td>\n",
              "      <td>1</td>\n",
              "    </tr>\n",
              "    <tr>\n",
              "      <th>406</th>\n",
              "      <td>The present invention can process data accordi...</td>\n",
              "      <td>1</td>\n",
              "    </tr>\n",
              "    <tr>\n",
              "      <th>464</th>\n",
              "      <td>The present invention can provide a surface-en...</td>\n",
              "      <td>1</td>\n",
              "    </tr>\n",
              "    <tr>\n",
              "      <th>543</th>\n",
              "      <td>According to the above, mechanical characteris...</td>\n",
              "      <td>1</td>\n",
              "    </tr>\n",
              "    <tr>\n",
              "      <th>...</th>\n",
              "      <td>...</td>\n",
              "      <td>...</td>\n",
              "    </tr>\n",
              "    <tr>\n",
              "      <th>53462</th>\n",
              "      <td>According to each aspect stated above, it is p...</td>\n",
              "      <td>1</td>\n",
              "    </tr>\n",
              "    <tr>\n",
              "      <th>53465</th>\n",
              "      <td>The communication apparatus according to the p...</td>\n",
              "      <td>1</td>\n",
              "    </tr>\n",
              "    <tr>\n",
              "      <th>53468</th>\n",
              "      <td>According to several aspects of the present in...</td>\n",
              "      <td>1</td>\n",
              "    </tr>\n",
              "    <tr>\n",
              "      <th>53469</th>\n",
              "      <td>According to the present invention, a CIoT ter...</td>\n",
              "      <td>1</td>\n",
              "    </tr>\n",
              "    <tr>\n",
              "      <th>53470</th>\n",
              "      <td>According to the embodiments of the present in...</td>\n",
              "      <td>1</td>\n",
              "    </tr>\n",
              "  </tbody>\n",
              "</table>\n",
              "<p>5242 rows × 2 columns</p>\n",
              "</div>"
            ],
            "text/plain": [
              "                                                    text  target\n",
              "180    The heat-absorbing glass plate of the present ...       1\n",
              "229    The present invention can provide a surface-en...       1\n",
              "406    The present invention can process data accordi...       1\n",
              "464    The present invention can provide a surface-en...       1\n",
              "543    According to the above, mechanical characteris...       1\n",
              "...                                                  ...     ...\n",
              "53462  According to each aspect stated above, it is p...       1\n",
              "53465  The communication apparatus according to the p...       1\n",
              "53468  According to several aspects of the present in...       1\n",
              "53469  According to the present invention, a CIoT ter...       1\n",
              "53470  According to the embodiments of the present in...       1\n",
              "\n",
              "[5242 rows x 2 columns]"
            ]
          },
          "metadata": {
            "tags": []
          },
          "execution_count": 44
        }
      ]
    },
    {
      "cell_type": "code",
      "metadata": {
        "colab": {
          "base_uri": "https://localhost:8080/",
          "height": 69
        },
        "id": "PlXObtfPzD7x",
        "outputId": "06058a4a-1def-4fdb-b7f1-095e58dcac20"
      },
      "source": [
        "pos_text_target['text'][180]"
      ],
      "execution_count": 45,
      "outputs": [
        {
          "output_type": "execute_result",
          "data": {
            "application/vnd.google.colaboratory.intrinsic+json": {
              "type": "string"
            },
            "text/plain": [
              "'The heat-absorbing glass plate of the present invention satisfies both low solar transmittance and high visible light transmittance. Particularly, according to the present invention, it is possible to obtain a heat-absorbing glass having a ratio Tv/Te of the visible light transmittance higher than conventional glass, relative to the amount of total iron t-Fe2O3 as calculated as Fe2O3 as represented by mass % based on oxides.'"
            ]
          },
          "metadata": {
            "tags": []
          },
          "execution_count": 45
        }
      ]
    },
    {
      "cell_type": "code",
      "metadata": {
        "colab": {
          "base_uri": "https://localhost:8080/",
          "height": 111
        },
        "id": "qNKxb4cezxzU",
        "outputId": "fbd11d88-14a7-4fd6-a3cc-367bd05bc211"
      },
      "source": [
        "# Finding rows having same text data\n",
        "pos_text_target[pos_text_target['text']=='The heat-absorbing glass plate of the present invention satisfies both low solar transmittance and high visible light transmittance. Particularly, according to the present invention, it is possible to obtain a heat-absorbing glass having a ratio Tv/Te of the visible light transmittance higher than conventional glass, relative to the amount of total iron t-Fe2O3 as calculated as Fe2O3 as represented by mass % based on oxides.']"
      ],
      "execution_count": 46,
      "outputs": [
        {
          "output_type": "execute_result",
          "data": {
            "text/html": [
              "<div>\n",
              "<style scoped>\n",
              "    .dataframe tbody tr th:only-of-type {\n",
              "        vertical-align: middle;\n",
              "    }\n",
              "\n",
              "    .dataframe tbody tr th {\n",
              "        vertical-align: top;\n",
              "    }\n",
              "\n",
              "    .dataframe thead th {\n",
              "        text-align: right;\n",
              "    }\n",
              "</style>\n",
              "<table border=\"1\" class=\"dataframe\">\n",
              "  <thead>\n",
              "    <tr style=\"text-align: right;\">\n",
              "      <th></th>\n",
              "      <th>text</th>\n",
              "      <th>target</th>\n",
              "    </tr>\n",
              "  </thead>\n",
              "  <tbody>\n",
              "    <tr>\n",
              "      <th>179</th>\n",
              "      <td>The heat-absorbing glass plate of the present ...</td>\n",
              "      <td>1</td>\n",
              "    </tr>\n",
              "    <tr>\n",
              "      <th>180</th>\n",
              "      <td>The heat-absorbing glass plate of the present ...</td>\n",
              "      <td>1</td>\n",
              "    </tr>\n",
              "  </tbody>\n",
              "</table>\n",
              "</div>"
            ],
            "text/plain": [
              "                                                  text  target\n",
              "179  The heat-absorbing glass plate of the present ...       1\n",
              "180  The heat-absorbing glass plate of the present ...       1"
            ]
          },
          "metadata": {
            "tags": []
          },
          "execution_count": 46
        }
      ]
    },
    {
      "cell_type": "code",
      "metadata": {
        "colab": {
          "base_uri": "https://localhost:8080/"
        },
        "id": "yVw-9t6GsTdr",
        "outputId": "8c7f9d83-7463-4499-d52a-67733c31215a"
      },
      "source": [
        "# Removing duplicated rows and printing shape\n",
        "pos_text_target.drop_duplicates(keep='first',inplace=True)\n",
        "print(pos_text_target.shape)"
      ],
      "execution_count": 47,
      "outputs": [
        {
          "output_type": "stream",
          "text": [
            "(48202, 2)\n"
          ],
          "name": "stdout"
        }
      ]
    },
    {
      "cell_type": "code",
      "metadata": {
        "colab": {
          "base_uri": "https://localhost:8080/",
          "height": 419
        },
        "id": "BUOTG9VMwvq2",
        "outputId": "7125897c-f4cf-4190-b3f5-6ea48d954354"
      },
      "source": [
        "# Checking wether there is duplicate values or not\n",
        "neg_text_target[neg_text_target.duplicated('text')]"
      ],
      "execution_count": 48,
      "outputs": [
        {
          "output_type": "execute_result",
          "data": {
            "text/html": [
              "<div>\n",
              "<style scoped>\n",
              "    .dataframe tbody tr th:only-of-type {\n",
              "        vertical-align: middle;\n",
              "    }\n",
              "\n",
              "    .dataframe tbody tr th {\n",
              "        vertical-align: top;\n",
              "    }\n",
              "\n",
              "    .dataframe thead th {\n",
              "        text-align: right;\n",
              "    }\n",
              "</style>\n",
              "<table border=\"1\" class=\"dataframe\">\n",
              "  <thead>\n",
              "    <tr style=\"text-align: right;\">\n",
              "      <th></th>\n",
              "      <th>text</th>\n",
              "      <th>target</th>\n",
              "    </tr>\n",
              "  </thead>\n",
              "  <tbody>\n",
              "    <tr>\n",
              "      <th>310</th>\n",
              "      <td>However, the methods disclosed in Patent Liter...</td>\n",
              "      <td>-1</td>\n",
              "    </tr>\n",
              "    <tr>\n",
              "      <th>467</th>\n",
              "      <td>An aspect of the present invention provides a ...</td>\n",
              "      <td>-1</td>\n",
              "    </tr>\n",
              "    <tr>\n",
              "      <th>469</th>\n",
              "      <td>An object of the present invention is to provi...</td>\n",
              "      <td>-1</td>\n",
              "    </tr>\n",
              "    <tr>\n",
              "      <th>647</th>\n",
              "      <td>An object of the present invention is to provi...</td>\n",
              "      <td>-1</td>\n",
              "    </tr>\n",
              "    <tr>\n",
              "      <th>725</th>\n",
              "      <td>It is therefore an object of the present inven...</td>\n",
              "      <td>-1</td>\n",
              "    </tr>\n",
              "    <tr>\n",
              "      <th>...</th>\n",
              "      <td>...</td>\n",
              "      <td>...</td>\n",
              "    </tr>\n",
              "    <tr>\n",
              "      <th>89086</th>\n",
              "      <td>An object of the present invention is to provi...</td>\n",
              "      <td>-1</td>\n",
              "    </tr>\n",
              "    <tr>\n",
              "      <th>89090</th>\n",
              "      <td>The present invention has been made in effort ...</td>\n",
              "      <td>-1</td>\n",
              "    </tr>\n",
              "    <tr>\n",
              "      <th>89091</th>\n",
              "      <td>However, according to the technique described ...</td>\n",
              "      <td>-1</td>\n",
              "    </tr>\n",
              "    <tr>\n",
              "      <th>89095</th>\n",
              "      <td>In the LAA, when an unallocated frequency band...</td>\n",
              "      <td>-1</td>\n",
              "    </tr>\n",
              "    <tr>\n",
              "      <th>89100</th>\n",
              "      <td>The present invention has been made in an effo...</td>\n",
              "      <td>-1</td>\n",
              "    </tr>\n",
              "  </tbody>\n",
              "</table>\n",
              "<p>9499 rows × 2 columns</p>\n",
              "</div>"
            ],
            "text/plain": [
              "                                                    text  target\n",
              "310    However, the methods disclosed in Patent Liter...      -1\n",
              "467    An aspect of the present invention provides a ...      -1\n",
              "469    An object of the present invention is to provi...      -1\n",
              "647    An object of the present invention is to provi...      -1\n",
              "725    It is therefore an object of the present inven...      -1\n",
              "...                                                  ...     ...\n",
              "89086  An object of the present invention is to provi...      -1\n",
              "89090  The present invention has been made in effort ...      -1\n",
              "89091  However, according to the technique described ...      -1\n",
              "89095  In the LAA, when an unallocated frequency band...      -1\n",
              "89100  The present invention has been made in an effo...      -1\n",
              "\n",
              "[9499 rows x 2 columns]"
            ]
          },
          "metadata": {
            "tags": []
          },
          "execution_count": 48
        }
      ]
    },
    {
      "cell_type": "code",
      "metadata": {
        "colab": {
          "base_uri": "https://localhost:8080/",
          "height": 86
        },
        "id": "Qm75D3Tt1G1k",
        "outputId": "9c22e287-79b1-4fb7-c86f-1ce0e35ca76e"
      },
      "source": [
        "neg_text_target['text'][467]"
      ],
      "execution_count": 49,
      "outputs": [
        {
          "output_type": "execute_result",
          "data": {
            "application/vnd.google.colaboratory.intrinsic+json": {
              "type": "string"
            },
            "text/plain": [
              "\"An aspect of the present invention provides a method and apparatus for encoding an image, which can improve image compression efficiency.', 'Another aspect of the present invention provides a method and apparatus for decoding an image, which can improve image compression efficiency.', 'Still another aspect of the present invention provides a method and apparatus for inter prediction, which can improve image compression efficiency.', 'Still yet another aspect of the present invention provides a method and apparatus for deriving a temporal motion vector predictor, which can improve image compression efficiency.\""
            ]
          },
          "metadata": {
            "tags": []
          },
          "execution_count": 49
        }
      ]
    },
    {
      "cell_type": "code",
      "metadata": {
        "colab": {
          "base_uri": "https://localhost:8080/",
          "height": 142
        },
        "id": "eE2vctoo1Nt4",
        "outputId": "a92fe1dc-1ead-4d38-83d6-06f4ff25366a"
      },
      "source": [
        "# Finding rows having same text data\n",
        "neg_text_target[neg_text_target['text'] == \"An aspect of the present invention provides a method and apparatus for encoding an image, which can improve image compression efficiency.', 'Another aspect of the present invention provides a method and apparatus for decoding an image, which can improve image compression efficiency.', 'Still another aspect of the present invention provides a method and apparatus for inter prediction, which can improve image compression efficiency.', 'Still yet another aspect of the present invention provides a method and apparatus for deriving a temporal motion vector predictor, which can improve image compression efficiency.\"]"
      ],
      "execution_count": 50,
      "outputs": [
        {
          "output_type": "execute_result",
          "data": {
            "text/html": [
              "<div>\n",
              "<style scoped>\n",
              "    .dataframe tbody tr th:only-of-type {\n",
              "        vertical-align: middle;\n",
              "    }\n",
              "\n",
              "    .dataframe tbody tr th {\n",
              "        vertical-align: top;\n",
              "    }\n",
              "\n",
              "    .dataframe thead th {\n",
              "        text-align: right;\n",
              "    }\n",
              "</style>\n",
              "<table border=\"1\" class=\"dataframe\">\n",
              "  <thead>\n",
              "    <tr style=\"text-align: right;\">\n",
              "      <th></th>\n",
              "      <th>text</th>\n",
              "      <th>target</th>\n",
              "    </tr>\n",
              "  </thead>\n",
              "  <tbody>\n",
              "    <tr>\n",
              "      <th>228</th>\n",
              "      <td>An aspect of the present invention provides a ...</td>\n",
              "      <td>-1</td>\n",
              "    </tr>\n",
              "    <tr>\n",
              "      <th>467</th>\n",
              "      <td>An aspect of the present invention provides a ...</td>\n",
              "      <td>-1</td>\n",
              "    </tr>\n",
              "    <tr>\n",
              "      <th>88758</th>\n",
              "      <td>An aspect of the present invention provides a ...</td>\n",
              "      <td>-1</td>\n",
              "    </tr>\n",
              "  </tbody>\n",
              "</table>\n",
              "</div>"
            ],
            "text/plain": [
              "                                                    text  target\n",
              "228    An aspect of the present invention provides a ...      -1\n",
              "467    An aspect of the present invention provides a ...      -1\n",
              "88758  An aspect of the present invention provides a ...      -1"
            ]
          },
          "metadata": {
            "tags": []
          },
          "execution_count": 50
        }
      ]
    },
    {
      "cell_type": "code",
      "metadata": {
        "colab": {
          "base_uri": "https://localhost:8080/"
        },
        "id": "PXFdoBxYtH4y",
        "outputId": "2047bf23-adce-4db9-afa6-89c7c2d075b4"
      },
      "source": [
        "# Removing duplicated rows \n",
        "neg_text_target.drop_duplicates(keep='first',inplace=True)\n",
        "print(neg_text_target.shape)"
      ],
      "execution_count": 51,
      "outputs": [
        {
          "output_type": "stream",
          "text": [
            "(79531, 2)\n"
          ],
          "name": "stdout"
        }
      ]
    },
    {
      "cell_type": "code",
      "metadata": {
        "colab": {
          "base_uri": "https://localhost:8080/",
          "height": 419
        },
        "id": "pn7KGLLJtaRJ",
        "outputId": "17c6a187-8ece-4429-b355-f6898629112e"
      },
      "source": [
        "neut_text_target[neut_text_target.duplicated('text')]"
      ],
      "execution_count": 52,
      "outputs": [
        {
          "output_type": "execute_result",
          "data": {
            "text/html": [
              "<div>\n",
              "<style scoped>\n",
              "    .dataframe tbody tr th:only-of-type {\n",
              "        vertical-align: middle;\n",
              "    }\n",
              "\n",
              "    .dataframe tbody tr th {\n",
              "        vertical-align: top;\n",
              "    }\n",
              "\n",
              "    .dataframe thead th {\n",
              "        text-align: right;\n",
              "    }\n",
              "</style>\n",
              "<table border=\"1\" class=\"dataframe\">\n",
              "  <thead>\n",
              "    <tr style=\"text-align: right;\">\n",
              "      <th></th>\n",
              "      <th>text</th>\n",
              "      <th>target</th>\n",
              "    </tr>\n",
              "  </thead>\n",
              "  <tbody>\n",
              "    <tr>\n",
              "      <th>239</th>\n",
              "      <td>In order to solve the above-described problems...</td>\n",
              "      <td>0</td>\n",
              "    </tr>\n",
              "    <tr>\n",
              "      <th>755</th>\n",
              "      <td>The present inventors have conducted diligent ...</td>\n",
              "      <td>0</td>\n",
              "    </tr>\n",
              "    <tr>\n",
              "      <th>819</th>\n",
              "      <td>A transmission device of the present invention...</td>\n",
              "      <td>0</td>\n",
              "    </tr>\n",
              "    <tr>\n",
              "      <th>877</th>\n",
              "      <td>A fan according to an aspect of the present in...</td>\n",
              "      <td>0</td>\n",
              "    </tr>\n",
              "    <tr>\n",
              "      <th>1206</th>\n",
              "      <td>In the case with a grommet with its cylindrica...</td>\n",
              "      <td>0</td>\n",
              "    </tr>\n",
              "    <tr>\n",
              "      <th>...</th>\n",
              "      <td>...</td>\n",
              "      <td>...</td>\n",
              "    </tr>\n",
              "    <tr>\n",
              "      <th>63037</th>\n",
              "      <td>According to a first aspect of the present inv...</td>\n",
              "      <td>0</td>\n",
              "    </tr>\n",
              "    <tr>\n",
              "      <th>63040</th>\n",
              "      <td>In a first aspect, a radio terminal that is us...</td>\n",
              "      <td>0</td>\n",
              "    </tr>\n",
              "    <tr>\n",
              "      <th>63041</th>\n",
              "      <td>Embodiments of the present disclosure provide ...</td>\n",
              "      <td>0</td>\n",
              "    </tr>\n",
              "    <tr>\n",
              "      <th>63044</th>\n",
              "      <td>In order to solve the above-described problems...</td>\n",
              "      <td>0</td>\n",
              "    </tr>\n",
              "    <tr>\n",
              "      <th>63050</th>\n",
              "      <td>In accordance with an aspect of the present in...</td>\n",
              "      <td>0</td>\n",
              "    </tr>\n",
              "  </tbody>\n",
              "</table>\n",
              "<p>4915 rows × 2 columns</p>\n",
              "</div>"
            ],
            "text/plain": [
              "                                                    text  target\n",
              "239    In order to solve the above-described problems...       0\n",
              "755    The present inventors have conducted diligent ...       0\n",
              "819    A transmission device of the present invention...       0\n",
              "877    A fan according to an aspect of the present in...       0\n",
              "1206   In the case with a grommet with its cylindrica...       0\n",
              "...                                                  ...     ...\n",
              "63037  According to a first aspect of the present inv...       0\n",
              "63040  In a first aspect, a radio terminal that is us...       0\n",
              "63041  Embodiments of the present disclosure provide ...       0\n",
              "63044  In order to solve the above-described problems...       0\n",
              "63050  In accordance with an aspect of the present in...       0\n",
              "\n",
              "[4915 rows x 2 columns]"
            ]
          },
          "metadata": {
            "tags": []
          },
          "execution_count": 52
        }
      ]
    },
    {
      "cell_type": "code",
      "metadata": {
        "colab": {
          "base_uri": "https://localhost:8080/",
          "height": 69
        },
        "id": "qJElVxJ558CT",
        "outputId": "df232aa6-b792-48a6-d32c-d2ee15060551"
      },
      "source": [
        "neut_text_target['text'][239]"
      ],
      "execution_count": 53,
      "outputs": [
        {
          "output_type": "execute_result",
          "data": {
            "application/vnd.google.colaboratory.intrinsic+json": {
              "type": "string"
            },
            "text/plain": [
              "\"In order to solve the above-described problems, a method of producing a composite reinforcing material of the present invention comprises a step of kneading at least a graphite-based carbon material and a reinforcing material into a base material,', 'the graphite-based carbon material having a rhombohedral graphite layer (3R) and a hexagonal graphite layer (2H), wherein a Rate (3R) of the rhombohedral graphite layer (3R) and the hexagonal graphite layer (2H), based on an X-ray diffraction method, which is defined by following Equation 1 is 31% or more:\""
            ]
          },
          "metadata": {
            "tags": []
          },
          "execution_count": 53
        }
      ]
    },
    {
      "cell_type": "code",
      "metadata": {
        "colab": {
          "base_uri": "https://localhost:8080/",
          "height": 142
        },
        "id": "UQOW4tny6C_m",
        "outputId": "e1fa758d-9c91-45d3-9d9d-4284a8439d26"
      },
      "source": [
        "neut_text_target[neut_text_target['text']==\"In order to solve the above-described problems, a method of producing a composite reinforcing material of the present invention comprises a step of kneading at least a graphite-based carbon material and a reinforcing material into a base material,', 'the graphite-based carbon material having a rhombohedral graphite layer (3R) and a hexagonal graphite layer (2H), wherein a Rate (3R) of the rhombohedral graphite layer (3R) and the hexagonal graphite layer (2H), based on an X-ray diffraction method, which is defined by following Equation 1 is 31% or more:\"]"
      ],
      "execution_count": 54,
      "outputs": [
        {
          "output_type": "execute_result",
          "data": {
            "text/html": [
              "<div>\n",
              "<style scoped>\n",
              "    .dataframe tbody tr th:only-of-type {\n",
              "        vertical-align: middle;\n",
              "    }\n",
              "\n",
              "    .dataframe tbody tr th {\n",
              "        vertical-align: top;\n",
              "    }\n",
              "\n",
              "    .dataframe thead th {\n",
              "        text-align: right;\n",
              "    }\n",
              "</style>\n",
              "<table border=\"1\" class=\"dataframe\">\n",
              "  <thead>\n",
              "    <tr style=\"text-align: right;\">\n",
              "      <th></th>\n",
              "      <th>text</th>\n",
              "      <th>target</th>\n",
              "    </tr>\n",
              "  </thead>\n",
              "  <tbody>\n",
              "    <tr>\n",
              "      <th>238</th>\n",
              "      <td>In order to solve the above-described problems...</td>\n",
              "      <td>0</td>\n",
              "    </tr>\n",
              "    <tr>\n",
              "      <th>239</th>\n",
              "      <td>In order to solve the above-described problems...</td>\n",
              "      <td>0</td>\n",
              "    </tr>\n",
              "    <tr>\n",
              "      <th>59911</th>\n",
              "      <td>In order to solve the above-described problems...</td>\n",
              "      <td>0</td>\n",
              "    </tr>\n",
              "  </tbody>\n",
              "</table>\n",
              "</div>"
            ],
            "text/plain": [
              "                                                    text  target\n",
              "238    In order to solve the above-described problems...       0\n",
              "239    In order to solve the above-described problems...       0\n",
              "59911  In order to solve the above-described problems...       0"
            ]
          },
          "metadata": {
            "tags": []
          },
          "execution_count": 54
        }
      ]
    },
    {
      "cell_type": "code",
      "metadata": {
        "colab": {
          "base_uri": "https://localhost:8080/"
        },
        "id": "-b86KHcWw3Px",
        "outputId": "be8617c8-896e-4e7c-827f-bb4f3bd5cb10"
      },
      "source": [
        "# Removing duplicated rows \n",
        "neut_text_target.drop_duplicates(keep='first',inplace=True)\n",
        "print(neut_text_target.shape)"
      ],
      "execution_count": 55,
      "outputs": [
        {
          "output_type": "stream",
          "text": [
            "(58043, 2)\n"
          ],
          "name": "stdout"
        }
      ]
    },
    {
      "cell_type": "code",
      "metadata": {
        "colab": {
          "base_uri": "https://localhost:8080/"
        },
        "id": "WV9GJCV7w9Ry",
        "outputId": "92207c5e-ee8c-4d48-f02d-b557d8714afd"
      },
      "source": [
        "# Shape of frame after dropping values  \n",
        "\n",
        "print(pos_text_target.shape)\n",
        "print(neg_text_target.shape)\n",
        "print(neut_text_target.shape)"
      ],
      "execution_count": 56,
      "outputs": [
        {
          "output_type": "stream",
          "text": [
            "(48202, 2)\n",
            "(79531, 2)\n",
            "(58043, 2)\n"
          ],
          "name": "stdout"
        }
      ]
    },
    {
      "cell_type": "code",
      "metadata": {
        "id": "4s8mU5ae6Qc5"
      },
      "source": [
        "# Tokenization using keras - Takind 1 minutes on colab\n",
        "pos_text_target['keras_tokenized_sents'] = pos_text_target.apply(lambda row: text_to_word_sequence(row['text']), axis=1)\n",
        "neg_text_target['keras_tokenized_sents'] = neg_text_target.apply(lambda row: text_to_word_sequence(row['text']), axis=1)\n",
        "neut_text_target['keras_tokenized_sents'] = neut_text_target.apply(lambda row: text_to_word_sequence(row['text']), axis=1)\n"
      ],
      "execution_count": 57,
      "outputs": []
    },
    {
      "cell_type": "code",
      "metadata": {
        "id": "QVyIlVM97RgL"
      },
      "source": [
        "# Counting total words per text in dataframe \n",
        "pos_text_target['total_words_k_token'] = pos_text_target['keras_tokenized_sents'].apply(lambda x : len(x))\n",
        "neg_text_target['total_words_k_token'] = neg_text_target['keras_tokenized_sents'].apply(lambda x : len(x))\n",
        "neut_text_target['total_words_k_token'] = neut_text_target['keras_tokenized_sents'].apply(lambda x : len(x))\n"
      ],
      "execution_count": 58,
      "outputs": []
    },
    {
      "cell_type": "code",
      "metadata": {
        "colab": {
          "base_uri": "https://localhost:8080/"
        },
        "id": "Rd1SPnVIEobI",
        "outputId": "dc466067-5764-4c86-870d-25353171bb0a"
      },
      "source": [
        "pos_text_target['total_words_k_token'].describe()"
      ],
      "execution_count": 59,
      "outputs": [
        {
          "output_type": "execute_result",
          "data": {
            "text/plain": [
              "count    48202.00000\n",
              "mean       120.93353\n",
              "std        201.55039\n",
              "min          0.00000\n",
              "25%         35.00000\n",
              "50%         61.00000\n",
              "75%        120.00000\n",
              "max       3929.00000\n",
              "Name: total_words_k_token, dtype: float64"
            ]
          },
          "metadata": {
            "tags": []
          },
          "execution_count": 59
        }
      ]
    },
    {
      "cell_type": "code",
      "metadata": {
        "colab": {
          "base_uri": "https://localhost:8080/",
          "height": 487
        },
        "id": "GW4M-jAT8kOj",
        "outputId": "4a9cd4ad-93c6-4161-f2fb-5b4827d0e3e0"
      },
      "source": [
        "fig, ax = plt.subplots(figsize=(15, 7.5))\n",
        "sns.histplot(pos_text_target.total_words_k_token, kde=True, ax=ax, color='#48a832')\n",
        "plt.title('KDE plot for positive total words token')\n",
        "plt.show()"
      ],
      "execution_count": 60,
      "outputs": [
        {
          "output_type": "display_data",
          "data": {
            "image/png": "[encoded data removed]",
            "text/plain": [
              "<Figure size 1080x540 with 1 Axes>"
            ]
          },
          "metadata": {
            "tags": [],
            "needs_background": "light"
          }
        }
      ]
    },
    {
      "cell_type": "code",
      "metadata": {
        "colab": {
          "base_uri": "https://localhost:8080/",
          "height": 575
        },
        "id": "qOoMFZuj_ySo",
        "outputId": "c05d2d2c-3157-4bc1-ac35-a8fd5ac57945"
      },
      "source": [
        "fig, ax = plt.subplots(figsize=(15, 7.5))\n",
        "sns.boxplot(pos_text_target.total_words_k_token, ax=ax, color='#48a832')\n",
        "plt.title('Barplot for positive total words token')\n",
        "plt.show()"
      ],
      "execution_count": 61,
      "outputs": [
        {
          "output_type": "stream",
          "text": [
            "/usr/local/lib/python3.7/dist-packages/seaborn/_decorators.py:43: FutureWarning:\n",
            "\n",
            "Pass the following variable as a keyword arg: x. From version 0.12, the only valid positional argument will be `data`, and passing other arguments without an explicit keyword will result in an error or misinterpretation.\n",
            "\n"
          ],
          "name": "stderr"
        },
        {
          "output_type": "display_data",
          "data": {
            "image/png": "[encoded data removed]",
            "text/plain": [
              "<Figure size 1080x540 with 1 Axes>"
            ]
          },
          "metadata": {
            "tags": [],
            "needs_background": "light"
          }
        }
      ]
    },
    {
      "cell_type": "code",
      "metadata": {
        "colab": {
          "base_uri": "https://localhost:8080/"
        },
        "id": "MGGTG-iL8zI6",
        "outputId": "154a7a2f-2f62-4fff-b5cb-08002acbfdaf"
      },
      "source": [
        "# Counting total numbers of text having tokens greater than 500\n",
        "pos_text_target[pos_text_target['total_words_k_token'] > 500].count()  "
      ],
      "execution_count": 62,
      "outputs": [
        {
          "output_type": "execute_result",
          "data": {
            "text/plain": [
              "text                     1832\n",
              "target                   1832\n",
              "keras_tokenized_sents    1832\n",
              "total_words_k_token      1832\n",
              "dtype: int64"
            ]
          },
          "metadata": {
            "tags": []
          },
          "execution_count": 62
        }
      ]
    },
    {
      "cell_type": "code",
      "metadata": {
        "colab": {
          "base_uri": "https://localhost:8080/"
        },
        "id": "wCgPfoLqE2t-",
        "outputId": "f32a6a57-39a4-4380-c7f4-f5949f8c5474"
      },
      "source": [
        "neg_text_target['total_words_k_token'].describe()\n"
      ],
      "execution_count": 63,
      "outputs": [
        {
          "output_type": "execute_result",
          "data": {
            "text/plain": [
              "count    79531.000000\n",
              "mean       198.100288\n",
              "std        207.966357\n",
              "min          6.000000\n",
              "25%         75.000000\n",
              "50%        138.000000\n",
              "75%        244.000000\n",
              "max       4781.000000\n",
              "Name: total_words_k_token, dtype: float64"
            ]
          },
          "metadata": {
            "tags": []
          },
          "execution_count": 63
        }
      ]
    },
    {
      "cell_type": "code",
      "metadata": {
        "colab": {
          "base_uri": "https://localhost:8080/",
          "height": 487
        },
        "id": "LHseq_3F9Rmp",
        "outputId": "33d69495-672e-4ac1-9067-c5b018c8cac6"
      },
      "source": [
        "fig, ax = plt.subplots(figsize=(15, 7.5))\n",
        "sns.histplot(neg_text_target.total_words_k_token, kde=True, ax=ax, color='#a83248')\n",
        "plt.title('KDE plot for negative total words token')\n",
        "plt.show()"
      ],
      "execution_count": 64,
      "outputs": [
        {
          "output_type": "display_data",
          "data": {
            "image/png": "[encoded data removed]",
            "text/plain": [
              "<Figure size 1080x540 with 1 Axes>"
            ]
          },
          "metadata": {
            "tags": [],
            "needs_background": "light"
          }
        }
      ]
    },
    {
      "cell_type": "code",
      "metadata": {
        "colab": {
          "base_uri": "https://localhost:8080/",
          "height": 575
        },
        "id": "KPWXEPCE_9-D",
        "outputId": "88c97971-c2c3-4303-c37c-1f96dadc8d1e"
      },
      "source": [
        "fig, ax = plt.subplots(figsize=(15, 7.5))\n",
        "sns.boxplot(pos_text_target.total_words_k_token, ax=ax, color='#a83248')\n",
        "plt.title('Barplot for negative total words token')\n",
        "plt.show()"
      ],
      "execution_count": 65,
      "outputs": [
        {
          "output_type": "stream",
          "text": [
            "/usr/local/lib/python3.7/dist-packages/seaborn/_decorators.py:43: FutureWarning:\n",
            "\n",
            "Pass the following variable as a keyword arg: x. From version 0.12, the only valid positional argument will be `data`, and passing other arguments without an explicit keyword will result in an error or misinterpretation.\n",
            "\n"
          ],
          "name": "stderr"
        },
        {
          "output_type": "display_data",
          "data": {
            "image/png": "[encoded data removed]",
            "text/plain": [
              "<Figure size 1080x540 with 1 Axes>"
            ]
          },
          "metadata": {
            "tags": [],
            "needs_background": "light"
          }
        }
      ]
    },
    {
      "cell_type": "code",
      "metadata": {
        "colab": {
          "base_uri": "https://localhost:8080/"
        },
        "id": "zX5rVcnT-2ee",
        "outputId": "fa1c153b-d860-4fae-f889-0038b23609b0"
      },
      "source": [
        "# Counting total numbers of text having tokens greater than 500\n",
        "neg_text_target[neg_text_target['total_words_k_token'] > 500].count()  "
      ],
      "execution_count": 66,
      "outputs": [
        {
          "output_type": "execute_result",
          "data": {
            "text/plain": [
              "text                     5216\n",
              "target                   5216\n",
              "keras_tokenized_sents    5216\n",
              "total_words_k_token      5216\n",
              "dtype: int64"
            ]
          },
          "metadata": {
            "tags": []
          },
          "execution_count": 66
        }
      ]
    },
    {
      "cell_type": "code",
      "metadata": {
        "colab": {
          "base_uri": "https://localhost:8080/"
        },
        "id": "atq66UovE7fO",
        "outputId": "6d3ece63-22a0-41b6-8690-3b98481a1c1e"
      },
      "source": [
        "neut_text_target['total_words_k_token'].describe()\n"
      ],
      "execution_count": 67,
      "outputs": [
        {
          "output_type": "execute_result",
          "data": {
            "text/plain": [
              "count    58043.000000\n",
              "mean       593.475682\n",
              "std        564.331262\n",
              "min          2.000000\n",
              "25%        193.000000\n",
              "50%        410.000000\n",
              "75%        819.000000\n",
              "max       7317.000000\n",
              "Name: total_words_k_token, dtype: float64"
            ]
          },
          "metadata": {
            "tags": []
          },
          "execution_count": 67
        }
      ]
    },
    {
      "cell_type": "code",
      "metadata": {
        "colab": {
          "base_uri": "https://localhost:8080/",
          "height": 487
        },
        "id": "rkqwmBos--rV",
        "outputId": "3029fc99-eda1-4503-a11a-2fc5b41a3109"
      },
      "source": [
        "fig, ax = plt.subplots(figsize=(15, 7.5))\n",
        "sns.histplot(neut_text_target.total_words_k_token, kde=True, ax=ax, color='#3266a8')\n",
        "plt.title('KDE plot for neutral total words token')\n",
        "plt.show()"
      ],
      "execution_count": 68,
      "outputs": [
        {
          "output_type": "display_data",
          "data": {
            "image/png": "[encoded data removed]",
            "text/plain": [
              "<Figure size 1080x540 with 1 Axes>"
            ]
          },
          "metadata": {
            "tags": [],
            "needs_background": "light"
          }
        }
      ]
    },
    {
      "cell_type": "code",
      "metadata": {
        "colab": {
          "base_uri": "https://localhost:8080/",
          "height": 575
        },
        "id": "hrPkFpsa__D0",
        "outputId": "0b35b387-7954-4367-b166-a76122d87639"
      },
      "source": [
        "fig, ax = plt.subplots(figsize=(15, 7.5))\n",
        "sns.boxplot(pos_text_target.total_words_k_token, ax=ax, color='#3266a8')\n",
        "plt.title('Barplot for neutral total words token')\n",
        "plt.show()"
      ],
      "execution_count": 69,
      "outputs": [
        {
          "output_type": "stream",
          "text": [
            "/usr/local/lib/python3.7/dist-packages/seaborn/_decorators.py:43: FutureWarning:\n",
            "\n",
            "Pass the following variable as a keyword arg: x. From version 0.12, the only valid positional argument will be `data`, and passing other arguments without an explicit keyword will result in an error or misinterpretation.\n",
            "\n"
          ],
          "name": "stderr"
        },
        {
          "output_type": "display_data",
          "data": {
            "image/png": "[encoded data removed]",
            "text/plain": [
              "<Figure size 1080x540 with 1 Axes>"
            ]
          },
          "metadata": {
            "tags": [],
            "needs_background": "light"
          }
        }
      ]
    },
    {
      "cell_type": "code",
      "metadata": {
        "colab": {
          "base_uri": "https://localhost:8080/"
        },
        "id": "0DR6sqcW_FT0",
        "outputId": "7d373af3-6541-4c36-c3a7-8c6a678d7ecd"
      },
      "source": [
        "# Counting total numbers of text having tokens greater than 500\n",
        "neut_text_target[neut_text_target['total_words_k_token'] > 500].count()  "
      ],
      "execution_count": 70,
      "outputs": [
        {
          "output_type": "execute_result",
          "data": {
            "text/plain": [
              "text                     24763\n",
              "target                   24763\n",
              "keras_tokenized_sents    24763\n",
              "total_words_k_token      24763\n",
              "dtype: int64"
            ]
          },
          "metadata": {
            "tags": []
          },
          "execution_count": 70
        }
      ]
    },
    {
      "cell_type": "code",
      "metadata": {
        "id": "chZCSVYT_J-d"
      },
      "source": [
        ""
      ],
      "execution_count": null,
      "outputs": []
    }
  ]
}